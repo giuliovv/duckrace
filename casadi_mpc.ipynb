{
 "cells": [
  {
   "cell_type": "code",
   "execution_count": 1,
   "metadata": {},
   "outputs": [
    {
     "name": "stderr",
     "output_type": "stream",
     "text": [
      "DEBUG:commons:version: 6.2.4 *\n",
      "DEBUG:typing:version: 6.2.3\n",
      "DEBUG:duckietown_world:duckietown-world version 6.2.38 path /home/giulio/prog/.virtualenvs/RACE/lib/python3.8/site-packages\n",
      "DEBUG:geometry:PyGeometry-z6 version 2.1.4 path /home/giulio/prog/.virtualenvs/RACE/lib/python3.8/site-packages\n",
      "DEBUG:aido_schemas:aido-protocols version 6.0.59 path /home/giulio/prog/.virtualenvs/RACE/lib/python3.8/site-packages\n",
      "DEBUG:nodes:version 6.2.13 path /home/giulio/prog/.virtualenvs/RACE/lib/python3.8/site-packages pyparsing 3.0.6\n",
      "DEBUG:gym-duckietown:gym-duckietown version 6.1.30 path /home/giulio/prog/.virtualenvs/RACE/lib/python3.8/site-packages\n",
      "\n"
     ]
    },
    {
     "name": "stdout",
     "output_type": "stream",
     "text": [
      "{'audio': ('xaudio2', 'directsound', 'openal', 'pulse', 'silent'), 'debug_font': False, 'debug_gl': True, 'debug_gl_trace': False, 'debug_gl_trace_args': False, 'debug_graphics_batch': False, 'debug_lib': False, 'debug_media': False, 'debug_texture': False, 'debug_trace': False, 'debug_trace_args': False, 'debug_trace_depth': 1, 'debug_trace_flush': True, 'debug_win32': False, 'debug_x11': False, 'graphics_vbo': True, 'shadow_window': True, 'vsync': None, 'xsync': True, 'xlib_fullscreen_override_redirect': False, 'darwin_cocoa': True, 'search_local_libs': True, 'advanced_font_features': False, 'headless': False, 'headless_device': 0}\n"
     ]
    }
   ],
   "source": [
    "import gym_duckietown\n",
    "import matplotlib.pyplot as plt\n",
    "import numpy as np\n",
    "\n",
    "from gym_duckietown.simulator import Simulator\n",
    "from IPython import display as ipythondisplay\n",
    "from casadi import *\n",
    "\n",
    "from utils import get_trajectory, get_position"
   ]
  },
  {
   "cell_type": "code",
   "execution_count": 2,
   "metadata": {},
   "outputs": [],
   "source": [
    "# Hyperparameters\n",
    "test_results = True\n",
    "T = 15 # Time horizon\n",
    "N = 1 # Number of control intervals BEST UNTIL NOW: 25"
   ]
  },
  {
   "cell_type": "code",
   "execution_count": 3,
   "metadata": {},
   "outputs": [],
   "source": [
    "plt.rcParams['figure.figsize'] = [7, 7]"
   ]
  },
  {
   "cell_type": "code",
   "execution_count": 4,
   "metadata": {},
   "outputs": [],
   "source": [
    "#gym_duckietown is very chatty\n",
    "import logging\n",
    "gym_duckietown.logger.setLevel(logging.WARNING)"
   ]
  },
  {
   "cell_type": "code",
   "execution_count": 5,
   "metadata": {},
   "outputs": [
    {
     "name": "stderr",
     "output_type": "stream",
     "text": [
      "INFO:duckietown_world: data: /home/giulio/prog/.virtualenvs/RACE/lib/python3.8/site-packages/duckietown_world/data\n"
     ]
    }
   ],
   "source": [
    "env = Simulator(\"small_loop\",\n",
    "    full_transparency=True,\n",
    "    domain_rand=False,\n",
    "    user_tile_start=[1,0],\n",
    "    seed=42,\n",
    "    max_steps=float(\"inf\"),\n",
    ")"
   ]
  },
  {
   "cell_type": "code",
   "execution_count": 6,
   "metadata": {},
   "outputs": [],
   "source": [
    "env.unwrapped.start_pose = [[0.11699990272521976, 0, 0.41029359288296474], pi/2]"
   ]
  },
  {
   "cell_type": "code",
   "execution_count": 7,
   "metadata": {},
   "outputs": [
    {
     "name": "stderr",
     "output_type": "stream",
     "text": [
      "/home/giulio/prog/duckrace_simulator/utils.py:235: FutureWarning: arrays to stack must be passed as a \"sequence\" type such as list or tuple. Support for non-sequence iterables such as generators is deprecated as of NumPy 1.16 and will raise an error in the future.\n",
      "  points_fitted = np.vstack( spl(alpha) for spl in splines ).T\n"
     ]
    }
   ],
   "source": [
    "env.reset()\n",
    "traj = get_trajectory(env, samples=200)"
   ]
  },
  {
   "cell_type": "code",
   "execution_count": 8,
   "metadata": {},
   "outputs": [
    {
     "data": {
      "text/plain": [
       "Position(x=0.7019999027252197, y=1.3447064071170352, theta=1.5707963267948966)"
      ]
     },
     "execution_count": 8,
     "metadata": {},
     "output_type": "execute_result"
    }
   ],
   "source": [
    "pose = get_position(env)\n",
    "pose"
   ]
  },
  {
   "cell_type": "code",
   "execution_count": 9,
   "metadata": {},
   "outputs": [
    {
     "data": {
      "text/plain": [
       "<matplotlib.collections.PathCollection at 0x7fa2eae2cf10>"
      ]
     },
     "execution_count": 9,
     "metadata": {},
     "output_type": "execute_result"
    },
    {
     "data": {
      "image/png": "[encoded data removed]",
      "text/plain": [
       "<Figure size 504x504 with 1 Axes>"
      ]
     },
     "metadata": {
      "needs_background": "light"
     },
     "output_type": "display_data"
    }
   ],
   "source": [
    "from scipy import spatial\n",
    "distance,index = spatial.KDTree(traj).query([pose.x, pose.y])\n",
    "plt.plot(*traj.T, \"r--\")\n",
    "plt.scatter(pose.x, pose.y, c=\"r\")\n",
    "plt.scatter(traj[index,0], traj[index,1], c=\"g\")"
   ]
  },
  {
   "cell_type": "code",
   "execution_count": 10,
   "metadata": {},
   "outputs": [],
   "source": [
    "index = DM(index)\n",
    "traj = DM(traj)"
   ]
  },
  {
   "cell_type": "markdown",
   "metadata": {},
   "source": [
    "Initialize states, inputs, and system dynamic equation"
   ]
  },
  {
   "cell_type": "code",
   "execution_count": 11,
   "metadata": {},
   "outputs": [],
   "source": [
    "dt = 1.0 / env.frame_rate"
   ]
  },
  {
   "cell_type": "code",
   "execution_count": 12,
   "metadata": {},
   "outputs": [],
   "source": [
    "up = 5\n",
    "wp = 4\n",
    "# parameters for forced dynamics\n",
    "u_alpha_r = 1.5\n",
    "u_alpha_l = 1.5\n",
    "w_alpha_r = 15  # modify this for trim\n",
    "w_alpha_l = 15"
   ]
  },
  {
   "cell_type": "code",
   "execution_count": 13,
   "metadata": {},
   "outputs": [],
   "source": [
    "pose = get_position(env)"
   ]
  },
  {
   "cell_type": "markdown",
   "metadata": {},
   "source": [
    "DAE"
   ]
  },
  {
   "cell_type": "code",
   "execution_count": 14,
   "metadata": {},
   "outputs": [
    {
     "name": "stdout",
     "output_type": "stream",
     "text": [
      "[0.702, 1.34471, 1.5708, 0.1, 0]\n"
     ]
    }
   ],
   "source": [
    "# States\n",
    "x0 = MX.sym('x')\n",
    "y0 = MX.sym('y')\n",
    "th0 = MX.sym('th')\n",
    "v0 = MX.sym('v')\n",
    "w0 = MX.sym('w')\n",
    "x = vertcat(x0, y0, th0, v0, w0) # Always vertically concatenate the states --> [n_x,1]\n",
    "# Inputs\n",
    "wl = MX.sym('wl')\n",
    "wr = MX.sym('wr')\n",
    "u = vertcat(wl, wr) # Always vertically concatenate the inputs --> [n_u,1]\n",
    "# System dynamics (CAN BE NONLINEAR! ;))\n",
    "# x_long_dot_dot = -u1*v0 + u_alpha_r*wr + u_alpha_l*wl\n",
    "# w_dot_dot = -w1*w0 + w_alpha_r*wr - w_alpha_l*wl\n",
    "v1 = (1-up*dt)*v0 + u_alpha_r*dt*wr + u_alpha_l*dt*wl\n",
    "w1 = (1-wp*dt)*w0 + w_alpha_r*dt*wr - w_alpha_l*dt*wl\n",
    "x1 = x0 + v0*dt*np.cos(th0 + w0*dt/2)\n",
    "y1 = y0 + v0*dt*np.sin(th0 + w0*dt/2)\n",
    "theta1 = th0 + w0*dt\n",
    "dae = vertcat(x1, y1, theta1, v1, w1)\n",
    "F = Function('F',[x,u],[dae],['x','u'],['dae'])\n",
    "if test_results:\n",
    "    print(F([pose.x, pose.y, pose.theta, 0, 0], [1, 1]))"
   ]
  },
  {
   "cell_type": "code",
   "execution_count": 15,
   "metadata": {},
   "outputs": [
    {
     "data": {
      "image/png": "[encoded data removed]",
      "text/plain": [
       "<Figure size 504x504 with 1 Axes>"
      ]
     },
     "metadata": {
      "needs_background": "light"
     },
     "output_type": "display_data"
    }
   ],
   "source": [
    "N_test=20\n",
    "# Test the problem definition\n",
    "sim = F.mapaccum(N_test) # To call the F function N times\n",
    "x0 = [pose.x, pose.y, pose.theta, 0, 0]\n",
    "res = sim(x0, [1, 0.2])\n",
    "fig = plt.figure()\n",
    "tgrid = np.linspace(0,T,N)\n",
    "# plt.plot(tgrid, np.column_stack((x0, res)).T)\n",
    "plt.plot(res[0, :], res[1, :], 'r*')\n",
    "env.reset()\n",
    "for action in [[1, 0.2]]*(N_test+3):\n",
    "    obs, reward, done, info = env.step(action)\n",
    "    p = get_position(env)\n",
    "    plt.scatter(p.x, p.y, c='b')\n",
    "_ = env.reset()"
   ]
  },
  {
   "cell_type": "code",
   "execution_count": 23,
   "metadata": {},
   "outputs": [],
   "source": [
    "def mpc_loss(x):\n",
    "    \"\"\"\n",
    "    L(u) = sum_{t=0}^{N-1} Q * ||x_o_t - x_t||^2\n",
    "    \"\"\"\n",
    "    loss = 0\n",
    "    for t in range(0, N):\n",
    "        loss += (x[0, t] - traj[index, 0])**2 + (x[1, t] - traj[index, 1])**2\n",
    "    return loss\n"
   ]
  },
  {
   "cell_type": "code",
   "execution_count": 79,
   "metadata": {},
   "outputs": [
    {
     "data": {
      "text/plain": [
       "DM([[0.701776860211005, 1.4801950357059]])"
      ]
     },
     "execution_count": 79,
     "metadata": {},
     "output_type": "execute_result"
    }
   ],
   "source": [
    "traj[index, :]"
   ]
  },
  {
   "cell_type": "code",
   "execution_count": 180,
   "metadata": {},
   "outputs": [
    {
     "name": "stdout",
     "output_type": "stream",
     "text": [
      "iter      objective    inf_pr    inf_du     ||d||  lg(rg) ls\n",
      "   0   0.000000e+00  1.57e+00  0.00e+00  0.00e+00       -  0\n",
      "   1   1.808235e+00  4.44e-16  4.44e-16  1.57e+00       -  1\n",
      "MESSAGE(sqpmethod): Convergence achieved after 1 iterations\n"
     ]
    }
   ],
   "source": [
    "opti = Opti() # Special CasADi stack for optimization\n",
    "\n",
    "x = opti.variable(5,N+1)    # States with dimension (n_x, prediction_horizon+1) (x(0),...,x(N+1))\n",
    "u = opti.variable(2,N)      # Inputs with dimension (n_u, prediction_horizon) (u(0),...,u(N))\n",
    "p = opti.parameter(5,1)     # Parameter to set the initial state conditions (x(0))\n",
    "# idx = opti.parameter(1,1)   # Parameter to set the initial index\n",
    "\n",
    "Q, R = 1, 0\n",
    "obj = Q*sumsqr(x[1]) + R*sumsqr(u)   # Objective function: (NOT NECESSARILY quadratic!)\n",
    "\n",
    "opti.minimize(obj)          # Setup the problem \n",
    "\n",
    "# Constraints Definition\n",
    "\n",
    "# 1) System dynamics constraint over the prediction horizon\n",
    "for k in range(0,N):\n",
    "   opti.subject_to(x[:,k+1]==F(x[:,k],u[:,k])) # System dynamics is called through F, that we defined above as the DAE that maps (x,u) --> (x,next)\n",
    "    \n",
    "# 2) Additional states/inputs constraints \n",
    "opti.subject_to(vec(u)<=1)\n",
    "opti.subject_to(vec(u)>=-1)\n",
    "# 3) Force the state variable at instant 0 to be equal to the parameter value containing x0 value\n",
    "opti.subject_to(x[:,0]==p)\n",
    "\n",
    "opti.set_value(p,[pose.x, pose.y, pose.theta, 0, 0]) # Set the initial x0 value\n",
    "# opti.set_value(idx,index) # Set the initial index\n",
    "\n",
    "# Set additional options\n",
    "opts = dict()\n",
    "opts[\"qpsol\"] = \"qrqp\" # Solver! See the docs for information\n",
    "opts[\"print_header\"] = False\n",
    "opts[\"print_iteration\"] = True\n",
    "opts[\"print_time\"] = False\n",
    "opts[\"qpsol_options\"] = dict({\"print_iter\":False,\"print_header\":False,\"print_info\":False,\"error_on_fail\":False})\n",
    "opti.solver(\"sqpmethod\", opts)\n",
    "\n",
    "# If you want to test over 1 time horizon\n",
    "if test_results:\n",
    "    sol = opti.solve()"
   ]
  },
  {
   "cell_type": "markdown",
   "metadata": {},
   "source": [
    "Final Step: run the MPC control loop!\n",
    "N.B. Given that we want to simulate the system, e.g., 50 timesteps,\n",
    "1. at each time step the previosly defined optimization problem computes inputs u and predicted states x in the prediction horizon N.\n",
    "2. from computed sequence of inputs (u(0), ..., u(T)), ONLY u(0) value is selected to simulate the system\n",
    "3. (x0, u(0)) --> x_next == x(1)\n",
    "4. the loop restart"
   ]
  },
  {
   "cell_type": "code",
   "execution_count": 181,
   "metadata": {},
   "outputs": [],
   "source": [
    "# This instruction transfom all the Opti problem defined above into a callable function\n",
    "M = opti.to_function('M',[p],[u[:,0]],['p'],['u_opt'])"
   ]
  },
  {
   "cell_type": "code",
   "execution_count": 182,
   "metadata": {},
   "outputs": [
    {
     "name": "stdout",
     "output_type": "stream",
     "text": [
      "iter      objective    inf_pr    inf_du     ||d||  lg(rg) ls\n",
      "   0   0.000000e+00  1.57e+00  0.00e+00  0.00e+00       -  0\n",
      "   1   1.808235e+00  4.44e-16  4.44e-16  1.57e+00       -  1\n",
      "MESSAGE(sqpmethod): Convergence achieved after 1 iterations\n",
      "iter      objective    inf_pr    inf_du     ||d||  lg(rg) ls\n",
      "   0   0.000000e+00  1.57e+00  0.00e+00  0.00e+00       -  0\n",
      "   1   1.808235e+00  3.33e-03  4.44e-16  1.57e+00       -  1\n",
      "   2   1.808235e+00  2.22e-16 3.23e-308  3.33e-03       -  1\n",
      "MESSAGE(sqpmethod): Convergence achieved after 2 iterations\n",
      "iter      objective    inf_pr    inf_du     ||d||  lg(rg) ls\n",
      "   0   0.000000e+00  1.57e+00  0.00e+00  0.00e+00       -  0\n",
      "   1   1.817211e+00  6.11e-03 3.23e-308  1.57e+00       -  1\n",
      "   2   1.817211e+00  2.22e-16 3.23e-308  6.11e-03       -  1\n",
      "MESSAGE(sqpmethod): Convergence achieved after 2 iterations\n",
      "iter      objective    inf_pr    inf_du     ||d||  lg(rg) ls\n",
      "   0   0.000000e+00  1.57e+00  0.00e+00  0.00e+00       -  0\n",
      "   1   1.833725e+00  8.43e-03 3.23e-308  1.57e+00       -  1\n",
      "   2   1.833725e+00  2.22e-16 3.23e-308  8.43e-03       -  1\n",
      "MESSAGE(sqpmethod): Convergence achieved after 2 iterations\n",
      "iter      objective    inf_pr    inf_du     ||d||  lg(rg) ls\n",
      "   0   0.000000e+00  1.57e+00  0.00e+00  0.00e+00       -  0\n",
      "   1   1.856615e+00  1.04e-02  4.44e-16  1.57e+00       -  1\n",
      "   2   1.856615e+00  2.22e-16 3.23e-308  1.04e-02       -  1\n",
      "MESSAGE(sqpmethod): Convergence achieved after 2 iterations\n",
      "iter      objective    inf_pr    inf_du     ||d||  lg(rg) ls\n",
      "   0   0.000000e+00  1.57e+00  0.00e+00  0.00e+00       -  0\n",
      "   1   1.884941e+00  1.20e-02  4.44e-16  1.57e+00       -  1\n",
      "   2   1.884941e+00  2.22e-16 3.23e-308  1.20e-02       -  1\n",
      "MESSAGE(sqpmethod): Convergence achieved after 2 iterations\n",
      "iter      objective    inf_pr    inf_du     ||d||  lg(rg) ls\n",
      "   0   0.000000e+00  1.57e+00  0.00e+00  0.00e+00       -  0\n",
      "   1   1.917932e+00  1.33e-02  4.44e-16  1.57e+00       -  1\n",
      "   2   1.917932e+00  2.22e-16 3.23e-308  1.33e-02       -  1\n",
      "MESSAGE(sqpmethod): Convergence achieved after 2 iterations\n",
      "iter      objective    inf_pr    inf_du     ||d||  lg(rg) ls\n",
      "   0   0.000000e+00  1.57e+00  0.00e+00  0.00e+00       -  0\n",
      "   1   1.954953e+00  1.44e-02  4.44e-16  1.57e+00       -  1\n",
      "   2   1.954953e+00  2.22e-16 3.23e-308  1.44e-02       -  1\n",
      "MESSAGE(sqpmethod): Convergence achieved after 2 iterations\n",
      "iter      objective    inf_pr    inf_du     ||d||  lg(rg) ls\n",
      "   0   0.000000e+00  1.57e+00  0.00e+00  0.00e+00       -  0\n",
      "   1   1.995480e+00  1.53e-02 3.23e-308  1.57e+00       -  1\n",
      "   2   1.995480e+00  2.22e-16 3.23e-308  1.53e-02       -  1\n",
      "MESSAGE(sqpmethod): Convergence achieved after 2 iterations\n",
      "iter      objective    inf_pr    inf_du     ||d||  lg(rg) ls\n",
      "   0   0.000000e+00  1.57e+00  0.00e+00  0.00e+00       -  0\n",
      "   1   2.039079e+00  1.61e-02  4.44e-16  1.57e+00       -  1\n",
      "   2   2.039079e+00  2.22e-16 3.23e-308  1.61e-02       -  1\n",
      "MESSAGE(sqpmethod): Convergence achieved after 2 iterations\n",
      "iter      objective    inf_pr    inf_du     ||d||  lg(rg) ls\n",
      "   0   0.000000e+00  1.57e+00  0.00e+00  0.00e+00       -  0\n",
      "   1   2.085387e+00  1.68e-02  4.44e-16  1.57e+00       -  1\n",
      "   2   2.085387e+00  2.22e-16 3.23e-308  1.68e-02       -  1\n",
      "MESSAGE(sqpmethod): Convergence achieved after 2 iterations\n",
      "iter      objective    inf_pr    inf_du     ||d||  lg(rg) ls\n",
      "   0   0.000000e+00  1.57e+00  0.00e+00  0.00e+00       -  0\n",
      "   1   2.134103e+00  1.73e-02 3.23e-308  1.57e+00       -  1\n",
      "   2   2.134103e+00  2.22e-16 3.23e-308  1.73e-02       -  1\n",
      "MESSAGE(sqpmethod): Convergence achieved after 2 iterations\n",
      "iter      objective    inf_pr    inf_du     ||d||  lg(rg) ls\n",
      "   0   0.000000e+00  1.57e+00  0.00e+00  0.00e+00       -  0\n",
      "   1   2.184972e+00  1.78e-02  4.44e-16  1.57e+00       -  1\n",
      "   2   2.184972e+00  2.22e-16 3.23e-308  1.78e-02       -  1\n",
      "MESSAGE(sqpmethod): Convergence achieved after 2 iterations\n",
      "iter      objective    inf_pr    inf_du     ||d||  lg(rg) ls\n",
      "   0   0.000000e+00  1.57e+00  0.00e+00  0.00e+00       -  0\n",
      "   1   2.237783e+00  1.81e-02  4.44e-16  1.57e+00       -  1\n",
      "   2   2.237783e+00  2.22e-16 3.23e-308  1.81e-02       -  1\n",
      "MESSAGE(sqpmethod): Convergence achieved after 2 iterations\n",
      "iter      objective    inf_pr    inf_du     ||d||  lg(rg) ls\n",
      "   0   0.000000e+00  1.57e+00  0.00e+00  0.00e+00       -  0\n",
      "   1   2.292356e+00  1.84e-02 3.23e-308  1.57e+00       -  1\n",
      "   2   2.292356e+00  2.22e-16 3.23e-308  1.84e-02       -  1\n",
      "MESSAGE(sqpmethod): Convergence achieved after 2 iterations\n",
      "iter      objective    inf_pr    inf_du     ||d||  lg(rg) ls\n",
      "   0   0.000000e+00  1.57e+00  0.00e+00  0.00e+00       -  0\n",
      "   1   2.348541e+00  1.87e-02  4.44e-16  1.57e+00       -  1\n",
      "   2   2.348541e+00  2.22e-16 3.23e-308  1.87e-02       -  1\n",
      "MESSAGE(sqpmethod): Convergence achieved after 2 iterations\n",
      "iter      objective    inf_pr    inf_du     ||d||  lg(rg) ls\n",
      "   0   0.000000e+00  1.57e+00  0.00e+00  0.00e+00       -  0\n",
      "   1   2.406212e+00  1.89e-02  4.44e-16  1.57e+00       -  1\n",
      "   2   2.406212e+00  2.22e-16 3.23e-308  1.89e-02       -  1\n",
      "MESSAGE(sqpmethod): Convergence achieved after 2 iterations\n",
      "iter      objective    inf_pr    inf_du     ||d||  lg(rg) ls\n",
      "   0   0.000000e+00  1.57e+00  0.00e+00  0.00e+00       -  0\n",
      "   1   2.465262e+00  1.91e-02  4.44e-16  1.57e+00       -  1\n",
      "   2   2.465262e+00  2.22e-16 3.23e-308  1.91e-02       -  1\n",
      "MESSAGE(sqpmethod): Convergence achieved after 2 iterations\n",
      "iter      objective    inf_pr    inf_du     ||d||  lg(rg) ls\n",
      "   0   0.000000e+00  1.59e+00  0.00e+00  0.00e+00       -  0\n",
      "   1   2.525600e+00  1.92e-02 3.23e-308  1.59e+00       -  1\n",
      "   2   2.525600e+00  2.22e-16 3.23e-308  1.92e-02       -  1\n",
      "MESSAGE(sqpmethod): Convergence achieved after 2 iterations\n",
      "iter      objective    inf_pr    inf_du     ||d||  lg(rg) ls\n",
      "   0   0.000000e+00  1.61e+00  0.00e+00  0.00e+00       -  0\n",
      "   1   2.587152e+00  1.94e-02 3.23e-308  1.61e+00       -  1\n",
      "   2   2.587152e+00  2.22e-16 3.23e-308  1.94e-02       -  1\n",
      "MESSAGE(sqpmethod): Convergence achieved after 2 iterations\n"
     ]
    }
   ],
   "source": [
    "# MPC loop\n",
    "X_log = np.empty((5,0))\n",
    "U_log = np.array([])\n",
    "\n",
    "x = [pose.x, pose.y, pose.theta, 0, 0]\n",
    "for i in range(20):\n",
    "    u = M(x)\n",
    "\n",
    "    U_log = np.append(U_log, u)\n",
    "    X_log = np.column_stack((X_log, x))\n",
    "\n",
    "    # simulate\n",
    "    x = F(x,u)"
   ]
  },
  {
   "cell_type": "code",
   "execution_count": 183,
   "metadata": {},
   "outputs": [
    {
     "data": {
      "text/plain": [
       "[<matplotlib.lines.Line2D at 0x7fa2db9ee4c0>]"
      ]
     },
     "execution_count": 183,
     "metadata": {},
     "output_type": "execute_result"
    },
    {
     "data": {
      "image/png": "[encoded data removed]",
      "text/plain": [
       "<Figure size 504x504 with 1 Axes>"
      ]
     },
     "metadata": {
      "needs_background": "light"
     },
     "output_type": "display_data"
    }
   ],
   "source": [
    "plt.plot(traj[:,0], traj[:,1], \"b--\")\n",
    "plt.plot(traj[index,0], traj[index,1], 'go')\n",
    "plt.plot(X_log[0,:], X_log[1,:], 'ro')"
   ]
  },
  {
   "cell_type": "markdown",
   "metadata": {},
   "source": [
    "If you want to save the MPC controller, i.e. the M function for later use, you can do it!"
   ]
  },
  {
   "cell_type": "code",
   "execution_count": 184,
   "metadata": {},
   "outputs": [
    {
     "name": "stdout",
     "output_type": "stream",
     "text": [
      "iter      objective    inf_pr    inf_du     ||d||  lg(rg) ls\n",
      "   0   0.000000e+00  1.57e+00  0.00e+00  0.00e+00       -  0\n",
      "   1   1.808235e+00  4.44e-16  4.44e-16  1.57e+00       -  1\n",
      "MESSAGE(sqpmethod): Convergence achieved after 1 iterations\n",
      "[1, 1]\n",
      "iter      objective    inf_pr    inf_du     ||d||  lg(rg) ls\n",
      "   0   0.000000e+00  1.57e+00  0.00e+00  0.00e+00       -  0\n",
      "   1   1.808235e+00  4.44e-16  4.44e-16  1.57e+00       -  1\n",
      "MESSAGE(sqpmethod): Convergence achieved after 1 iterations\n",
      "[1, 1]\n"
     ]
    }
   ],
   "source": [
    "M.save('M.casadi')\n",
    "M2 = Function.load('M.casadi')\n",
    "DM.set_precision(15)\n",
    "print(M(x0))\n",
    "print(M2(x0))"
   ]
  },
  {
   "cell_type": "code",
   "execution_count": null,
   "metadata": {},
   "outputs": [],
   "source": []
  }
 ],
 "metadata": {
  "interpreter": {
   "hash": "9c0b2e427cbb92844ba111dcff82d8b9613a09f4bc427dee816f26f3945d58ab"
  },
  "kernelspec": {
   "display_name": "Python 3.8.8 64-bit ('rl-mpc': conda)",
   "language": "python",
   "name": "python3"
  },
  "language_info": {
   "codemirror_mode": {
    "name": "ipython",
    "version": 3
   },
   "file_extension": ".py",
   "mimetype": "text/x-python",
   "name": "python",
   "nbconvert_exporter": "python",
   "pygments_lexer": "ipython3",
   "version": "3.8.10"
  },
  "orig_nbformat": 4
 },
 "nbformat": 4,
 "nbformat_minor": 2
}
