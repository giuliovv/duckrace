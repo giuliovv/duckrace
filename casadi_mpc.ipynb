{
 "cells": [
  {
   "cell_type": "code",
   "execution_count": 90,
   "metadata": {},
   "outputs": [],
   "source": [
    "import gym_duckietown\n",
    "import matplotlib.pyplot as plt\n",
    "import numpy as np\n",
    "\n",
    "from gym_duckietown.simulator import Simulator\n",
    "from IPython import display as ipythondisplay\n",
    "from casadi import *\n",
    "\n",
    "from utils import get_trajectory, get_position, get_casadi_interpolation"
   ]
  },
  {
   "cell_type": "code",
   "execution_count": 91,
   "metadata": {},
   "outputs": [],
   "source": [
    "plt.rcParams['figure.figsize'] = [7, 7]"
   ]
  },
  {
   "cell_type": "code",
   "execution_count": 92,
   "metadata": {},
   "outputs": [],
   "source": [
    "#gym_duckietown is very chatty\n",
    "import logging\n",
    "gym_duckietown.logger.setLevel(logging.WARNING)"
   ]
  },
  {
   "cell_type": "code",
   "execution_count": 93,
   "metadata": {},
   "outputs": [],
   "source": [
    "env = Simulator(\"small_loop\",\n",
    "    full_transparency=True,\n",
    "    domain_rand=False,\n",
    "    user_tile_start=[1,0],\n",
    "    seed=42,\n",
    "    max_steps=float(\"inf\"),\n",
    ")"
   ]
  },
  {
   "cell_type": "code",
   "execution_count": 94,
   "metadata": {},
   "outputs": [],
   "source": [
    "env.unwrapped.start_pose = [[0.11699990272521976, 0, 0.28], 0]"
   ]
  },
  {
   "cell_type": "code",
   "execution_count": 95,
   "metadata": {},
   "outputs": [
    {
     "name": "stderr",
     "output_type": "stream",
     "text": [
      "/home/giulio/prog/duckrace_simulator/utils.py:231: FutureWarning: arrays to stack must be passed as a \"sequence\" type such as list or tuple. Support for non-sequence iterables such as generators is deprecated as of NumPy 1.16 and will raise an error in the future.\n",
      "  points_fitted = np.vstack( spl(alpha) for spl in splines ).T\n"
     ]
    },
    {
     "data": {
      "text/plain": [
       "[<matplotlib.lines.Line2D at 0x7f844c2e0ac0>]"
      ]
     },
     "execution_count": 95,
     "metadata": {},
     "output_type": "execute_result"
    },
    {
     "data": {
      "image/png": "[encoded data removed]",
      "text/plain": [
       "<Figure size 504x504 with 1 Axes>"
      ]
     },
     "metadata": {
      "needs_background": "light"
     },
     "output_type": "display_data"
    }
   ],
   "source": [
    "env.reset()\n",
    "traj = get_trajectory(env, samples=200)\n",
    "plt.plot(*traj.T)"
   ]
  },
  {
   "cell_type": "code",
   "execution_count": 96,
   "metadata": {},
   "outputs": [
    {
     "data": {
      "text/plain": [
       "Position(x=0.7019999027252197, y=1.4749999999999999, theta=0)"
      ]
     },
     "execution_count": 96,
     "metadata": {},
     "output_type": "execute_result"
    }
   ],
   "source": [
    "pose = get_position(env)\n",
    "pose"
   ]
  },
  {
   "cell_type": "code",
   "execution_count": 97,
   "metadata": {},
   "outputs": [
    {
     "name": "stderr",
     "output_type": "stream",
     "text": [
      "/home/giulio/prog/duckrace_simulator/utils.py:231: FutureWarning: arrays to stack must be passed as a \"sequence\" type such as list or tuple. Support for non-sequence iterables such as generators is deprecated as of NumPy 1.16 and will raise an error in the future.\n",
      "  points_fitted = np.vstack( spl(alpha) for spl in splines ).T\n"
     ]
    }
   ],
   "source": [
    "spline_x, spline_y, _, _, x_origin, y_origin = get_casadi_interpolation(env)"
   ]
  },
  {
   "cell_type": "code",
   "execution_count": 98,
   "metadata": {},
   "outputs": [],
   "source": [
    "# Hyperparameters\n",
    "test_results = True\n",
    "T = 10 # Time horizon\n",
    "N = 20 # Number of control intervals"
   ]
  },
  {
   "cell_type": "markdown",
   "metadata": {},
   "source": [
    "Initialize states, inputs, and system dynamic equation"
   ]
  },
  {
   "cell_type": "code",
   "execution_count": 99,
   "metadata": {},
   "outputs": [],
   "source": [
    "dt = 1.0 / env.frame_rate"
   ]
  },
  {
   "cell_type": "code",
   "execution_count": 100,
   "metadata": {},
   "outputs": [],
   "source": [
    "u1 = 5\n",
    "w1 = 4\n",
    "# parameters for forced dynamics\n",
    "u_alpha_r = 1.5\n",
    "u_alpha_l = 1.5\n",
    "w_alpha_r = 15  # modify this for trim\n",
    "w_alpha_l = 15"
   ]
  },
  {
   "cell_type": "code",
   "execution_count": 101,
   "metadata": {},
   "outputs": [],
   "source": [
    "# # States\n",
    "# x0 = MX.sym('x')\n",
    "# y0 = MX.sym('y')\n",
    "# th0 = MX.sym('th')\n",
    "# v0 = MX.sym('v')\n",
    "# w0 = MX.sym('w')\n",
    "# x = vertcat(x0, y0, th0, v0, w0) # Always vertically concatenate the states --> [n_x,1]\n",
    "# # Inputs\n",
    "# wl = MX.sym('wl')\n",
    "# wr = MX.sym('wr')\n",
    "# u = vertcat(wl, wr) # Always vertically concatenate the inputs --> [n_u,1]\n",
    "# # System dynamics (CAN BE NONLINEAR! ;))\n",
    "# x_long_dot_dot = -u1*v0 + u_alpha_r*wr + u_alpha_l*wl\n",
    "# w_dot_dot = -w1*w0 + w_alpha_r*wr - w_alpha_l*wl\n",
    "# x_dot_dot = x_long_dot_dot*cos(th0)\n",
    "# y_dot_dot = x_long_dot_dot*sin(th0)\n",
    "# ode = vertcat(x_long_dot_dot, w_dot_dot, x_dot_dot, y_dot_dot) # ORDINARY DIFFERENTIAL EQUATION: Always vertically concatenate dynamic equations --> [n_x,1]\n",
    "# f = Function('f',[x,u],[ode],['x','u'],['ode'])\n",
    "# if test_results:\n",
    "#     print(f([0.702, 1.344706, 0, 0, 0], [1, 1]))"
   ]
  },
  {
   "cell_type": "code",
   "execution_count": 102,
   "metadata": {},
   "outputs": [],
   "source": [
    "pose = get_position(env)"
   ]
  },
  {
   "cell_type": "markdown",
   "metadata": {},
   "source": [
    "Directly dae?"
   ]
  },
  {
   "cell_type": "code",
   "execution_count": 103,
   "metadata": {},
   "outputs": [
    {
     "name": "stdout",
     "output_type": "stream",
     "text": [
      "[0.70199990272522, 1.475, 0, 0.1, 0]\n"
     ]
    }
   ],
   "source": [
    "# States\n",
    "x0 = MX.sym('x')\n",
    "y0 = MX.sym('y')\n",
    "th0 = MX.sym('th')\n",
    "v0 = MX.sym('v')\n",
    "w0 = MX.sym('w')\n",
    "x = vertcat(x0, y0, th0, v0, w0) # Always vertically concatenate the states --> [n_x,1]\n",
    "# Inputs\n",
    "wl = MX.sym('wl')\n",
    "wr = MX.sym('wr')\n",
    "u = vertcat(wl, wr) # Always vertically concatenate the inputs --> [n_u,1]\n",
    "# System dynamics (CAN BE NONLINEAR! ;))\n",
    "x_long_dot_dot = -u1*v0 + u_alpha_r*wr + u_alpha_l*wl\n",
    "w_dot_dot = -w1*w0 + w_alpha_r*wr - w_alpha_l*wl\n",
    "v1 = v0 + x_long_dot_dot*dt\n",
    "w1 = w0 + w_dot_dot*dt\n",
    "x1 = x0 + v0*dt*np.cos(th0 + w0*dt/2)\n",
    "y1 = y0 + v0*dt*np.sin(th0 + w0*dt/2)\n",
    "theta1 = th0 + w0*dt\n",
    "dae = vertcat(x1, y1, theta1, v1, w1)\n",
    "F = Function('F',[x,u],[dae],['x','u'],['dae'])\n",
    "if test_results:\n",
    "    print(F([pose.x, pose.y, pose.theta, 0, 0], [1, 1]))"
   ]
  },
  {
   "cell_type": "code",
   "execution_count": 104,
   "metadata": {},
   "outputs": [
    {
     "data": {
      "text/plain": [
       "[<matplotlib.lines.Line2D at 0x7f844c2c49d0>,\n",
       " <matplotlib.lines.Line2D at 0x7f844c2c4a00>,\n",
       " <matplotlib.lines.Line2D at 0x7f844c2c4b50>,\n",
       " <matplotlib.lines.Line2D at 0x7f844c2c4c70>,\n",
       " <matplotlib.lines.Line2D at 0x7f844c2c4d90>,\n",
       " <matplotlib.lines.Line2D at 0x7f844c2c4eb0>,\n",
       " <matplotlib.lines.Line2D at 0x7f844c2c4fd0>,\n",
       " <matplotlib.lines.Line2D at 0x7f844c2d1130>,\n",
       " <matplotlib.lines.Line2D at 0x7f844c2d1250>,\n",
       " <matplotlib.lines.Line2D at 0x7f844c2d1370>,\n",
       " <matplotlib.lines.Line2D at 0x7f844c2d1490>,\n",
       " <matplotlib.lines.Line2D at 0x7f844c2d15b0>,\n",
       " <matplotlib.lines.Line2D at 0x7f844c2d16d0>,\n",
       " <matplotlib.lines.Line2D at 0x7f844c2d17f0>,\n",
       " <matplotlib.lines.Line2D at 0x7f844c2d1910>,\n",
       " <matplotlib.lines.Line2D at 0x7f844c2d1a30>,\n",
       " <matplotlib.lines.Line2D at 0x7f844c2d1b50>,\n",
       " <matplotlib.lines.Line2D at 0x7f844c2d1c70>,\n",
       " <matplotlib.lines.Line2D at 0x7f844c2d1d90>,\n",
       " <matplotlib.lines.Line2D at 0x7f844c2d1eb0>]"
      ]
     },
     "execution_count": 104,
     "metadata": {},
     "output_type": "execute_result"
    },
    {
     "data": {
      "image/png": "[encoded data removed]",
      "text/plain": [
       "<Figure size 504x504 with 1 Axes>"
      ]
     },
     "metadata": {
      "needs_background": "light"
     },
     "output_type": "display_data"
    }
   ],
   "source": [
    "# Test the problem definition\n",
    "sim = F.mapaccum(N) # To call the F function N times\n",
    "x0 = [pose.x, pose.y, pose.theta, 0, 0]\n",
    "res = sim(x0, [1, 0.2]) # Example: u1 = cosine excitation\n",
    "fig = plt.figure()\n",
    "tgrid = np.linspace(0,T,N+1)\n",
    "# plt.plot(tgrid, np.column_stack((x0, res)).T)\n",
    "plt.plot(res[0, :], res[1, :], 'ro')"
   ]
  },
  {
   "cell_type": "code",
   "execution_count": 105,
   "metadata": {},
   "outputs": [],
   "source": [
    "from scipy.sparse import csc_matrix\n",
    "U = MX.sym('U', 2, N)\n",
    "X1 = sim(x0,U)[0,:]\n",
    "J = jacobian(X1,U)"
   ]
  },
  {
   "cell_type": "code",
   "execution_count": 106,
   "metadata": {},
   "outputs": [
    {
     "data": {
      "text/plain": [
       "<matplotlib.image.AxesImage at 0x7f844a6581c0>"
      ]
     },
     "execution_count": 106,
     "metadata": {},
     "output_type": "execute_result"
    },
    {
     "data": {
      "image/png": "[encoded data removed]",
      "text/plain": [
       "<Figure size 504x504 with 1 Axes>"
      ]
     },
     "metadata": {
      "needs_background": "light"
     },
     "output_type": "display_data"
    }
   ],
   "source": [
    "Jf = Function('Jf',[U],[J])\n",
    "plt.imshow(Jf(0))"
   ]
  },
  {
   "cell_type": "code",
   "execution_count": 107,
   "metadata": {},
   "outputs": [],
   "source": [
    "def mpc_loss(x):\n",
    "    \"\"\"\n",
    "    L(u) = sum_{t=0}^{N-1} Q * ||x_o_t - x_t||^2 + R * ||u_t||^2\n",
    "    \"\"\"\n",
    "    loss = 0\n",
    "    for t in range(0, N):\n",
    "        xi, yi = x[0, t], x[1, t]\n",
    "        r = sqrt((xi-x_origin)**2 + (yi-y_origin)**2)\n",
    "        angle = arccos((xi-x_origin)/r)\n",
    "        angle = if_else(yi-y_origin < 0, 2*pi-angle, angle)\n",
    "        x_ref, y_ref = spline_x(angle), spline_y(angle)\n",
    "        loss += ((xi - x_ref)**2 + (yi - y_ref)**2)*1e-3\n",
    "\n",
    "    return loss\n"
   ]
  },
  {
   "cell_type": "code",
   "execution_count": 108,
   "metadata": {},
   "outputs": [
    {
     "name": "stdout",
     "output_type": "stream",
     "text": [
      "MESSAGE(sqpmethod): Convergence achieved after 2 iterations\n"
     ]
    },
    {
     "data": {
      "image/png": "[encoded data removed]",
      "text/plain": [
       "<Figure size 504x504 with 1 Axes>"
      ]
     },
     "metadata": {
      "needs_background": "light"
     },
     "output_type": "display_data"
    }
   ],
   "source": [
    "opti = Opti() # Special CasADi stack for optimization\n",
    "\n",
    "x = opti.variable(5,N+1)    # States with dimension (n_x, prediction_horizon+1) (x(0),...,x(N+1))\n",
    "u = opti.variable(2,N)      # Inputs with dimension (n_u, prediction_horizon) (u(0),...,u(N))\n",
    "p = opti.parameter(5,1)     # Parameter to set the initial state conditions (x(0))\n",
    "\n",
    "Q, R = 1, 1\n",
    "obj = Q*mpc_loss(x) + R*sumsqr(u)   # Objective function: (NOT NECESSARILY quadratic!)\n",
    "\n",
    "opti.minimize(obj)          # Setup the problem \n",
    "\n",
    "# Constraints Definition\n",
    "\n",
    "# 1) System dynamics constraint over the prediction horizon\n",
    "for k in range(0,N):\n",
    "   opti.subject_to(x[:,k+1]==F(x[:,k],u[:,k])) # System dynamics is called through F, that we defined above as the DAE that maps (x,u) --> (x,next)\n",
    "    \n",
    "# 2) Additional states/inputs constraints \n",
    "opti.subject_to(vec(u)<=1)\n",
    "opti.subject_to(vec(u)>=-1)\n",
    "# 3) Force the state variable at instant 0 to be equal to the parameter value containing x0 value\n",
    "opti.subject_to(x[:,0]==p)\n",
    "\n",
    "opti.set_value(p,[pose.x, pose.y, pose.theta, 0, 0]) # Set the initial x0 value\n",
    "\n",
    "# Set additional options\n",
    "opts = dict()\n",
    "opts[\"qpsol\"] = \"qrqp\" # Solver! See the docs for information\n",
    "opts[\"print_header\"] = False\n",
    "opts[\"print_iteration\"] = False\n",
    "opts[\"print_time\"] = False\n",
    "opts[\"qpsol_options\"] = dict({\"print_iter\":False,\"print_header\":False,\"print_info\":False})\n",
    "opti.solver(\"sqpmethod\", opts)\n",
    "\n",
    "# If you want to test over 1 time horizon\n",
    "if test_results:\n",
    "    sol = opti.solve() # For testing purpose: test the optimization on 1 time step\n",
    "    fig = plt.figure\n",
    "    plt.plot(tgrid, sol.value(x[0,:]).T, label='x')\n",
    "    plt.plot(tgrid, sol.value(x[1,:]).T, label='y')\n",
    "    plt.plot(tgrid, np.column_stack((sol.value(u)[0].reshape(1,-1), np.NaN)).T, drawstyle='steps-post', label='wl')\n",
    "    plt.plot(tgrid, np.column_stack((sol.value(u)[1].reshape(1,-1), np.NaN)).T, drawstyle='steps-post', label='wr')\n",
    "    plt.grid(True)\n",
    "    plt.legend()"
   ]
  },
  {
   "cell_type": "markdown",
   "metadata": {},
   "source": [
    "Final Step: run the MPC control loop!\n",
    "N.B. Given that we want to simulate the system, e.g., 50 timesteps,\n",
    "1. at each time step the previosly defined optimization problem computes inputs u and predicted states x in the prediction horizon N.\n",
    "2. from computed sequence of inputs (u(0), ..., u(T)), ONLY u(0) value is selected to simulate the system\n",
    "3. (x0, u(0)) --> x_next == x(1)\n",
    "4. the loop restart"
   ]
  },
  {
   "cell_type": "code",
   "execution_count": 109,
   "metadata": {},
   "outputs": [],
   "source": [
    "# This instruction transfom all the Opti problem defined above into a callable function\n",
    "M = opti.to_function('M',[p],[u[:,0]],['p'],['u_opt'])"
   ]
  },
  {
   "cell_type": "code",
   "execution_count": 113,
   "metadata": {},
   "outputs": [
    {
     "name": "stdout",
     "output_type": "stream",
     "text": [
      "MESSAGE(sqpmethod): Convergence achieved after 2 iterations\n",
      "MESSAGE(sqpmethod): Convergence achieved after 2 iterations\n",
      "MESSAGE(sqpmethod): Convergence achieved after 2 iterations\n",
      "MESSAGE(sqpmethod): Convergence achieved after 2 iterations\n",
      "MESSAGE(sqpmethod): Convergence achieved after 2 iterations\n",
      "MESSAGE(sqpmethod): Convergence achieved after 2 iterations\n",
      "MESSAGE(sqpmethod): Convergence achieved after 2 iterations\n",
      "MESSAGE(sqpmethod): Convergence achieved after 2 iterations\n",
      "MESSAGE(sqpmethod): Convergence achieved after 2 iterations\n",
      "MESSAGE(sqpmethod): Convergence achieved after 2 iterations\n",
      "MESSAGE(sqpmethod): Convergence achieved after 2 iterations\n",
      "MESSAGE(sqpmethod): Convergence achieved after 2 iterations\n",
      "MESSAGE(sqpmethod): Convergence achieved after 2 iterations\n",
      "MESSAGE(sqpmethod): Convergence achieved after 2 iterations\n",
      "MESSAGE(sqpmethod): Convergence achieved after 2 iterations\n",
      "MESSAGE(sqpmethod): Convergence achieved after 2 iterations\n",
      "MESSAGE(sqpmethod): Convergence achieved after 2 iterations\n",
      "MESSAGE(sqpmethod): Convergence achieved after 2 iterations\n",
      "MESSAGE(sqpmethod): Convergence achieved after 2 iterations\n",
      "MESSAGE(sqpmethod): Convergence achieved after 2 iterations\n",
      "MESSAGE(sqpmethod): Convergence achieved after 2 iterations\n",
      "MESSAGE(sqpmethod): Convergence achieved after 2 iterations\n",
      "MESSAGE(sqpmethod): Convergence achieved after 2 iterations\n",
      "MESSAGE(sqpmethod): Convergence achieved after 2 iterations\n",
      "MESSAGE(sqpmethod): Convergence achieved after 2 iterations\n",
      "MESSAGE(sqpmethod): Convergence achieved after 2 iterations\n",
      "MESSAGE(sqpmethod): Convergence achieved after 2 iterations\n",
      "MESSAGE(sqpmethod): Convergence achieved after 2 iterations\n",
      "MESSAGE(sqpmethod): Convergence achieved after 2 iterations\n",
      "MESSAGE(sqpmethod): Convergence achieved after 2 iterations\n",
      "MESSAGE(sqpmethod): Convergence achieved after 2 iterations\n",
      "MESSAGE(sqpmethod): Convergence achieved after 2 iterations\n",
      "MESSAGE(sqpmethod): Convergence achieved after 2 iterations\n",
      "MESSAGE(sqpmethod): Convergence achieved after 2 iterations\n",
      "MESSAGE(sqpmethod): Convergence achieved after 2 iterations\n",
      "MESSAGE(sqpmethod): Convergence achieved after 2 iterations\n",
      "MESSAGE(sqpmethod): Convergence achieved after 2 iterations\n",
      "MESSAGE(sqpmethod): Convergence achieved after 2 iterations\n",
      "MESSAGE(sqpmethod): Convergence achieved after 2 iterations\n",
      "MESSAGE(sqpmethod): Convergence achieved after 2 iterations\n",
      "MESSAGE(sqpmethod): Convergence achieved after 2 iterations\n",
      "MESSAGE(sqpmethod): Convergence achieved after 2 iterations\n",
      "MESSAGE(sqpmethod): Convergence achieved after 2 iterations\n",
      "MESSAGE(sqpmethod): Convergence achieved after 2 iterations\n",
      "MESSAGE(sqpmethod): Convergence achieved after 2 iterations\n",
      "MESSAGE(sqpmethod): Convergence achieved after 2 iterations\n",
      "MESSAGE(sqpmethod): Convergence achieved after 2 iterations\n",
      "MESSAGE(sqpmethod): Convergence achieved after 2 iterations\n",
      "MESSAGE(sqpmethod): Convergence achieved after 2 iterations\n",
      "MESSAGE(sqpmethod): Convergence achieved after 2 iterations\n",
      "MESSAGE(sqpmethod): Convergence achieved after 2 iterations\n",
      "MESSAGE(sqpmethod): Convergence achieved after 2 iterations\n",
      "MESSAGE(sqpmethod): Convergence achieved after 2 iterations\n",
      "MESSAGE(sqpmethod): Convergence achieved after 2 iterations\n",
      "MESSAGE(sqpmethod): Convergence achieved after 2 iterations\n",
      "MESSAGE(sqpmethod): Convergence achieved after 2 iterations\n",
      "MESSAGE(sqpmethod): Convergence achieved after 2 iterations\n",
      "MESSAGE(sqpmethod): Convergence achieved after 2 iterations\n",
      "MESSAGE(sqpmethod): Convergence achieved after 2 iterations\n",
      "MESSAGE(sqpmethod): Convergence achieved after 2 iterations\n",
      "MESSAGE(sqpmethod): Convergence achieved after 2 iterations\n",
      "MESSAGE(sqpmethod): Convergence achieved after 2 iterations\n",
      "MESSAGE(sqpmethod): Convergence achieved after 2 iterations\n",
      "MESSAGE(sqpmethod): Convergence achieved after 2 iterations\n",
      "MESSAGE(sqpmethod): Convergence achieved after 2 iterations\n",
      "MESSAGE(sqpmethod): Convergence achieved after 2 iterations\n",
      "MESSAGE(sqpmethod): Convergence achieved after 2 iterations\n",
      "MESSAGE(sqpmethod): Convergence achieved after 2 iterations\n",
      "MESSAGE(sqpmethod): Convergence achieved after 2 iterations\n",
      "MESSAGE(sqpmethod): Convergence achieved after 2 iterations\n",
      "MESSAGE(sqpmethod): Convergence achieved after 2 iterations\n",
      "MESSAGE(sqpmethod): Convergence achieved after 2 iterations\n",
      "MESSAGE(sqpmethod): Convergence achieved after 2 iterations\n",
      "MESSAGE(sqpmethod): Convergence achieved after 2 iterations\n",
      "MESSAGE(sqpmethod): Convergence achieved after 2 iterations\n",
      "MESSAGE(sqpmethod): Convergence achieved after 2 iterations\n",
      "MESSAGE(sqpmethod): Convergence achieved after 2 iterations\n",
      "MESSAGE(sqpmethod): Convergence achieved after 2 iterations\n",
      "MESSAGE(sqpmethod): Convergence achieved after 2 iterations\n",
      "MESSAGE(sqpmethod): Convergence achieved after 2 iterations\n"
     ]
    }
   ],
   "source": [
    "# MPC loop\n",
    "X_log = np.empty((5,0))\n",
    "U_log = np.array([])\n",
    "\n",
    "x = [pose.x, pose.y, pose.theta, 0, 0]\n",
    "for i in range(4*N):\n",
    "    u = M(x)\n",
    "\n",
    "    U_log = np.append(U_log, u)\n",
    "    X_log = np.column_stack((X_log, x))\n",
    "\n",
    "    # simulate\n",
    "    x = F(x,u)"
   ]
  },
  {
   "cell_type": "code",
   "execution_count": 115,
   "metadata": {},
   "outputs": [
    {
     "data": {
      "text/plain": [
       "[<matplotlib.lines.Line2D at 0x7f844d79c640>]"
      ]
     },
     "execution_count": 115,
     "metadata": {},
     "output_type": "execute_result"
    },
    {
     "data": {
      "image/png": "[encoded data removed]",
      "text/plain": [
       "<Figure size 504x504 with 1 Axes>"
      ]
     },
     "metadata": {
      "needs_background": "light"
     },
     "output_type": "display_data"
    }
   ],
   "source": [
    "plt.plot(*traj.T)\n",
    "plt.plot(X_log[0,:], X_log[1,:], 'ro')"
   ]
  },
  {
   "cell_type": "markdown",
   "metadata": {},
   "source": [
    "If you want to save the MPC controller, i.e. the M function for later use, you can do it!"
   ]
  },
  {
   "cell_type": "code",
   "execution_count": 112,
   "metadata": {},
   "outputs": [
    {
     "name": "stdout",
     "output_type": "stream",
     "text": [
      "MESSAGE(sqpmethod): Convergence achieved after 2 iterations\n",
      "[1.7278873088453e-07, 1.60063636821044e-07]\n",
      "MESSAGE(sqpmethod): Convergence achieved after 2 iterations\n",
      "[1.7278873088453e-07, 1.60063636821044e-07]\n"
     ]
    }
   ],
   "source": [
    "M.save('M.casadi')\n",
    "M2 = Function.load('M.casadi')\n",
    "DM.set_precision(15)\n",
    "print(M(x0))\n",
    "print(M2(x0))"
   ]
  },
  {
   "cell_type": "code",
   "execution_count": null,
   "metadata": {},
   "outputs": [],
   "source": []
  }
 ],
 "metadata": {
  "interpreter": {
   "hash": "9c0b2e427cbb92844ba111dcff82d8b9613a09f4bc427dee816f26f3945d58ab"
  },
  "kernelspec": {
   "display_name": "Python 3.8.8 64-bit ('rl-mpc': conda)",
   "language": "python",
   "name": "python3"
  },
  "language_info": {
   "codemirror_mode": {
    "name": "ipython",
    "version": 3
   },
   "file_extension": ".py",
   "mimetype": "text/x-python",
   "name": "python",
   "nbconvert_exporter": "python",
   "pygments_lexer": "ipython3",
   "version": "3.8.10"
  },
  "orig_nbformat": 4
 },
 "nbformat": 4,
 "nbformat_minor": 2
}
