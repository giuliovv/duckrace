{
 "cells": [
  {
   "cell_type": "code",
   "execution_count": 1,
   "metadata": {},
   "outputs": [
    {
     "name": "stderr",
     "output_type": "stream",
     "text": [
      "DEBUG:commons:version: 6.2.4 *\n",
      "DEBUG:typing:version: 6.2.3\n",
      "DEBUG:duckietown_world:duckietown-world version 6.2.38 path /home/giulio/prog/.virtualenvs/RACE/lib/python3.8/site-packages\n",
      "DEBUG:geometry:PyGeometry-z6 version 2.1.4 path /home/giulio/prog/.virtualenvs/RACE/lib/python3.8/site-packages\n",
      "DEBUG:aido_schemas:aido-protocols version 6.0.59 path /home/giulio/prog/.virtualenvs/RACE/lib/python3.8/site-packages\n",
      "DEBUG:nodes:version 6.2.13 path /home/giulio/prog/.virtualenvs/RACE/lib/python3.8/site-packages pyparsing 3.0.6\n",
      "DEBUG:gym-duckietown:gym-duckietown version 6.1.30 path /home/giulio/prog/.virtualenvs/RACE/lib/python3.8/site-packages\n",
      "\n"
     ]
    },
    {
     "name": "stdout",
     "output_type": "stream",
     "text": [
      "{'audio': ('xaudio2', 'directsound', 'openal', 'pulse', 'silent'), 'debug_font': False, 'debug_gl': True, 'debug_gl_trace': False, 'debug_gl_trace_args': False, 'debug_graphics_batch': False, 'debug_lib': False, 'debug_media': False, 'debug_texture': False, 'debug_trace': False, 'debug_trace_args': False, 'debug_trace_depth': 1, 'debug_trace_flush': True, 'debug_win32': False, 'debug_x11': False, 'graphics_vbo': True, 'shadow_window': True, 'vsync': None, 'xsync': True, 'xlib_fullscreen_override_redirect': False, 'darwin_cocoa': True, 'search_local_libs': True, 'advanced_font_features': False, 'headless': False, 'headless_device': 0}\n"
     ]
    }
   ],
   "source": [
    "import gym_duckietown\n",
    "import matplotlib.pyplot as plt\n",
    "import numpy as np\n",
    "\n",
    "from gym_duckietown.simulator import Simulator\n",
    "from IPython import display as ipythondisplay\n",
    "from casadi import *\n",
    "\n",
    "from utils import get_trajectory, get_position, get_casadi_interpolation"
   ]
  },
  {
   "cell_type": "code",
   "execution_count": 2,
   "metadata": {},
   "outputs": [],
   "source": [
    "plt.rcParams['figure.figsize'] = [7, 7]"
   ]
  },
  {
   "cell_type": "code",
   "execution_count": 3,
   "metadata": {},
   "outputs": [],
   "source": [
    "#gym_duckietown is very chatty\n",
    "import logging\n",
    "gym_duckietown.logger.setLevel(logging.WARNING)"
   ]
  },
  {
   "cell_type": "code",
   "execution_count": 4,
   "metadata": {},
   "outputs": [
    {
     "name": "stderr",
     "output_type": "stream",
     "text": [
      "INFO:duckietown_world: data: /home/giulio/prog/.virtualenvs/RACE/lib/python3.8/site-packages/duckietown_world/data\n"
     ]
    }
   ],
   "source": [
    "env = Simulator(\"small_loop\",\n",
    "    full_transparency=True,\n",
    "    domain_rand=False,\n",
    "    user_tile_start=[1,0],\n",
    "    seed=42,\n",
    "    max_steps=float(\"inf\"),\n",
    ")"
   ]
  },
  {
   "cell_type": "code",
   "execution_count": 5,
   "metadata": {},
   "outputs": [],
   "source": [
    "env.unwrapped.start_pose = [[0.11699990272521976, 0, 0.28], 0]"
   ]
  },
  {
   "cell_type": "code",
   "execution_count": 6,
   "metadata": {},
   "outputs": [
    {
     "name": "stderr",
     "output_type": "stream",
     "text": [
      "/home/giulio/prog/duckrace_simulator/utils.py:231: FutureWarning: arrays to stack must be passed as a \"sequence\" type such as list or tuple. Support for non-sequence iterables such as generators is deprecated as of NumPy 1.16 and will raise an error in the future.\n",
      "  points_fitted = np.vstack( spl(alpha) for spl in splines ).T\n"
     ]
    },
    {
     "data": {
      "text/plain": [
       "[<matplotlib.lines.Line2D at 0x7f844cb6efa0>]"
      ]
     },
     "execution_count": 6,
     "metadata": {},
     "output_type": "execute_result"
    },
    {
     "data": {
      "image/png": "[encoded data removed]",
      "text/plain": [
       "<Figure size 504x504 with 1 Axes>"
      ]
     },
     "metadata": {
      "needs_background": "light"
     },
     "output_type": "display_data"
    }
   ],
   "source": [
    "env.reset()\n",
    "traj = get_trajectory(env, samples=200)\n",
    "plt.plot(*traj.T)"
   ]
  },
  {
   "cell_type": "code",
   "execution_count": 7,
   "metadata": {},
   "outputs": [
    {
     "data": {
      "text/plain": [
       "Position(x=0.7019999027252197, y=1.4749999999999999, theta=0)"
      ]
     },
     "execution_count": 7,
     "metadata": {},
     "output_type": "execute_result"
    }
   ],
   "source": [
    "pose = get_position(env)\n",
    "pose"
   ]
  },
  {
   "cell_type": "code",
   "execution_count": 8,
   "metadata": {},
   "outputs": [
    {
     "name": "stderr",
     "output_type": "stream",
     "text": [
      "/home/giulio/prog/duckrace_simulator/utils.py:231: FutureWarning: arrays to stack must be passed as a \"sequence\" type such as list or tuple. Support for non-sequence iterables such as generators is deprecated as of NumPy 1.16 and will raise an error in the future.\n",
      "  points_fitted = np.vstack( spl(alpha) for spl in splines ).T\n"
     ]
    }
   ],
   "source": [
    "spline_x, spline_y, _, _, x_origin, y_origin = get_casadi_interpolation(env)"
   ]
  },
  {
   "cell_type": "code",
   "execution_count": 9,
   "metadata": {},
   "outputs": [],
   "source": [
    "# Hyperparameters\n",
    "test_results = True\n",
    "T = 10 # Time horizon\n",
    "N = 20 # Number of control intervals"
   ]
  },
  {
   "cell_type": "markdown",
   "metadata": {},
   "source": [
    "Initialize states, inputs, and system dynamic equation"
   ]
  },
  {
   "cell_type": "code",
   "execution_count": 10,
   "metadata": {},
   "outputs": [],
   "source": [
    "dt = 1.0 / env.frame_rate"
   ]
  },
  {
   "cell_type": "code",
   "execution_count": 11,
   "metadata": {},
   "outputs": [],
   "source": [
    "u1 = 5\n",
    "w1 = 4\n",
    "# parameters for forced dynamics\n",
    "u_alpha_r = 1.5\n",
    "u_alpha_l = 1.5\n",
    "w_alpha_r = 15  # modify this for trim\n",
    "w_alpha_l = 15"
   ]
  },
  {
   "cell_type": "code",
   "execution_count": 12,
   "metadata": {},
   "outputs": [],
   "source": [
    "# # States\n",
    "# x0 = MX.sym('x')\n",
    "# y0 = MX.sym('y')\n",
    "# th0 = MX.sym('th')\n",
    "# v0 = MX.sym('v')\n",
    "# w0 = MX.sym('w')\n",
    "# x = vertcat(x0, y0, th0, v0, w0) # Always vertically concatenate the states --> [n_x,1]\n",
    "# # Inputs\n",
    "# wl = MX.sym('wl')\n",
    "# wr = MX.sym('wr')\n",
    "# u = vertcat(wl, wr) # Always vertically concatenate the inputs --> [n_u,1]\n",
    "# # System dynamics (CAN BE NONLINEAR! ;))\n",
    "# x_long_dot_dot = -u1*v0 + u_alpha_r*wr + u_alpha_l*wl\n",
    "# w_dot_dot = -w1*w0 + w_alpha_r*wr - w_alpha_l*wl\n",
    "# x_dot_dot = x_long_dot_dot*cos(th0)\n",
    "# y_dot_dot = x_long_dot_dot*sin(th0)\n",
    "# ode = vertcat(x_long_dot_dot, w_dot_dot, x_dot_dot, y_dot_dot) # ORDINARY DIFFERENTIAL EQUATION: Always vertically concatenate dynamic equations --> [n_x,1]\n",
    "# f = Function('f',[x,u],[ode],['x','u'],['ode'])\n",
    "# if test_results:\n",
    "#     print(f([0.702, 1.344706, 0, 0, 0], [1, 1]))"
   ]
  },
  {
   "cell_type": "markdown",
   "metadata": {},
   "source": [
    "Directly dae?"
   ]
  },
  {
   "cell_type": "code",
   "execution_count": 13,
   "metadata": {},
   "outputs": [
    {
     "name": "stdout",
     "output_type": "stream",
     "text": [
      "[0.702, 1.34471, 0, 0.1, 0]\n"
     ]
    }
   ],
   "source": [
    "# States\n",
    "x0 = MX.sym('x')\n",
    "y0 = MX.sym('y')\n",
    "th0 = MX.sym('th')\n",
    "v0 = MX.sym('v')\n",
    "w0 = MX.sym('w')\n",
    "x = vertcat(x0, y0, th0, v0, w0) # Always vertically concatenate the states --> [n_x,1]\n",
    "# Inputs\n",
    "wl = MX.sym('wl')\n",
    "wr = MX.sym('wr')\n",
    "u = vertcat(wl, wr) # Always vertically concatenate the inputs --> [n_u,1]\n",
    "# System dynamics (CAN BE NONLINEAR! ;))\n",
    "x_long_dot_dot = -u1*v0 + u_alpha_r*wr + u_alpha_l*wl\n",
    "w_dot_dot = -w1*w0 + w_alpha_r*wr - w_alpha_l*wl\n",
    "v1 = v0 + x_long_dot_dot*dt\n",
    "w1 = w0 + w_dot_dot*dt\n",
    "x1 = x0 + v0*dt*np.cos(th0 + w0*dt/2)\n",
    "y1 = y0 + v0*dt*np.sin(th0 + w0*dt/2)\n",
    "theta1 = th0 + w0*dt\n",
    "dae = vertcat(x1, y1, theta1, v1, w1)\n",
    "F = Function('F',[x,u],[dae],['x','u'],['dae'])\n",
    "if test_results:\n",
    "    print(F([0.702, 1.344706, 0, 0, 0], [1, 1]))"
   ]
  },
  {
   "cell_type": "code",
   "execution_count": 14,
   "metadata": {},
   "outputs": [
    {
     "data": {
      "text/plain": [
       "[<matplotlib.lines.Line2D at 0x7f844c0128b0>,\n",
       " <matplotlib.lines.Line2D at 0x7f844c012910>,\n",
       " <matplotlib.lines.Line2D at 0x7f844c012a90>,\n",
       " <matplotlib.lines.Line2D at 0x7f844c012be0>,\n",
       " <matplotlib.lines.Line2D at 0x7f844c012d00>,\n",
       " <matplotlib.lines.Line2D at 0x7f844c012e50>,\n",
       " <matplotlib.lines.Line2D at 0x7f844c012f40>,\n",
       " <matplotlib.lines.Line2D at 0x7f844c012d30>,\n",
       " <matplotlib.lines.Line2D at 0x7f844c0190d0>,\n",
       " <matplotlib.lines.Line2D at 0x7f844c019220>,\n",
       " <matplotlib.lines.Line2D at 0x7f844c0193a0>,\n",
       " <matplotlib.lines.Line2D at 0x7f844c0194f0>,\n",
       " <matplotlib.lines.Line2D at 0x7f844c0192e0>,\n",
       " <matplotlib.lines.Line2D at 0x7f844c019760>,\n",
       " <matplotlib.lines.Line2D at 0x7f844c019580>,\n",
       " <matplotlib.lines.Line2D at 0x7f844c0199a0>,\n",
       " <matplotlib.lines.Line2D at 0x7f844c019ac0>,\n",
       " <matplotlib.lines.Line2D at 0x7f844c019be0>,\n",
       " <matplotlib.lines.Line2D at 0x7f844c019cd0>,\n",
       " <matplotlib.lines.Line2D at 0x7f844c019e20>]"
      ]
     },
     "execution_count": 14,
     "metadata": {},
     "output_type": "execute_result"
    },
    {
     "data": {
      "image/png": "[encoded data removed]",
      "text/plain": [
       "<Figure size 504x504 with 1 Axes>"
      ]
     },
     "metadata": {
      "needs_background": "light"
     },
     "output_type": "display_data"
    }
   ],
   "source": [
    "# Test the problem definition\n",
    "sim = F.mapaccum(N) # To call the F function N times\n",
    "x0 = [0.702, 1.344706, 0, 0, 0]\n",
    "res = sim(x0, [1, 0.2]) # Example: u1 = cosine excitation\n",
    "fig = plt.figure()\n",
    "tgrid = np.linspace(0,T,N+1)\n",
    "# plt.plot(tgrid, np.column_stack((x0, res)).T)\n",
    "plt.plot(res[0, :], res[1, :], 'ro')"
   ]
  },
  {
   "cell_type": "code",
   "execution_count": 15,
   "metadata": {},
   "outputs": [],
   "source": [
    "from scipy.sparse import csc_matrix\n",
    "U = MX.sym('U', 2, N)\n",
    "X1 = sim(x0,U)[0,:]\n",
    "J = jacobian(X1,U)"
   ]
  },
  {
   "cell_type": "code",
   "execution_count": 16,
   "metadata": {},
   "outputs": [
    {
     "data": {
      "text/plain": [
       "<matplotlib.image.AxesImage at 0x7f844bf5dcd0>"
      ]
     },
     "execution_count": 16,
     "metadata": {},
     "output_type": "execute_result"
    },
    {
     "data": {
      "image/png": "[encoded data removed]",
      "text/plain": [
       "<Figure size 504x504 with 1 Axes>"
      ]
     },
     "metadata": {
      "needs_background": "light"
     },
     "output_type": "display_data"
    }
   ],
   "source": [
    "Jf = Function('Jf',[U],[J])\n",
    "plt.imshow(Jf(0))"
   ]
  },
  {
   "cell_type": "code",
   "execution_count": 29,
   "metadata": {},
   "outputs": [],
   "source": [
    "def mpc_loss(x):\n",
    "    \"\"\"\n",
    "    L(u) = sum_{t=0}^{N-1} Q * ||x_o_t - x_t||^2 + R * ||u_t||^2\n",
    "    \"\"\"\n",
    "    loss = 0\n",
    "    for t in range(0, N):\n",
    "        xi, yi = x[t, 0], x[t, 1]\n",
    "        r = sqrt((xi-x_origin)**2 + (yi-y_origin)**2)\n",
    "        angle = arccos((xi-x_origin)/r)\n",
    "        angle = if_else(yi-y_origin < 0, 2*pi-angle, angle)\n",
    "        x_ref, y_ref = spline_x(angle), spline_y(angle)\n",
    "        loss += ((x[t][0] - x_ref)**2 + (x[t][1] - y_ref)**2)*1e-3\n",
    "\n",
    "    return loss\n"
   ]
  },
  {
   "cell_type": "code",
   "execution_count": 30,
   "metadata": {},
   "outputs": [
    {
     "ename": "RuntimeError",
     "evalue": ".../casadi/core/mx.cpp:402: Assertion \"in_range(kk.nonzeros(), -sz+ind1, sz+ind1)\" failed:\nOut of bounds error. Got elements in range [1,1], which is outside the range [-1,1).",
     "output_type": "error",
     "traceback": [
      "\u001b[0;31m---------------------------------------------------------------------------\u001b[0m",
      "\u001b[0;31mRuntimeError\u001b[0m                              Traceback (most recent call last)",
      "\u001b[0;32m/tmp/ipykernel_21514/1116697570.py\u001b[0m in \u001b[0;36m<module>\u001b[0;34m\u001b[0m\n\u001b[1;32m      6\u001b[0m \u001b[0;34m\u001b[0m\u001b[0m\n\u001b[1;32m      7\u001b[0m \u001b[0mQ\u001b[0m\u001b[0;34m,\u001b[0m \u001b[0mR\u001b[0m \u001b[0;34m=\u001b[0m \u001b[0;36m1\u001b[0m\u001b[0;34m,\u001b[0m \u001b[0;36m1\u001b[0m\u001b[0;34m\u001b[0m\u001b[0;34m\u001b[0m\u001b[0m\n\u001b[0;32m----> 8\u001b[0;31m \u001b[0mobj\u001b[0m \u001b[0;34m=\u001b[0m \u001b[0mQ\u001b[0m\u001b[0;34m*\u001b[0m\u001b[0mmpc_loss\u001b[0m\u001b[0;34m(\u001b[0m\u001b[0mx\u001b[0m\u001b[0;34m)\u001b[0m \u001b[0;34m+\u001b[0m \u001b[0mR\u001b[0m\u001b[0;34m*\u001b[0m\u001b[0msumsqr\u001b[0m\u001b[0;34m(\u001b[0m\u001b[0mu\u001b[0m\u001b[0;34m)\u001b[0m   \u001b[0;31m# Objective function: (NOT NECESSARILY quadratic!)\u001b[0m\u001b[0;34m\u001b[0m\u001b[0;34m\u001b[0m\u001b[0m\n\u001b[0m\u001b[1;32m      9\u001b[0m \u001b[0;34m\u001b[0m\u001b[0m\n\u001b[1;32m     10\u001b[0m \u001b[0mopti\u001b[0m\u001b[0;34m.\u001b[0m\u001b[0mminimize\u001b[0m\u001b[0;34m(\u001b[0m\u001b[0mobj\u001b[0m\u001b[0;34m)\u001b[0m          \u001b[0;31m# Setup the problem\u001b[0m\u001b[0;34m\u001b[0m\u001b[0;34m\u001b[0m\u001b[0m\n",
      "\u001b[0;32m/tmp/ipykernel_21514/1879719289.py\u001b[0m in \u001b[0;36mmpc_loss\u001b[0;34m(x)\u001b[0m\n\u001b[1;32m     10\u001b[0m         \u001b[0mangle\u001b[0m \u001b[0;34m=\u001b[0m \u001b[0mif_else\u001b[0m\u001b[0;34m(\u001b[0m\u001b[0myi\u001b[0m\u001b[0;34m-\u001b[0m\u001b[0my_origin\u001b[0m \u001b[0;34m<\u001b[0m \u001b[0;36m0\u001b[0m\u001b[0;34m,\u001b[0m \u001b[0;36m2\u001b[0m\u001b[0;34m*\u001b[0m\u001b[0mpi\u001b[0m\u001b[0;34m-\u001b[0m\u001b[0mangle\u001b[0m\u001b[0;34m,\u001b[0m \u001b[0mangle\u001b[0m\u001b[0;34m)\u001b[0m\u001b[0;34m\u001b[0m\u001b[0;34m\u001b[0m\u001b[0m\n\u001b[1;32m     11\u001b[0m         \u001b[0mx_ref\u001b[0m\u001b[0;34m,\u001b[0m \u001b[0my_ref\u001b[0m \u001b[0;34m=\u001b[0m \u001b[0mspline_x\u001b[0m\u001b[0;34m(\u001b[0m\u001b[0mangle\u001b[0m\u001b[0;34m)\u001b[0m\u001b[0;34m,\u001b[0m \u001b[0mspline_y\u001b[0m\u001b[0;34m(\u001b[0m\u001b[0mangle\u001b[0m\u001b[0;34m)\u001b[0m\u001b[0;34m\u001b[0m\u001b[0;34m\u001b[0m\u001b[0m\n\u001b[0;32m---> 12\u001b[0;31m         \u001b[0mloss\u001b[0m \u001b[0;34m+=\u001b[0m \u001b[0;34m(\u001b[0m\u001b[0;34m(\u001b[0m\u001b[0mx\u001b[0m\u001b[0;34m[\u001b[0m\u001b[0mt\u001b[0m\u001b[0;34m]\u001b[0m\u001b[0;34m[\u001b[0m\u001b[0;36m0\u001b[0m\u001b[0;34m]\u001b[0m \u001b[0;34m-\u001b[0m \u001b[0mx_ref\u001b[0m\u001b[0;34m)\u001b[0m\u001b[0;34m**\u001b[0m\u001b[0;36m2\u001b[0m \u001b[0;34m+\u001b[0m \u001b[0;34m(\u001b[0m\u001b[0mx\u001b[0m\u001b[0;34m[\u001b[0m\u001b[0mt\u001b[0m\u001b[0;34m]\u001b[0m\u001b[0;34m[\u001b[0m\u001b[0;36m1\u001b[0m\u001b[0;34m]\u001b[0m \u001b[0;34m-\u001b[0m \u001b[0my_ref\u001b[0m\u001b[0;34m)\u001b[0m\u001b[0;34m**\u001b[0m\u001b[0;36m2\u001b[0m\u001b[0;34m)\u001b[0m\u001b[0;34m*\u001b[0m\u001b[0;36m1e-3\u001b[0m\u001b[0;34m\u001b[0m\u001b[0;34m\u001b[0m\u001b[0m\n\u001b[0m\u001b[1;32m     13\u001b[0m \u001b[0;34m\u001b[0m\u001b[0m\n\u001b[1;32m     14\u001b[0m     \u001b[0;32mreturn\u001b[0m \u001b[0mloss\u001b[0m\u001b[0;34m\u001b[0m\u001b[0;34m\u001b[0m\u001b[0m\n",
      "\u001b[0;32m~/prog/.virtualenvs/RACE/lib/python3.8/site-packages/casadi/casadi.py\u001b[0m in \u001b[0;36m__getitem__\u001b[0;34m(self, s)\u001b[0m\n\u001b[1;32m  10834\u001b[0m             \u001b[0;32mif\u001b[0m \u001b[0ms\u001b[0m\u001b[0;34m[\u001b[0m\u001b[0;36m1\u001b[0m\u001b[0;34m]\u001b[0m \u001b[0;32mis\u001b[0m \u001b[0;32mNone\u001b[0m\u001b[0;34m:\u001b[0m \u001b[0;32mraise\u001b[0m \u001b[0mTypeError\u001b[0m\u001b[0;34m(\u001b[0m\u001b[0;34m\"Cannot slice with None\"\u001b[0m\u001b[0;34m)\u001b[0m\u001b[0;34m\u001b[0m\u001b[0;34m\u001b[0m\u001b[0m\n\u001b[1;32m  10835\u001b[0m             \u001b[0;32mreturn\u001b[0m \u001b[0mself\u001b[0m\u001b[0;34m.\u001b[0m\u001b[0mget\u001b[0m\u001b[0;34m(\u001b[0m\u001b[0;32mFalse\u001b[0m\u001b[0;34m,\u001b[0m \u001b[0ms\u001b[0m\u001b[0;34m[\u001b[0m\u001b[0;36m0\u001b[0m\u001b[0;34m]\u001b[0m\u001b[0;34m,\u001b[0m \u001b[0ms\u001b[0m\u001b[0;34m[\u001b[0m\u001b[0;36m1\u001b[0m\u001b[0;34m]\u001b[0m\u001b[0;34m)\u001b[0m\u001b[0;34m\u001b[0m\u001b[0;34m\u001b[0m\u001b[0m\n\u001b[0;32m> 10836\u001b[0;31m           \u001b[0;32mreturn\u001b[0m \u001b[0mself\u001b[0m\u001b[0;34m.\u001b[0m\u001b[0mget\u001b[0m\u001b[0;34m(\u001b[0m\u001b[0;32mFalse\u001b[0m\u001b[0;34m,\u001b[0m \u001b[0ms\u001b[0m\u001b[0;34m)\u001b[0m\u001b[0;34m\u001b[0m\u001b[0;34m\u001b[0m\u001b[0m\n\u001b[0m\u001b[1;32m  10837\u001b[0m \u001b[0;34m\u001b[0m\u001b[0m\n\u001b[1;32m  10838\u001b[0m     \u001b[0;32mdef\u001b[0m \u001b[0m__iter__\u001b[0m\u001b[0;34m(\u001b[0m\u001b[0mself\u001b[0m\u001b[0;34m)\u001b[0m\u001b[0;34m:\u001b[0m\u001b[0;34m\u001b[0m\u001b[0;34m\u001b[0m\u001b[0m\n",
      "\u001b[0;32m~/prog/.virtualenvs/RACE/lib/python3.8/site-packages/casadi/casadi.py\u001b[0m in \u001b[0;36mget\u001b[0;34m(self, *args)\u001b[0m\n\u001b[1;32m  10497\u001b[0m \u001b[0;34m\u001b[0m\u001b[0m\n\u001b[1;32m  10498\u001b[0m         \"\"\"\n\u001b[0;32m> 10499\u001b[0;31m         \u001b[0;32mreturn\u001b[0m \u001b[0m_casadi\u001b[0m\u001b[0;34m.\u001b[0m\u001b[0mMX_get\u001b[0m\u001b[0;34m(\u001b[0m\u001b[0mself\u001b[0m\u001b[0;34m,\u001b[0m \u001b[0;34m*\u001b[0m\u001b[0margs\u001b[0m\u001b[0;34m)\u001b[0m\u001b[0;34m\u001b[0m\u001b[0;34m\u001b[0m\u001b[0m\n\u001b[0m\u001b[1;32m  10500\u001b[0m \u001b[0;34m\u001b[0m\u001b[0m\n\u001b[1;32m  10501\u001b[0m \u001b[0;34m\u001b[0m\u001b[0m\n",
      "\u001b[0;31mRuntimeError\u001b[0m: .../casadi/core/mx.cpp:402: Assertion \"in_range(kk.nonzeros(), -sz+ind1, sz+ind1)\" failed:\nOut of bounds error. Got elements in range [1,1], which is outside the range [-1,1)."
     ]
    }
   ],
   "source": [
    "opti = Opti() # Special CasADi stack for optimization\n",
    "\n",
    "x = opti.variable(5,N+1)    # States with dimension (n_x, prediction_horizon+1) (x(0),...,x(N+1))\n",
    "u = opti.variable(2,N)      # Inputs with dimension (n_u, prediction_horizon) (u(0),...,u(N))\n",
    "p = opti.parameter(5,1)     # Parameter to set the initial state conditions (x(0))\n",
    "\n",
    "Q, R = 1, 1\n",
    "obj = Q*mpc_loss(x) + R*sumsqr(u)   # Objective function: (NOT NECESSARILY quadratic!)\n",
    "\n",
    "opti.minimize(obj)          # Setup the problem \n",
    "\n",
    "# Constraints Definition\n",
    "\n",
    "# 1) System dynamics constraint over the prediction horizon\n",
    "for k in range(0,N):\n",
    "   opti.subject_to(x[:,k+1]==F(x[:,k],u[:,k])) # System dynamics is called through F, that we defined above as the DAE that maps (x,u) --> (x,next)\n",
    "    \n",
    "# 2) Additional states/inputs constraints \n",
    "opti.subject_to(u<=1)        \n",
    "opti.subject_to(u>=-1)\n",
    "# 3) Force the state variable at instant 0 to be equal to the parameter value containing x0 value\n",
    "opti.subject_to(x[:,0]==p)\n",
    "\n",
    "opti.set_value(p,[0, 1]) # Set the initial x0 value\n",
    "\n",
    "# Set additional options\n",
    "opts = dict()\n",
    "opts[\"qpsol\"] = \"qrqp\" # Solver! See the docs for information\n",
    "opts[\"print_header\"] = False\n",
    "opts[\"print_iteration\"] = False\n",
    "opts[\"print_time\"] = False\n",
    "opts[\"qpsol_options\"] = dict({\"print_iter\":False,\"print_header\":False,\"print_info\":False})\n",
    "opti.solver(\"sqpmethod\", opts)\n",
    "\n",
    "# If you want to test over 1 time horizon\n",
    "if test_results:\n",
    "    sol = opti.solve() # For testing purpose: test the optimization on 1 time step\n",
    "    fig = plt.figure\n",
    "    plt.plot(tgrid, sol.value(x[0,:]).T, label='x1')\n",
    "    plt.plot(tgrid, sol.value(x[1,:]).T, label='x2')\n",
    "    plt.plot(tgrid, np.column_stack((sol.value(u).reshape(1,-1), np.NaN)).T, drawstyle='steps-post', label='u1')\n",
    "    plt.grid(True)\n",
    "    plt.legend()"
   ]
  },
  {
   "cell_type": "markdown",
   "metadata": {},
   "source": [
    "Final Step: run the MPC control loop!\n",
    "N.B. Given that we want to simulate the system, e.g., 50 timesteps,\n",
    "1. at each time step the previosly defined optimization problem computes inputs u and predicted states x in the prediction horizon N.\n",
    "2. from computed sequence of inputs (u(0), ..., u(T)), ONLY u(0) value is selected to simulate the system\n",
    "3. (x0, u(0)) --> x_next == x(1)\n",
    "4. the loop restart"
   ]
  },
  {
   "cell_type": "code",
   "execution_count": null,
   "metadata": {},
   "outputs": [],
   "source": [
    "# This instruction transfom all the Opti problem defined above into a callable function\n",
    "M = opti.to_function('M',[p],[u[:,0]],['p'],['u_opt'])"
   ]
  },
  {
   "cell_type": "code",
   "execution_count": null,
   "metadata": {},
   "outputs": [
    {
     "name": "stdout",
     "output_type": "stream",
     "text": [
      "MESSAGE(sqpmethod): Convergence achieved after 4 iterations\n",
      "MESSAGE(sqpmethod): Convergence achieved after 4 iterations\n",
      "MESSAGE(sqpmethod): Convergence achieved after 4 iterations\n",
      "MESSAGE(sqpmethod): Convergence achieved after 3 iterations\n",
      "MESSAGE(sqpmethod): Convergence achieved after 3 iterations\n",
      "MESSAGE(sqpmethod): Convergence achieved after 2 iterations\n",
      "MESSAGE(sqpmethod): Convergence achieved after 2 iterations\n",
      "MESSAGE(sqpmethod): Convergence achieved after 2 iterations\n",
      "MESSAGE(sqpmethod): Convergence achieved after 2 iterations\n",
      "MESSAGE(sqpmethod): Convergence achieved after 1 iterations\n",
      "MESSAGE(sqpmethod): Convergence achieved after 2 iterations\n",
      "MESSAGE(sqpmethod): Convergence achieved after 2 iterations\n",
      "MESSAGE(sqpmethod): Convergence achieved after 2 iterations\n",
      "MESSAGE(sqpmethod): Convergence achieved after 2 iterations\n",
      "MESSAGE(sqpmethod): Convergence achieved after 2 iterations\n",
      "MESSAGE(sqpmethod): Convergence achieved after 2 iterations\n",
      "MESSAGE(sqpmethod): Convergence achieved after 2 iterations\n",
      "MESSAGE(sqpmethod): Convergence achieved after 2 iterations\n",
      "MESSAGE(sqpmethod): Convergence achieved after 2 iterations\n",
      "MESSAGE(sqpmethod): Convergence achieved after 2 iterations\n",
      "MESSAGE(sqpmethod): Convergence achieved after 2 iterations\n",
      "MESSAGE(sqpmethod): Convergence achieved after 2 iterations\n",
      "MESSAGE(sqpmethod): Convergence achieved after 2 iterations\n",
      "MESSAGE(sqpmethod): Convergence achieved after 2 iterations\n",
      "MESSAGE(sqpmethod): Convergence achieved after 2 iterations\n",
      "MESSAGE(sqpmethod): Convergence achieved after 2 iterations\n",
      "MESSAGE(sqpmethod): Convergence achieved after 2 iterations\n",
      "MESSAGE(sqpmethod): Convergence achieved after 2 iterations\n",
      "MESSAGE(sqpmethod): Convergence achieved after 2 iterations\n",
      "MESSAGE(sqpmethod): Convergence achieved after 2 iterations\n",
      "MESSAGE(sqpmethod): Convergence achieved after 2 iterations\n",
      "MESSAGE(sqpmethod): Convergence achieved after 2 iterations\n",
      "MESSAGE(sqpmethod): Convergence achieved after 2 iterations\n",
      "MESSAGE(sqpmethod): Convergence achieved after 2 iterations\n",
      "MESSAGE(sqpmethod): Convergence achieved after 2 iterations\n",
      "MESSAGE(sqpmethod): Convergence achieved after 2 iterations\n",
      "MESSAGE(sqpmethod): Convergence achieved after 2 iterations\n",
      "MESSAGE(sqpmethod): Convergence achieved after 2 iterations\n",
      "MESSAGE(sqpmethod): Convergence achieved after 2 iterations\n",
      "MESSAGE(sqpmethod): Convergence achieved after 2 iterations\n",
      "MESSAGE(sqpmethod): Convergence achieved after 2 iterations\n",
      "MESSAGE(sqpmethod): Convergence achieved after 2 iterations\n",
      "MESSAGE(sqpmethod): Convergence achieved after 2 iterations\n",
      "MESSAGE(sqpmethod): Convergence achieved after 2 iterations\n",
      "MESSAGE(sqpmethod): Convergence achieved after 2 iterations\n",
      "MESSAGE(sqpmethod): Convergence achieved after 2 iterations\n",
      "MESSAGE(sqpmethod): Convergence achieved after 2 iterations\n",
      "MESSAGE(sqpmethod): Convergence achieved after 2 iterations\n",
      "MESSAGE(sqpmethod): Convergence achieved after 2 iterations\n",
      "MESSAGE(sqpmethod): Convergence achieved after 2 iterations\n",
      "MESSAGE(sqpmethod): Convergence achieved after 2 iterations\n",
      "MESSAGE(sqpmethod): Convergence achieved after 2 iterations\n",
      "MESSAGE(sqpmethod): Convergence achieved after 2 iterations\n",
      "MESSAGE(sqpmethod): Convergence achieved after 2 iterations\n",
      "MESSAGE(sqpmethod): Convergence achieved after 2 iterations\n",
      "MESSAGE(sqpmethod): Convergence achieved after 2 iterations\n",
      "MESSAGE(sqpmethod): Convergence achieved after 2 iterations\n",
      "MESSAGE(sqpmethod): Convergence achieved after 2 iterations\n",
      "MESSAGE(sqpmethod): Convergence achieved after 2 iterations\n",
      "MESSAGE(sqpmethod): Convergence achieved after 2 iterations\n",
      "MESSAGE(sqpmethod): Convergence achieved after 2 iterations\n",
      "MESSAGE(sqpmethod): Convergence achieved after 2 iterations\n",
      "MESSAGE(sqpmethod): Convergence achieved after 2 iterations\n",
      "MESSAGE(sqpmethod): Convergence achieved after 2 iterations\n",
      "MESSAGE(sqpmethod): Convergence achieved after 2 iterations\n",
      "MESSAGE(sqpmethod): Convergence achieved after 2 iterations\n",
      "MESSAGE(sqpmethod): Convergence achieved after 2 iterations\n",
      "MESSAGE(sqpmethod): Convergence achieved after 2 iterations\n",
      "MESSAGE(sqpmethod): Convergence achieved after 2 iterations\n",
      "MESSAGE(sqpmethod): Convergence achieved after 2 iterations\n",
      "MESSAGE(sqpmethod): Convergence achieved after 2 iterations\n",
      "MESSAGE(sqpmethod): Convergence achieved after 2 iterations\n",
      "MESSAGE(sqpmethod): Convergence achieved after 2 iterations\n",
      "MESSAGE(sqpmethod): Convergence achieved after 2 iterations\n",
      "MESSAGE(sqpmethod): Convergence achieved after 2 iterations\n",
      "MESSAGE(sqpmethod): Convergence achieved after 2 iterations\n",
      "MESSAGE(sqpmethod): Convergence achieved after 2 iterations\n",
      "MESSAGE(sqpmethod): Convergence achieved after 2 iterations\n",
      "MESSAGE(sqpmethod): Convergence achieved after 2 iterations\n",
      "MESSAGE(sqpmethod): Convergence achieved after 2 iterations\n"
     ]
    }
   ],
   "source": [
    "# MPC loop\n",
    "X_log = np.empty((2,0))\n",
    "U_log = np.array([])\n",
    "\n",
    "x = [0,1]\n",
    "for i in range(4*N):\n",
    "    u = M(x)\n",
    "\n",
    "    U_log = np.append(U_log, u)\n",
    "    X_log = np.column_stack((X_log, x))\n",
    "\n",
    "    # simulate\n",
    "    x = F(x,u) + [0, np.random.rand()*0.02]"
   ]
  },
  {
   "cell_type": "code",
   "execution_count": null,
   "metadata": {},
   "outputs": [
    {
     "data": {
      "text/plain": [
       "<matplotlib.legend.Legend at 0x2c22dfa2b80>"
      ]
     },
     "execution_count": 43,
     "metadata": {},
     "output_type": "execute_result"
    },
    {
     "data": {
      "image/png": "[encoded data removed]",
      "text/plain": [
       "<Figure size 1152x648 with 1 Axes>"
      ]
     },
     "metadata": {
      "needs_background": "light"
     },
     "output_type": "display_data"
    }
   ],
   "source": [
    "# Plot results!\n",
    "fig = plt.figure(figsize=(16,9))\n",
    "tgrid_mpc = np.linspace(0,4*T,4*N+1)\n",
    "plt.plot(tgrid_mpc, np.append(x0[0], X_log[0,:]).T, label ='x1')\n",
    "plt.plot(tgrid_mpc, np.append(x0[1], X_log[1,:]).T, label ='x2')\n",
    "plt.plot(tgrid_mpc, np.append(U_log, np.NaN).T, linestyle='-.', drawstyle='steps-post', label=\"u1\")\n",
    "plt.xlabel('t [s]')\n",
    "plt.grid(True)\n",
    "plt.legend()"
   ]
  },
  {
   "cell_type": "markdown",
   "metadata": {},
   "source": [
    "If you want to save the MPC controller, i.e. the M function for later use, you can do it!"
   ]
  },
  {
   "cell_type": "code",
   "execution_count": null,
   "metadata": {},
   "outputs": [
    {
     "name": "stdout",
     "output_type": "stream",
     "text": [
      "MESSAGE(sqpmethod): Convergence achieved after 4 iterations\n",
      "0.101897523198779\n",
      "MESSAGE(sqpmethod): Convergence achieved after 4 iterations\n",
      "0.101897523198779\n"
     ]
    }
   ],
   "source": [
    "M.save('M.casadi')\n",
    "M2 = Function.load('M.casadi')\n",
    "DM.set_precision(15)\n",
    "print(M(x0))\n",
    "print(M2(x0))"
   ]
  },
  {
   "cell_type": "code",
   "execution_count": null,
   "metadata": {},
   "outputs": [],
   "source": []
  }
 ],
 "metadata": {
  "interpreter": {
   "hash": "9c0b2e427cbb92844ba111dcff82d8b9613a09f4bc427dee816f26f3945d58ab"
  },
  "kernelspec": {
   "display_name": "Python 3.8.8 64-bit ('rl-mpc': conda)",
   "language": "python",
   "name": "python3"
  },
  "language_info": {
   "codemirror_mode": {
    "name": "ipython",
    "version": 3
   },
   "file_extension": ".py",
   "mimetype": "text/x-python",
   "name": "python",
   "nbconvert_exporter": "python",
   "pygments_lexer": "ipython3",
   "version": "3.8.10"
  },
  "orig_nbformat": 4
 },
 "nbformat": 4,
 "nbformat_minor": 2
}
