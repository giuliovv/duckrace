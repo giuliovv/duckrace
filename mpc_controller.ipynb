{
 "cells": [
  {
   "cell_type": "code",
   "execution_count": 4,
   "metadata": {},
   "outputs": [
    {
     "name": "stderr",
     "output_type": "stream",
     "text": [
      "DEBUG:commons:version: 6.2.4 *\n",
      "DEBUG:typing:version: 6.2.3\n",
      "DEBUG:duckietown_world:duckietown-world version 6.2.38 path /home/giulio/prog/.virtualenvs/RACE/lib/python3.8/site-packages\n",
      "DEBUG:geometry:PyGeometry-z6 version 2.1.4 path /home/giulio/prog/.virtualenvs/RACE/lib/python3.8/site-packages\n",
      "DEBUG:aido_schemas:aido-protocols version 6.0.59 path /home/giulio/prog/.virtualenvs/RACE/lib/python3.8/site-packages\n",
      "DEBUG:nodes:version 6.2.13 path /home/giulio/prog/.virtualenvs/RACE/lib/python3.8/site-packages pyparsing 3.0.6\n",
      "DEBUG:gym-duckietown:gym-duckietown version 6.1.30 path /home/giulio/prog/.virtualenvs/RACE/lib/python3.8/site-packages\n",
      "\n"
     ]
    },
    {
     "name": "stdout",
     "output_type": "stream",
     "text": [
      "{'audio': ('xaudio2', 'directsound', 'openal', 'pulse', 'silent'), 'debug_font': False, 'debug_gl': True, 'debug_gl_trace': False, 'debug_gl_trace_args': False, 'debug_graphics_batch': False, 'debug_lib': False, 'debug_media': False, 'debug_texture': False, 'debug_trace': False, 'debug_trace_args': False, 'debug_trace_depth': 1, 'debug_trace_flush': True, 'debug_win32': False, 'debug_x11': False, 'graphics_vbo': True, 'shadow_window': True, 'vsync': None, 'xsync': True, 'xlib_fullscreen_override_redirect': False, 'darwin_cocoa': True, 'search_local_libs': True, 'advanced_font_features': False, 'headless': False, 'headless_device': 0}\n"
     ]
    }
   ],
   "source": [
    "import gym_duckietown\n",
    "import matplotlib.pyplot as plt\n",
    "import numpy as np\n",
    "\n",
    "from gym_duckietown.simulator import Simulator\n",
    "from IPython import display as ipythondisplay\n",
    "\n",
    "from utils import get_trajectory, get_position, my_odometry"
   ]
  },
  {
   "cell_type": "code",
   "execution_count": 5,
   "metadata": {},
   "outputs": [],
   "source": [
    "plt.rcParams['figure.figsize'] = [7, 7]"
   ]
  },
  {
   "cell_type": "code",
   "execution_count": 6,
   "metadata": {},
   "outputs": [],
   "source": [
    "#gym_duckietown is very chatty\n",
    "import logging\n",
    "gym_duckietown.logger.setLevel(logging.WARNING)"
   ]
  },
  {
   "cell_type": "code",
   "execution_count": 7,
   "metadata": {},
   "outputs": [
    {
     "name": "stderr",
     "output_type": "stream",
     "text": [
      "INFO:duckietown_world: data: /home/giulio/prog/.virtualenvs/RACE/lib/python3.8/site-packages/duckietown_world/data\n"
     ]
    }
   ],
   "source": [
    "env = Simulator(\"small_loop\",\n",
    "    full_transparency=True,\n",
    "    domain_rand=False,\n",
    "    user_tile_start=[1,0],\n",
    "    seed=42,\n",
    "    max_steps=float(\"inf\"),\n",
    ")"
   ]
  },
  {
   "cell_type": "code",
   "execution_count": 8,
   "metadata": {},
   "outputs": [],
   "source": [
    "env.unwrapped.start_pose = [[0.11699990272521976, 0, 0.41029359288296474], 0]"
   ]
  },
  {
   "cell_type": "code",
   "execution_count": 9,
   "metadata": {},
   "outputs": [
    {
     "name": "stderr",
     "output_type": "stream",
     "text": [
      "/home/giulio/prog/duckrace_simulator/utils.py:170: FutureWarning: arrays to stack must be passed as a \"sequence\" type such as list or tuple. Support for non-sequence iterables such as generators is deprecated as of NumPy 1.16 and will raise an error in the future.\n",
      "  points_fitted = np.vstack( spl(alpha) for spl in splines ).T\n"
     ]
    }
   ],
   "source": [
    "env.reset()\n",
    "traj = get_trajectory(env)"
   ]
  },
  {
   "cell_type": "code",
   "execution_count": 10,
   "metadata": {},
   "outputs": [
    {
     "data": {
      "text/plain": [
       "array([[1.47224186, 0.89882168],\n",
       "       [1.46327478, 0.99399287],\n",
       "       [1.46667284, 1.09337466],\n",
       "       [1.47114545, 1.19275645],\n",
       "       [1.47026898, 1.28107248],\n",
       "       [1.44334587, 1.36818113],\n",
       "       [1.39329816, 1.42978918],\n",
       "       [1.32102126, 1.4597663 ],\n",
       "       [1.24019591, 1.4699859 ],\n",
       "       [1.14303777, 1.47681769]])"
      ]
     },
     "execution_count": 10,
     "metadata": {},
     "output_type": "execute_result"
    }
   ],
   "source": [
    "traj[:10]"
   ]
  },
  {
   "cell_type": "code",
   "execution_count": 11,
   "metadata": {},
   "outputs": [
    {
     "data": {
      "text/plain": [
       "Position(x=0.7019999, y=1.34470641, theta=0.0)"
      ]
     },
     "execution_count": 11,
     "metadata": {},
     "output_type": "execute_result"
    }
   ],
   "source": [
    "pose = get_position(env)\n",
    "pose"
   ]
  },
  {
   "cell_type": "code",
   "execution_count": 12,
   "metadata": {},
   "outputs": [],
   "source": [
    "from scipy import spatial"
   ]
  },
  {
   "cell_type": "code",
   "execution_count": 13,
   "metadata": {},
   "outputs": [],
   "source": [
    "distance,index = spatial.KDTree(traj).query([pose.x, pose.y])"
   ]
  },
  {
   "cell_type": "code",
   "execution_count": 14,
   "metadata": {},
   "outputs": [
    {
     "data": {
      "text/plain": [
       "array([0.72770678, 1.47150851])"
      ]
     },
     "execution_count": 14,
     "metadata": {},
     "output_type": "execute_result"
    }
   ],
   "source": [
    "traj[index]"
   ]
  },
  {
   "cell_type": "code",
   "execution_count": 15,
   "metadata": {},
   "outputs": [
    {
     "data": {
      "text/plain": [
       "<matplotlib.collections.PathCollection at 0x7f2b4378c490>"
      ]
     },
     "execution_count": 15,
     "metadata": {},
     "output_type": "execute_result"
    },
    {
     "data": {
      "image/png": "[encoded data removed]",
      "text/plain": [
       "<Figure size 504x504 with 1 Axes>"
      ]
     },
     "metadata": {
      "needs_background": "light"
     },
     "output_type": "display_data"
    }
   ],
   "source": [
    "# Rotate the trajectory so that the agent is facing the same direction as the trajectory\n",
    "plt.scatter(*traj.T)\n",
    "plt.scatter(*traj[index])\n",
    "plt.scatter(pose.x, pose.y)"
   ]
  },
  {
   "cell_type": "code",
   "execution_count": 16,
   "metadata": {},
   "outputs": [],
   "source": [
    "from scipy.optimize import minimize"
   ]
  },
  {
   "cell_type": "code",
   "execution_count": 37,
   "metadata": {},
   "outputs": [],
   "source": [
    "def mpc_loss(u, N, x0, y0, theta0, v0, w0, closest_index, Q, R, dt):\n",
    "    \"\"\"\n",
    "    L(u) = sum_{t=0}^{N-1} Q * ||x_o_t - x_t||^2 + R * ||u_t||^2\n",
    "    \"\"\"\n",
    "    u = u.reshape(-1, 2)\n",
    "    loss = 0\n",
    "    for t in range(N-1):\n",
    "        p, v0, w0 = my_odometry(u[t], x0, y0, theta0, v0, w0, dt=dt)\n",
    "        loss += Q * ((p.x - traj[closest_index,0])**2 + (p.y - traj[closest_index,1])**2) + R * (u[t][0]**2 + u[t][1]**2)\n",
    "        x0, y0, theta0 = p.x, p.y, p.theta\n",
    "    return loss\n"
   ]
  },
  {
   "cell_type": "code",
   "execution_count": 61,
   "metadata": {},
   "outputs": [
    {
     "data": {
      "image/png": "[encoded data removed]",
      "text/plain": [
       "<Figure size 504x504 with 1 Axes>"
      ]
     },
     "metadata": {
      "needs_background": "light"
     },
     "output_type": "display_data"
    }
   ],
   "source": [
    "N = 30\n",
    "Q, R = 10, 0.01\n",
    "\n",
    "horizon_len = N*2\n",
    "simulation_len = 20\n",
    "\n",
    "delta_time = 1.0 / env.frame_rate\n",
    "delay = round(0.15/delta_time)\n",
    "phi = 1\n",
    "\n",
    "bnds = list(((-1, 1) for _ in range(horizon_len)))\n",
    "\n",
    "env.reset()\n",
    "pose = get_position(env)\n",
    "distance,index = spatial.KDTree(traj).query([pose.x, pose.y])\n",
    "index = index - 2\n",
    "plt.scatter(*traj.T)\n",
    "plt.scatter(*traj[index])\n",
    "\n",
    "actions = []\n",
    "loss_val = []\n",
    "odoms = [pose]\n",
    "poses = []\n",
    "v0, w0, = 0, 0\n",
    "\n",
    "u = np.random.standard_normal(horizon_len)\n",
    "res = minimize(mpc_loss, u, args=(N, pose.x, pose.y, pose.theta, v0, w0, index, Q, R, delta_time), method=\"L-BFGS-B\", bounds=bnds)\n",
    "\n",
    "for i in range(delay+N):\n",
    "    action = np.concatenate(([[0,0]]*delay, res.x.reshape(-1, 2)))[i]\n",
    "    actions.append(action)\n",
    "    env.step(action)\n",
    "    pose = get_position(env)\n",
    "    poses.append(pose)\n",
    "    plt.scatter(pose.x, pose.y, c='r')"
   ]
  },
  {
   "cell_type": "code",
   "execution_count": 62,
   "metadata": {},
   "outputs": [
    {
     "data": {
      "text/plain": [
       "[array([0., 0.]),\n",
       " array([0., 0.]),\n",
       " array([0., 0.]),\n",
       " array([0., 0.]),\n",
       " array([1., 1.]),\n",
       " array([1., 1.]),\n",
       " array([1., 1.]),\n",
       " array([1., 1.]),\n",
       " array([1., 1.]),\n",
       " array([1., 1.]),\n",
       " array([1., 1.]),\n",
       " array([1., 1.]),\n",
       " array([1., 1.]),\n",
       " array([1., 1.]),\n",
       " array([1., 1.]),\n",
       " array([1., 1.]),\n",
       " array([1., 1.]),\n",
       " array([1., 1.]),\n",
       " array([1., 1.]),\n",
       " array([1., 1.]),\n",
       " array([1., 1.]),\n",
       " array([1., 1.]),\n",
       " array([1., 1.]),\n",
       " array([1., 1.]),\n",
       " array([1., 1.]),\n",
       " array([1., 1.]),\n",
       " array([1., 1.]),\n",
       " array([1., 1.]),\n",
       " array([0.95526946, 1.        ]),\n",
       " array([0.78242109, 0.89027081]),\n",
       " array([0.57237262, 0.64589564]),\n",
       " array([0.31545321, 0.35251837]),\n",
       " array([-7.71389148e-06, -2.45476883e-06]),\n",
       " array([-1.        , -0.95041876])]"
      ]
     },
     "execution_count": 62,
     "metadata": {},
     "output_type": "execute_result"
    }
   ],
   "source": [
    "actions"
   ]
  },
  {
   "cell_type": "code",
   "execution_count": null,
   "metadata": {},
   "outputs": [],
   "source": []
  }
 ],
 "metadata": {
  "interpreter": {
   "hash": "4142ea5b8ba56e589a4a2de416471962f073c9ba81757176ff018bd56767e94c"
  },
  "kernelspec": {
   "display_name": "Python 3.8.10 64-bit ('DAFFY': venv)",
   "language": "python",
   "name": "python3"
  },
  "language_info": {
   "codemirror_mode": {
    "name": "ipython",
    "version": 3
   },
   "file_extension": ".py",
   "mimetype": "text/x-python",
   "name": "python",
   "nbconvert_exporter": "python",
   "pygments_lexer": "ipython3",
   "version": "3.8.10"
  },
  "orig_nbformat": 4
 },
 "nbformat": 4,
 "nbformat_minor": 2
}
