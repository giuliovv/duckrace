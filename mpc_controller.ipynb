{
 "cells": [
  {
   "cell_type": "code",
   "execution_count": 1,
   "metadata": {},
   "outputs": [
    {
     "name": "stderr",
     "output_type": "stream",
     "text": [
      "DEBUG:commons:version: 6.2.4 *\n",
      "DEBUG:typing:version: 6.2.3\n",
      "DEBUG:duckietown_world:duckietown-world version 6.2.38 path /home/giulio/prog/.virtualenvs/RACE/lib/python3.8/site-packages\n",
      "DEBUG:geometry:PyGeometry-z6 version 2.1.4 path /home/giulio/prog/.virtualenvs/RACE/lib/python3.8/site-packages\n",
      "DEBUG:aido_schemas:aido-protocols version 6.0.59 path /home/giulio/prog/.virtualenvs/RACE/lib/python3.8/site-packages\n",
      "DEBUG:nodes:version 6.2.13 path /home/giulio/prog/.virtualenvs/RACE/lib/python3.8/site-packages pyparsing 3.0.6\n",
      "DEBUG:gym-duckietown:gym-duckietown version 6.1.30 path /home/giulio/prog/.virtualenvs/RACE/lib/python3.8/site-packages\n",
      "\n"
     ]
    },
    {
     "name": "stdout",
     "output_type": "stream",
     "text": [
      "{'audio': ('xaudio2', 'directsound', 'openal', 'pulse', 'silent'), 'debug_font': False, 'debug_gl': True, 'debug_gl_trace': False, 'debug_gl_trace_args': False, 'debug_graphics_batch': False, 'debug_lib': False, 'debug_media': False, 'debug_texture': False, 'debug_trace': False, 'debug_trace_args': False, 'debug_trace_depth': 1, 'debug_trace_flush': True, 'debug_win32': False, 'debug_x11': False, 'graphics_vbo': True, 'shadow_window': True, 'vsync': None, 'xsync': True, 'xlib_fullscreen_override_redirect': False, 'darwin_cocoa': True, 'search_local_libs': True, 'advanced_font_features': False, 'headless': False, 'headless_device': 0}\n"
     ]
    }
   ],
   "source": [
    "import gym_duckietown\n",
    "import matplotlib.pyplot as plt\n",
    "import numpy as np\n",
    "\n",
    "from gym_duckietown.simulator import Simulator\n",
    "from IPython import display as ipythondisplay\n",
    "\n",
    "from utils import get_trajectory, get_position, my_odometry"
   ]
  },
  {
   "cell_type": "code",
   "execution_count": 2,
   "metadata": {},
   "outputs": [],
   "source": [
    "plt.rcParams['figure.figsize'] = [7, 7]"
   ]
  },
  {
   "cell_type": "code",
   "execution_count": 3,
   "metadata": {},
   "outputs": [],
   "source": [
    "#gym_duckietown is very chatty\n",
    "import logging\n",
    "gym_duckietown.logger.setLevel(logging.WARNING)"
   ]
  },
  {
   "cell_type": "code",
   "execution_count": 4,
   "metadata": {},
   "outputs": [
    {
     "name": "stderr",
     "output_type": "stream",
     "text": [
      "INFO:duckietown_world: data: /home/giulio/prog/.virtualenvs/RACE/lib/python3.8/site-packages/duckietown_world/data\n"
     ]
    }
   ],
   "source": [
    "env = Simulator(\"small_loop\",\n",
    "    full_transparency=True,\n",
    "    domain_rand=False,\n",
    "    user_tile_start=[1,0],\n",
    "    seed=42,\n",
    "    max_steps=float(\"inf\"),\n",
    ")"
   ]
  },
  {
   "cell_type": "code",
   "execution_count": 5,
   "metadata": {},
   "outputs": [],
   "source": [
    "env.unwrapped.start_pose = [[0.11699990272521976, 0, 0.41029359288296474], 0]"
   ]
  },
  {
   "cell_type": "code",
   "execution_count": 6,
   "metadata": {},
   "outputs": [],
   "source": [
    "env.reset()\n",
    "traj = get_trajectory(env)"
   ]
  },
  {
   "cell_type": "code",
   "execution_count": 7,
   "metadata": {},
   "outputs": [
    {
     "data": {
      "text/plain": [
       "array([[1.47224186, 0.89882168],\n",
       "       [1.46327478, 0.99399287],\n",
       "       [1.46667284, 1.09337466],\n",
       "       [1.47114545, 1.19275645],\n",
       "       [1.47026898, 1.28107248],\n",
       "       [1.44334587, 1.36818113],\n",
       "       [1.39329816, 1.42978918],\n",
       "       [1.32102126, 1.4597663 ],\n",
       "       [1.24019591, 1.4699859 ],\n",
       "       [1.14303777, 1.47681769]])"
      ]
     },
     "execution_count": 7,
     "metadata": {},
     "output_type": "execute_result"
    }
   ],
   "source": [
    "traj[:10]"
   ]
  },
  {
   "cell_type": "code",
   "execution_count": 8,
   "metadata": {},
   "outputs": [
    {
     "data": {
      "text/plain": [
       "Position(x=0.7019999, y=1.34470641, theta=0.0)"
      ]
     },
     "execution_count": 8,
     "metadata": {},
     "output_type": "execute_result"
    }
   ],
   "source": [
    "pose = get_position(env)\n",
    "pose"
   ]
  },
  {
   "cell_type": "code",
   "execution_count": 9,
   "metadata": {},
   "outputs": [],
   "source": [
    "from scipy import spatial"
   ]
  },
  {
   "cell_type": "code",
   "execution_count": 10,
   "metadata": {},
   "outputs": [],
   "source": [
    "distance,index = spatial.KDTree(traj).query([pose.x, pose.y])"
   ]
  },
  {
   "cell_type": "code",
   "execution_count": 11,
   "metadata": {},
   "outputs": [
    {
     "data": {
      "text/plain": [
       "array([0.72770678, 1.47150851])"
      ]
     },
     "execution_count": 11,
     "metadata": {},
     "output_type": "execute_result"
    }
   ],
   "source": [
    "traj[index]"
   ]
  },
  {
   "cell_type": "code",
   "execution_count": 12,
   "metadata": {},
   "outputs": [
    {
     "data": {
      "text/plain": [
       "<matplotlib.collections.PathCollection at 0x7f2786d2b7f0>"
      ]
     },
     "execution_count": 12,
     "metadata": {},
     "output_type": "execute_result"
    },
    {
     "data": {
      "image/png": "[encoded data removed]",
      "text/plain": [
       "<Figure size 504x504 with 1 Axes>"
      ]
     },
     "metadata": {
      "needs_background": "light"
     },
     "output_type": "display_data"
    }
   ],
   "source": [
    "# Rotate the trajectory so that the agent is facing the same direction as the trajectory\n",
    "plt.scatter(*traj.T)\n",
    "plt.scatter(*traj[index])\n",
    "plt.scatter(pose.x, pose.y)"
   ]
  },
  {
   "cell_type": "code",
   "execution_count": 13,
   "metadata": {},
   "outputs": [],
   "source": [
    "from scipy.optimize import minimize"
   ]
  },
  {
   "cell_type": "code",
   "execution_count": 14,
   "metadata": {},
   "outputs": [],
   "source": [
    "delta_time = 1.0 / env.frame_rate\n",
    "\n",
    "def loss(x, pose, trajectory, index, last_actions, phi, env):\n",
    "    env.reset()\n",
    "    val = 0\n",
    "    x = x.reshape(-1, 2)\n",
    "    p1 = pose\n",
    "    v0, w0 = 0, 0\n",
    "    # To consider delay\n",
    "    for i, el in enumerate(np.concatenate((last_actions, x))):\n",
    "        p1, v0, w0 = my_odometry(el, p1.x, p1.y, p1.theta, v0=v0, w0=w0, dt=0.033)\n",
    "        val += (phi**i)*((trajectory[index][0]-p1.x)**2 + (trajectory[index][1]-p1.y)**2)\n",
    "    return val/len(x)"
   ]
  },
  {
   "cell_type": "markdown",
   "metadata": {},
   "source": [
    "NB There is a delay of 0.15s (line 750)"
   ]
  },
  {
   "cell_type": "code",
   "execution_count": 19,
   "metadata": {},
   "outputs": [
    {
     "data": {
      "image/png": "[encoded data removed]",
      "text/plain": [
       "<Figure size 504x504 with 1 Axes>"
      ]
     },
     "metadata": {},
     "output_type": "display_data"
    },
    {
     "ename": "KeyboardInterrupt",
     "evalue": "",
     "output_type": "error",
     "traceback": [
      "\u001b[0;31m---------------------------------------------------------------------------\u001b[0m",
      "\u001b[0;31mKeyboardInterrupt\u001b[0m                         Traceback (most recent call last)",
      "\u001b[0;32m/tmp/ipykernel_64252/1140318097.py\u001b[0m in \u001b[0;36m<module>\u001b[0;34m\u001b[0m\n\u001b[1;32m     23\u001b[0m \u001b[0;32mfor\u001b[0m \u001b[0maction\u001b[0m \u001b[0;32min\u001b[0m \u001b[0mrange\u001b[0m\u001b[0;34m(\u001b[0m\u001b[0msimulation_len\u001b[0m\u001b[0;34m)\u001b[0m\u001b[0;34m:\u001b[0m\u001b[0;34m\u001b[0m\u001b[0;34m\u001b[0m\u001b[0m\n\u001b[1;32m     24\u001b[0m     \u001b[0mx0\u001b[0m \u001b[0;34m=\u001b[0m \u001b[0mnp\u001b[0m\u001b[0;34m.\u001b[0m\u001b[0mrandom\u001b[0m\u001b[0;34m.\u001b[0m\u001b[0mstandard_normal\u001b[0m\u001b[0;34m(\u001b[0m\u001b[0mhorizon_len\u001b[0m\u001b[0;34m)\u001b[0m\u001b[0;34m\u001b[0m\u001b[0;34m\u001b[0m\u001b[0m\n\u001b[0;32m---> 25\u001b[0;31m     \u001b[0mres\u001b[0m \u001b[0;34m=\u001b[0m \u001b[0mminimize\u001b[0m\u001b[0;34m(\u001b[0m\u001b[0mloss\u001b[0m\u001b[0;34m,\u001b[0m \u001b[0mx0\u001b[0m\u001b[0;34m,\u001b[0m \u001b[0margs\u001b[0m\u001b[0;34m=\u001b[0m\u001b[0;34m(\u001b[0m\u001b[0mpose\u001b[0m\u001b[0;34m,\u001b[0m \u001b[0mtraj\u001b[0m\u001b[0;34m,\u001b[0m \u001b[0mindex\u001b[0m\u001b[0;34m,\u001b[0m \u001b[0mnp\u001b[0m\u001b[0;34m.\u001b[0m\u001b[0marray\u001b[0m\u001b[0;34m(\u001b[0m\u001b[0mactions\u001b[0m\u001b[0;34m[\u001b[0m\u001b[0;34m-\u001b[0m\u001b[0mdelay\u001b[0m\u001b[0;34m:\u001b[0m\u001b[0;34m]\u001b[0m\u001b[0;34m)\u001b[0m\u001b[0;34m,\u001b[0m \u001b[0mphi\u001b[0m\u001b[0;34m,\u001b[0m \u001b[0menv\u001b[0m\u001b[0;34m)\u001b[0m\u001b[0;34m,\u001b[0m \u001b[0mmethod\u001b[0m\u001b[0;34m=\u001b[0m\u001b[0;34m\"L-BFGS-B\"\u001b[0m\u001b[0;34m,\u001b[0m \u001b[0mbounds\u001b[0m\u001b[0;34m=\u001b[0m\u001b[0mbnds\u001b[0m\u001b[0;34m)\u001b[0m\u001b[0;34m\u001b[0m\u001b[0;34m\u001b[0m\u001b[0m\n\u001b[0m\u001b[1;32m     26\u001b[0m     \u001b[0mloss_val\u001b[0m\u001b[0;34m.\u001b[0m\u001b[0mappend\u001b[0m\u001b[0;34m(\u001b[0m\u001b[0mres\u001b[0m\u001b[0;34m.\u001b[0m\u001b[0mfun\u001b[0m\u001b[0;34m)\u001b[0m\u001b[0;34m\u001b[0m\u001b[0;34m\u001b[0m\u001b[0m\n\u001b[1;32m     27\u001b[0m     \u001b[0maction\u001b[0m \u001b[0;34m=\u001b[0m \u001b[0mres\u001b[0m\u001b[0;34m.\u001b[0m\u001b[0mx\u001b[0m\u001b[0;34m[\u001b[0m\u001b[0;34m:\u001b[0m\u001b[0;36m2\u001b[0m\u001b[0;34m]\u001b[0m\u001b[0;34m\u001b[0m\u001b[0;34m\u001b[0m\u001b[0m\n",
      "\u001b[0;32m~/prog/.virtualenvs/RACE/lib/python3.8/site-packages/scipy/optimize/_minimize.py\u001b[0m in \u001b[0;36mminimize\u001b[0;34m(fun, x0, args, method, jac, hess, hessp, bounds, constraints, tol, callback, options)\u001b[0m\n\u001b[1;32m    621\u001b[0m                                   **options)\n\u001b[1;32m    622\u001b[0m     \u001b[0;32melif\u001b[0m \u001b[0mmeth\u001b[0m \u001b[0;34m==\u001b[0m \u001b[0;34m'l-bfgs-b'\u001b[0m\u001b[0;34m:\u001b[0m\u001b[0;34m\u001b[0m\u001b[0;34m\u001b[0m\u001b[0m\n\u001b[0;32m--> 623\u001b[0;31m         return _minimize_lbfgsb(fun, x0, args, jac, bounds,\n\u001b[0m\u001b[1;32m    624\u001b[0m                                 callback=callback, **options)\n\u001b[1;32m    625\u001b[0m     \u001b[0;32melif\u001b[0m \u001b[0mmeth\u001b[0m \u001b[0;34m==\u001b[0m \u001b[0;34m'tnc'\u001b[0m\u001b[0;34m:\u001b[0m\u001b[0;34m\u001b[0m\u001b[0;34m\u001b[0m\u001b[0m\n",
      "\u001b[0;32m~/prog/.virtualenvs/RACE/lib/python3.8/site-packages/scipy/optimize/lbfgsb.py\u001b[0m in \u001b[0;36m_minimize_lbfgsb\u001b[0;34m(fun, x0, args, jac, bounds, disp, maxcor, ftol, gtol, eps, maxfun, maxiter, iprint, callback, maxls, finite_diff_rel_step, **unknown_options)\u001b[0m\n\u001b[1;32m    304\u001b[0m             \u001b[0miprint\u001b[0m \u001b[0;34m=\u001b[0m \u001b[0mdisp\u001b[0m\u001b[0;34m\u001b[0m\u001b[0;34m\u001b[0m\u001b[0m\n\u001b[1;32m    305\u001b[0m \u001b[0;34m\u001b[0m\u001b[0m\n\u001b[0;32m--> 306\u001b[0;31m     sf = _prepare_scalar_function(fun, x0, jac=jac, args=args, epsilon=eps,\n\u001b[0m\u001b[1;32m    307\u001b[0m                                   \u001b[0mbounds\u001b[0m\u001b[0;34m=\u001b[0m\u001b[0mnew_bounds\u001b[0m\u001b[0;34m,\u001b[0m\u001b[0;34m\u001b[0m\u001b[0;34m\u001b[0m\u001b[0m\n\u001b[1;32m    308\u001b[0m                                   finite_diff_rel_step=finite_diff_rel_step)\n",
      "\u001b[0;32m~/prog/.virtualenvs/RACE/lib/python3.8/site-packages/scipy/optimize/optimize.py\u001b[0m in \u001b[0;36m_prepare_scalar_function\u001b[0;34m(fun, x0, jac, args, bounds, epsilon, finite_diff_rel_step, hess)\u001b[0m\n\u001b[1;32m    259\u001b[0m     \u001b[0;31m# ScalarFunction caches. Reuse of fun(x) during grad\u001b[0m\u001b[0;34m\u001b[0m\u001b[0;34m\u001b[0m\u001b[0;34m\u001b[0m\u001b[0m\n\u001b[1;32m    260\u001b[0m     \u001b[0;31m# calculation reduces overall function evaluations.\u001b[0m\u001b[0;34m\u001b[0m\u001b[0;34m\u001b[0m\u001b[0;34m\u001b[0m\u001b[0m\n\u001b[0;32m--> 261\u001b[0;31m     sf = ScalarFunction(fun, x0, args, grad, hess,\n\u001b[0m\u001b[1;32m    262\u001b[0m                         finite_diff_rel_step, bounds, epsilon=epsilon)\n\u001b[1;32m    263\u001b[0m \u001b[0;34m\u001b[0m\u001b[0m\n",
      "\u001b[0;32m~/prog/.virtualenvs/RACE/lib/python3.8/site-packages/scipy/optimize/_differentiable_functions.py\u001b[0m in \u001b[0;36m__init__\u001b[0;34m(self, fun, x0, args, grad, hess, finite_diff_rel_step, finite_diff_bounds, epsilon)\u001b[0m\n\u001b[1;32m    157\u001b[0m \u001b[0;34m\u001b[0m\u001b[0m\n\u001b[1;32m    158\u001b[0m         \u001b[0mself\u001b[0m\u001b[0;34m.\u001b[0m\u001b[0m_update_grad_impl\u001b[0m \u001b[0;34m=\u001b[0m \u001b[0mupdate_grad\u001b[0m\u001b[0;34m\u001b[0m\u001b[0;34m\u001b[0m\u001b[0m\n\u001b[0;32m--> 159\u001b[0;31m         \u001b[0mself\u001b[0m\u001b[0;34m.\u001b[0m\u001b[0m_update_grad\u001b[0m\u001b[0;34m(\u001b[0m\u001b[0;34m)\u001b[0m\u001b[0;34m\u001b[0m\u001b[0;34m\u001b[0m\u001b[0m\n\u001b[0m\u001b[1;32m    160\u001b[0m \u001b[0;34m\u001b[0m\u001b[0m\n\u001b[1;32m    161\u001b[0m         \u001b[0;31m# Hessian Evaluation\u001b[0m\u001b[0;34m\u001b[0m\u001b[0;34m\u001b[0m\u001b[0;34m\u001b[0m\u001b[0m\n",
      "\u001b[0;32m~/prog/.virtualenvs/RACE/lib/python3.8/site-packages/scipy/optimize/_differentiable_functions.py\u001b[0m in \u001b[0;36m_update_grad\u001b[0;34m(self)\u001b[0m\n\u001b[1;32m    236\u001b[0m     \u001b[0;32mdef\u001b[0m \u001b[0m_update_grad\u001b[0m\u001b[0;34m(\u001b[0m\u001b[0mself\u001b[0m\u001b[0;34m)\u001b[0m\u001b[0;34m:\u001b[0m\u001b[0;34m\u001b[0m\u001b[0;34m\u001b[0m\u001b[0m\n\u001b[1;32m    237\u001b[0m         \u001b[0;32mif\u001b[0m \u001b[0;32mnot\u001b[0m \u001b[0mself\u001b[0m\u001b[0;34m.\u001b[0m\u001b[0mg_updated\u001b[0m\u001b[0;34m:\u001b[0m\u001b[0;34m\u001b[0m\u001b[0;34m\u001b[0m\u001b[0m\n\u001b[0;32m--> 238\u001b[0;31m             \u001b[0mself\u001b[0m\u001b[0;34m.\u001b[0m\u001b[0m_update_grad_impl\u001b[0m\u001b[0;34m(\u001b[0m\u001b[0;34m)\u001b[0m\u001b[0;34m\u001b[0m\u001b[0;34m\u001b[0m\u001b[0m\n\u001b[0m\u001b[1;32m    239\u001b[0m             \u001b[0mself\u001b[0m\u001b[0;34m.\u001b[0m\u001b[0mg_updated\u001b[0m \u001b[0;34m=\u001b[0m \u001b[0;32mTrue\u001b[0m\u001b[0;34m\u001b[0m\u001b[0;34m\u001b[0m\u001b[0m\n\u001b[1;32m    240\u001b[0m \u001b[0;34m\u001b[0m\u001b[0m\n",
      "\u001b[0;32m~/prog/.virtualenvs/RACE/lib/python3.8/site-packages/scipy/optimize/_differentiable_functions.py\u001b[0m in \u001b[0;36mupdate_grad\u001b[0;34m()\u001b[0m\n\u001b[1;32m    153\u001b[0m                 \u001b[0mself\u001b[0m\u001b[0;34m.\u001b[0m\u001b[0m_update_fun\u001b[0m\u001b[0;34m(\u001b[0m\u001b[0;34m)\u001b[0m\u001b[0;34m\u001b[0m\u001b[0;34m\u001b[0m\u001b[0m\n\u001b[1;32m    154\u001b[0m                 \u001b[0mself\u001b[0m\u001b[0;34m.\u001b[0m\u001b[0mngev\u001b[0m \u001b[0;34m+=\u001b[0m \u001b[0;36m1\u001b[0m\u001b[0;34m\u001b[0m\u001b[0;34m\u001b[0m\u001b[0m\n\u001b[0;32m--> 155\u001b[0;31m                 self.g = approx_derivative(fun_wrapped, self.x, f0=self.f,\n\u001b[0m\u001b[1;32m    156\u001b[0m                                            **finite_diff_options)\n\u001b[1;32m    157\u001b[0m \u001b[0;34m\u001b[0m\u001b[0m\n",
      "\u001b[0;32m~/prog/.virtualenvs/RACE/lib/python3.8/site-packages/scipy/optimize/_numdiff.py\u001b[0m in \u001b[0;36mapprox_derivative\u001b[0;34m(fun, x0, method, rel_step, abs_step, f0, bounds, sparsity, as_linear_operator, args, kwargs)\u001b[0m\n\u001b[1;32m    484\u001b[0m \u001b[0;34m\u001b[0m\u001b[0m\n\u001b[1;32m    485\u001b[0m         \u001b[0;32mif\u001b[0m \u001b[0msparsity\u001b[0m \u001b[0;32mis\u001b[0m \u001b[0;32mNone\u001b[0m\u001b[0;34m:\u001b[0m\u001b[0;34m\u001b[0m\u001b[0;34m\u001b[0m\u001b[0m\n\u001b[0;32m--> 486\u001b[0;31m             return _dense_difference(fun_wrapped, x0, f0, h,\n\u001b[0m\u001b[1;32m    487\u001b[0m                                      use_one_sided, method)\n\u001b[1;32m    488\u001b[0m         \u001b[0;32melse\u001b[0m\u001b[0;34m:\u001b[0m\u001b[0;34m\u001b[0m\u001b[0;34m\u001b[0m\u001b[0m\n",
      "\u001b[0;32m~/prog/.virtualenvs/RACE/lib/python3.8/site-packages/scipy/optimize/_numdiff.py\u001b[0m in \u001b[0;36m_dense_difference\u001b[0;34m(fun, x0, f0, h, use_one_sided, method)\u001b[0m\n\u001b[1;32m    555\u001b[0m             \u001b[0mx\u001b[0m \u001b[0;34m=\u001b[0m \u001b[0mx0\u001b[0m \u001b[0;34m+\u001b[0m \u001b[0mh_vecs\u001b[0m\u001b[0;34m[\u001b[0m\u001b[0mi\u001b[0m\u001b[0;34m]\u001b[0m\u001b[0;34m\u001b[0m\u001b[0;34m\u001b[0m\u001b[0m\n\u001b[1;32m    556\u001b[0m             \u001b[0mdx\u001b[0m \u001b[0;34m=\u001b[0m \u001b[0mx\u001b[0m\u001b[0;34m[\u001b[0m\u001b[0mi\u001b[0m\u001b[0;34m]\u001b[0m \u001b[0;34m-\u001b[0m \u001b[0mx0\u001b[0m\u001b[0;34m[\u001b[0m\u001b[0mi\u001b[0m\u001b[0;34m]\u001b[0m  \u001b[0;31m# Recompute dx as exactly representable number.\u001b[0m\u001b[0;34m\u001b[0m\u001b[0;34m\u001b[0m\u001b[0m\n\u001b[0;32m--> 557\u001b[0;31m             \u001b[0mdf\u001b[0m \u001b[0;34m=\u001b[0m \u001b[0mfun\u001b[0m\u001b[0;34m(\u001b[0m\u001b[0mx\u001b[0m\u001b[0;34m)\u001b[0m \u001b[0;34m-\u001b[0m \u001b[0mf0\u001b[0m\u001b[0;34m\u001b[0m\u001b[0;34m\u001b[0m\u001b[0m\n\u001b[0m\u001b[1;32m    558\u001b[0m         \u001b[0;32melif\u001b[0m \u001b[0mmethod\u001b[0m \u001b[0;34m==\u001b[0m \u001b[0;34m'3-point'\u001b[0m \u001b[0;32mand\u001b[0m \u001b[0muse_one_sided\u001b[0m\u001b[0;34m[\u001b[0m\u001b[0mi\u001b[0m\u001b[0;34m]\u001b[0m\u001b[0;34m:\u001b[0m\u001b[0;34m\u001b[0m\u001b[0;34m\u001b[0m\u001b[0m\n\u001b[1;32m    559\u001b[0m             \u001b[0mx1\u001b[0m \u001b[0;34m=\u001b[0m \u001b[0mx0\u001b[0m \u001b[0;34m+\u001b[0m \u001b[0mh_vecs\u001b[0m\u001b[0;34m[\u001b[0m\u001b[0mi\u001b[0m\u001b[0;34m]\u001b[0m\u001b[0;34m\u001b[0m\u001b[0;34m\u001b[0m\u001b[0m\n",
      "\u001b[0;32m~/prog/.virtualenvs/RACE/lib/python3.8/site-packages/scipy/optimize/_numdiff.py\u001b[0m in \u001b[0;36mfun_wrapped\u001b[0;34m(x)\u001b[0m\n\u001b[1;32m    435\u001b[0m \u001b[0;34m\u001b[0m\u001b[0m\n\u001b[1;32m    436\u001b[0m     \u001b[0;32mdef\u001b[0m \u001b[0mfun_wrapped\u001b[0m\u001b[0;34m(\u001b[0m\u001b[0mx\u001b[0m\u001b[0;34m)\u001b[0m\u001b[0;34m:\u001b[0m\u001b[0;34m\u001b[0m\u001b[0;34m\u001b[0m\u001b[0m\n\u001b[0;32m--> 437\u001b[0;31m         \u001b[0mf\u001b[0m \u001b[0;34m=\u001b[0m \u001b[0mnp\u001b[0m\u001b[0;34m.\u001b[0m\u001b[0matleast_1d\u001b[0m\u001b[0;34m(\u001b[0m\u001b[0mfun\u001b[0m\u001b[0;34m(\u001b[0m\u001b[0mx\u001b[0m\u001b[0;34m,\u001b[0m \u001b[0;34m*\u001b[0m\u001b[0margs\u001b[0m\u001b[0;34m,\u001b[0m \u001b[0;34m**\u001b[0m\u001b[0mkwargs\u001b[0m\u001b[0;34m)\u001b[0m\u001b[0;34m)\u001b[0m\u001b[0;34m\u001b[0m\u001b[0;34m\u001b[0m\u001b[0m\n\u001b[0m\u001b[1;32m    438\u001b[0m         \u001b[0;32mif\u001b[0m \u001b[0mf\u001b[0m\u001b[0;34m.\u001b[0m\u001b[0mndim\u001b[0m \u001b[0;34m>\u001b[0m \u001b[0;36m1\u001b[0m\u001b[0;34m:\u001b[0m\u001b[0;34m\u001b[0m\u001b[0;34m\u001b[0m\u001b[0m\n\u001b[1;32m    439\u001b[0m             raise RuntimeError(\"`fun` return value has \"\n",
      "\u001b[0;32m~/prog/.virtualenvs/RACE/lib/python3.8/site-packages/scipy/optimize/_differentiable_functions.py\u001b[0m in \u001b[0;36mfun_wrapped\u001b[0;34m(x)\u001b[0m\n\u001b[1;32m    132\u001b[0m             \u001b[0;31m# Overwriting results in undefined behaviour because\u001b[0m\u001b[0;34m\u001b[0m\u001b[0;34m\u001b[0m\u001b[0;34m\u001b[0m\u001b[0m\n\u001b[1;32m    133\u001b[0m             \u001b[0;31m# fun(self.x) will change self.x, with the two no longer linked.\u001b[0m\u001b[0;34m\u001b[0m\u001b[0;34m\u001b[0m\u001b[0;34m\u001b[0m\u001b[0m\n\u001b[0;32m--> 134\u001b[0;31m             \u001b[0;32mreturn\u001b[0m \u001b[0mfun\u001b[0m\u001b[0;34m(\u001b[0m\u001b[0mnp\u001b[0m\u001b[0;34m.\u001b[0m\u001b[0mcopy\u001b[0m\u001b[0;34m(\u001b[0m\u001b[0mx\u001b[0m\u001b[0;34m)\u001b[0m\u001b[0;34m,\u001b[0m \u001b[0;34m*\u001b[0m\u001b[0margs\u001b[0m\u001b[0;34m)\u001b[0m\u001b[0;34m\u001b[0m\u001b[0;34m\u001b[0m\u001b[0m\n\u001b[0m\u001b[1;32m    135\u001b[0m \u001b[0;34m\u001b[0m\u001b[0m\n\u001b[1;32m    136\u001b[0m         \u001b[0;32mdef\u001b[0m \u001b[0mupdate_fun\u001b[0m\u001b[0;34m(\u001b[0m\u001b[0;34m)\u001b[0m\u001b[0;34m:\u001b[0m\u001b[0;34m\u001b[0m\u001b[0;34m\u001b[0m\u001b[0m\n",
      "\u001b[0;32m/tmp/ipykernel_64252/3574302335.py\u001b[0m in \u001b[0;36mloss\u001b[0;34m(x, pose, trajectory, index, last_actions, phi, env)\u001b[0m\n\u001b[1;32m      2\u001b[0m \u001b[0;34m\u001b[0m\u001b[0m\n\u001b[1;32m      3\u001b[0m \u001b[0;32mdef\u001b[0m \u001b[0mloss\u001b[0m\u001b[0;34m(\u001b[0m\u001b[0mx\u001b[0m\u001b[0;34m,\u001b[0m \u001b[0mpose\u001b[0m\u001b[0;34m,\u001b[0m \u001b[0mtrajectory\u001b[0m\u001b[0;34m,\u001b[0m \u001b[0mindex\u001b[0m\u001b[0;34m,\u001b[0m \u001b[0mlast_actions\u001b[0m\u001b[0;34m,\u001b[0m \u001b[0mphi\u001b[0m\u001b[0;34m,\u001b[0m \u001b[0menv\u001b[0m\u001b[0;34m)\u001b[0m\u001b[0;34m:\u001b[0m\u001b[0;34m\u001b[0m\u001b[0;34m\u001b[0m\u001b[0m\n\u001b[0;32m----> 4\u001b[0;31m     \u001b[0menv\u001b[0m\u001b[0;34m.\u001b[0m\u001b[0mreset\u001b[0m\u001b[0;34m(\u001b[0m\u001b[0;34m)\u001b[0m\u001b[0;34m\u001b[0m\u001b[0;34m\u001b[0m\u001b[0m\n\u001b[0m\u001b[1;32m      5\u001b[0m     \u001b[0mval\u001b[0m \u001b[0;34m=\u001b[0m \u001b[0;36m0\u001b[0m\u001b[0;34m\u001b[0m\u001b[0;34m\u001b[0m\u001b[0m\n\u001b[1;32m      6\u001b[0m     \u001b[0mx\u001b[0m \u001b[0;34m=\u001b[0m \u001b[0mx\u001b[0m\u001b[0;34m.\u001b[0m\u001b[0mreshape\u001b[0m\u001b[0;34m(\u001b[0m\u001b[0;34m-\u001b[0m\u001b[0;36m1\u001b[0m\u001b[0;34m,\u001b[0m \u001b[0;36m2\u001b[0m\u001b[0;34m)\u001b[0m\u001b[0;34m\u001b[0m\u001b[0;34m\u001b[0m\u001b[0m\n",
      "\u001b[0;32m~/prog/.virtualenvs/RACE/lib/python3.8/site-packages/gym_duckietown/simulator.py\u001b[0m in \u001b[0;36mreset\u001b[0;34m(self, segment)\u001b[0m\n\u001b[1;32m    636\u001b[0m \u001b[0;34m\u001b[0m\u001b[0m\n\u001b[1;32m    637\u001b[0m             \u001b[0mkind\u001b[0m \u001b[0;34m=\u001b[0m \u001b[0mtile\u001b[0m\u001b[0;34m[\u001b[0m\u001b[0;34m\"kind\"\u001b[0m\u001b[0;34m]\u001b[0m\u001b[0;34m\u001b[0m\u001b[0;34m\u001b[0m\u001b[0m\n\u001b[0;32m--> 638\u001b[0;31m             \u001b[0mfn\u001b[0m \u001b[0;34m=\u001b[0m \u001b[0mget_texture_file\u001b[0m\u001b[0;34m(\u001b[0m\u001b[0;34mf\"tiles-processed/{self.style}/{kind}/texture\"\u001b[0m\u001b[0;34m)\u001b[0m\u001b[0;34m[\u001b[0m\u001b[0;36m0\u001b[0m\u001b[0;34m]\u001b[0m\u001b[0;34m\u001b[0m\u001b[0;34m\u001b[0m\u001b[0m\n\u001b[0m\u001b[1;32m    639\u001b[0m             \u001b[0;31m# ft = get_fancy_textures(self.style, texture_name)\u001b[0m\u001b[0;34m\u001b[0m\u001b[0;34m\u001b[0m\u001b[0;34m\u001b[0m\u001b[0m\n\u001b[1;32m    640\u001b[0m             \u001b[0mt\u001b[0m \u001b[0;34m=\u001b[0m \u001b[0mload_texture\u001b[0m\u001b[0;34m(\u001b[0m\u001b[0mfn\u001b[0m\u001b[0;34m,\u001b[0m \u001b[0msegment\u001b[0m\u001b[0;34m=\u001b[0m\u001b[0;32mFalse\u001b[0m\u001b[0;34m,\u001b[0m \u001b[0msegment_into_color\u001b[0m\u001b[0;34m=\u001b[0m\u001b[0;32mFalse\u001b[0m\u001b[0;34m)\u001b[0m\u001b[0;34m\u001b[0m\u001b[0;34m\u001b[0m\u001b[0m\n",
      "\u001b[0;32m~/prog/.virtualenvs/RACE/lib/python3.8/site-packages/duckietown_world/world_duckietown/map_loading.py\u001b[0m in \u001b[0;36mget_texture_file\u001b[0;34m(tex_name)\u001b[0m\n\u001b[1;32m    294\u001b[0m \u001b[0;34m\u001b[0m\u001b[0m\n\u001b[1;32m    295\u001b[0m         \u001b[0;32mfor\u001b[0m \u001b[0mv\u001b[0m \u001b[0;32min\u001b[0m \u001b[0mres2\u001b[0m\u001b[0;34m:\u001b[0m\u001b[0;34m\u001b[0m\u001b[0;34m\u001b[0m\u001b[0m\n\u001b[0;32m--> 296\u001b[0;31m             \u001b[0;32mif\u001b[0m \u001b[0mv\u001b[0m\u001b[0;34m.\u001b[0m\u001b[0mendswith\u001b[0m\u001b[0;34m(\u001b[0m\u001b[0mbasename\u001b[0m\u001b[0;34m)\u001b[0m\u001b[0;34m:\u001b[0m\u001b[0;34m\u001b[0m\u001b[0;34m\u001b[0m\u001b[0m\n\u001b[0m\u001b[1;32m    297\u001b[0m                 \u001b[0mres\u001b[0m\u001b[0;34m.\u001b[0m\u001b[0mappend\u001b[0m\u001b[0;34m(\u001b[0m\u001b[0mv\u001b[0m\u001b[0;34m)\u001b[0m\u001b[0;34m\u001b[0m\u001b[0;34m\u001b[0m\u001b[0m\n\u001b[1;32m    298\u001b[0m         \u001b[0;31m#\u001b[0m\u001b[0;34m\u001b[0m\u001b[0;34m\u001b[0m\u001b[0;34m\u001b[0m\u001b[0m\n",
      "\u001b[0;31mKeyboardInterrupt\u001b[0m: "
     ]
    }
   ],
   "source": [
    "horizon_len = 10\n",
    "simulation_len = 30\n",
    "\n",
    "delay = round(0.15/delta_time)\n",
    "delay = 1\n",
    "phi = 1\n",
    "\n",
    "horizon_len = horizon_len * 2\n",
    "\n",
    "bnds = list(((-1, 1) for _ in range(horizon_len)))\n",
    "\n",
    "env.reset()\n",
    "pose = get_position(env)\n",
    "distance,index = spatial.KDTree(traj).query([pose.x, pose.y])\n",
    "index = index - 3\n",
    "plt.scatter(*traj.T)\n",
    "actions = [[0,0] for _ in range(delay)]\n",
    "loss_val = []\n",
    "odoms = [pose]\n",
    "poses = []\n",
    "v0, w0, = 0, 0\n",
    "env.reset()\n",
    "for action in range(simulation_len):\n",
    "    x0 = np.random.standard_normal(horizon_len)\n",
    "    res = minimize(loss, x0, args=(pose, traj, index, np.array(actions[-delay:]), phi, env), method=\"L-BFGS-B\", bounds=bnds)\n",
    "    loss_val.append(res.fun)\n",
    "    action = res.x[:2]\n",
    "    obs, reward, done, info = env.step(action)\n",
    "    if reward == -1000:\n",
    "        print(\"Collision\")\n",
    "        break\n",
    "    # Test odometry\n",
    "    p, v0, w0 = my_odometry(action, odoms[-1].x, odoms[-1].y, odoms[-1].theta, v0=v0, w0=w0, dt=0.033)\n",
    "    odoms.append(p)\n",
    "    try:\n",
    "        pose = get_position(env)\n",
    "    except ValueError:\n",
    "        print(env.cartesian_from_weird(env.cur_pos, env.cur_angle))\n",
    "        break\n",
    "    poses.append(pose)\n",
    "    # print(loss(np.array([0,1]*int(horizon_len/2)).reshape(-1), pose, traj, index))\n",
    "    plt.scatter(*traj[index], c='y')\n",
    "    plt.scatter(pose.x, pose.y, marker=\"o\", c=\"b\")\n",
    "    # Test odometry\n",
    "    o = get_position(env)\n",
    "    plt.scatter(o.x, o.y, marker=\"*\", c=\"r\")\n",
    "    # plt.scatter(p.x, p.y, marker=\"*\", c=\"r\")\n",
    "    # plt.imshow(obs)\n",
    "    ipythondisplay.clear_output(wait=True)\n",
    "    ipythondisplay.display(plt.gcf())\n",
    "    # index = index-1\n",
    "    if index < 0:\n",
    "        index = traj.shape[0]-1"
   ]
  },
  {
   "cell_type": "code",
   "execution_count": null,
   "metadata": {},
   "outputs": [],
   "source": [
    "import optuna"
   ]
  },
  {
   "cell_type": "code",
   "execution_count": null,
   "metadata": {},
   "outputs": [],
   "source": [
    "def objective(trial):\n",
    "    horizon_len = trial.suggest_int('horizon_len', 1, 20)\n",
    "    delay = trial.suggest_int('delay', 1, 15)\n",
    "    # phi = trial.suggest_float('phi', 0, 1)\n",
    "    phi = 1\n",
    "    simulation_len = 80\n",
    "    horizon_len = horizon_len * 2\n",
    "\n",
    "    bnds = list(((-1, 1) for _ in range(horizon_len)))\n",
    "\n",
    "    env.reset()\n",
    "    pose = get_position(env)\n",
    "    distance,index = spatial.KDTree(traj).query([pose.x, pose.y])\n",
    "    index = index - 3\n",
    "    plt.scatter(*traj.T)\n",
    "    actions = [[0,0] for _ in range(delay)]\n",
    "    loss_val = []\n",
    "    for _ in range(simulation_len):\n",
    "        x0 = np.random.standard_normal(horizon_len)\n",
    "        res = minimize(loss, x0, args=(pose, traj, index, np.array(actions[-delay:]), phi), method=\"L-BFGS-B\", bounds=bnds)\n",
    "        loss_val.append(res.fun)\n",
    "        action = res.x[:2]\n",
    "        actions.append(action)\n",
    "        obs, reward, done, info = env.step(action)\n",
    "        if reward == -1000:\n",
    "            print(\"Collision\")\n",
    "            return 1000\n",
    "        try:\n",
    "            pose = get_position(env)\n",
    "        except ValueError:\n",
    "            print(env.cartesian_from_weird(env.cur_pos, env.cur_angle))\n",
    "            return 1000\n",
    "        if index < 0:\n",
    "            index = traj.shape[0]-1\n",
    "    return sum(loss_val)"
   ]
  },
  {
   "cell_type": "code",
   "execution_count": null,
   "metadata": {},
   "outputs": [
    {
     "name": "stderr",
     "output_type": "stream",
     "text": [
      "\u001b[32m[I 2021-12-31 20:51:35,457]\u001b[0m A new study created in memory with name: no-name-3678be12-3519-4370-b50a-8f25f86398bc\u001b[0m\n",
      "\u001b[32m[I 2021-12-31 20:53:37,070]\u001b[0m Trial 0 finished with value: 1000.0 and parameters: {'horizon_len': 19, 'delay': 6}. Best is trial 0 with value: 1000.0.\u001b[0m\n"
     ]
    },
    {
     "name": "stdout",
     "output_type": "stream",
     "text": [
      "[[ 0.20133687  0.97952206  0.782505  ]\n",
      " [-0.97952206  0.20133687  1.34341853]\n",
      " [ 0.          0.          1.        ]]\n"
     ]
    },
    {
     "name": "stderr",
     "output_type": "stream",
     "text": [
      "\u001b[32m[I 2021-12-31 20:58:51,081]\u001b[0m Trial 1 finished with value: 8.315930443281752 and parameters: {'horizon_len': 20, 'delay': 15}. Best is trial 1 with value: 8.315930443281752.\u001b[0m\n",
      "\u001b[32m[I 2021-12-31 20:59:44,156]\u001b[0m Trial 2 finished with value: 1000.0 and parameters: {'horizon_len': 12, 'delay': 7}. Best is trial 1 with value: 8.315930443281752.\u001b[0m\n"
     ]
    },
    {
     "name": "stdout",
     "output_type": "stream",
     "text": [
      "[[ 0.28335052  0.95901641  0.843942  ]\n",
      " [-0.95901641  0.28335052  1.35135658]\n",
      " [ 0.          0.          1.        ]]\n"
     ]
    },
    {
     "name": "stderr",
     "output_type": "stream",
     "text": [
      "\u001b[32m[I 2021-12-31 21:03:08,536]\u001b[0m Trial 3 finished with value: 5.471766130479739 and parameters: {'horizon_len': 19, 'delay': 5}. Best is trial 3 with value: 5.471766130479739.\u001b[0m\n",
      "\u001b[32m[I 2021-12-31 21:06:34,454]\u001b[0m Trial 4 finished with value: 2.6792359915269994 and parameters: {'horizon_len': 20, 'delay': 2}. Best is trial 4 with value: 2.6792359915269994.\u001b[0m\n",
      "\u001b[32m[I 2021-12-31 21:06:40,087]\u001b[0m Trial 5 finished with value: 3.084336377238914 and parameters: {'horizon_len': 3, 'delay': 1}. Best is trial 4 with value: 2.6792359915269994.\u001b[0m\n",
      "\u001b[32m[I 2021-12-31 21:07:32,121]\u001b[0m Trial 6 finished with value: 1000.0 and parameters: {'horizon_len': 13, 'delay': 6}. Best is trial 4 with value: 2.6792359915269994.\u001b[0m\n"
     ]
    },
    {
     "name": "stdout",
     "output_type": "stream",
     "text": [
      "[[ 0.89704244 -0.44194441  0.843486  ]\n",
      " [ 0.44194441  0.89704244  1.30617374]\n",
      " [ 0.          0.          1.        ]]\n"
     ]
    },
    {
     "name": "stderr",
     "output_type": "stream",
     "text": [
      "\u001b[32m[I 2021-12-31 21:08:59,060]\u001b[0m Trial 7 finished with value: 5.8824530581379735 and parameters: {'horizon_len': 13, 'delay': 8}. Best is trial 4 with value: 2.6792359915269994.\u001b[0m\n",
      "\u001b[32m[I 2021-12-31 21:09:57,147]\u001b[0m Trial 8 finished with value: 1000.0 and parameters: {'horizon_len': 13, 'delay': 14}. Best is trial 4 with value: 2.6792359915269994.\u001b[0m\n"
     ]
    },
    {
     "name": "stdout",
     "output_type": "stream",
     "text": [
      "[[ 0.40956748  0.91227983  0.822527  ]\n",
      " [-0.91227983  0.40956748  1.32918237]\n",
      " [ 0.          0.          1.        ]]\n"
     ]
    },
    {
     "name": "stderr",
     "output_type": "stream",
     "text": [
      "\u001b[32m[I 2021-12-31 21:12:27,725]\u001b[0m Trial 9 finished with value: 5.602531072695301 and parameters: {'horizon_len': 17, 'delay': 12}. Best is trial 4 with value: 2.6792359915269994.\u001b[0m\n",
      "\u001b[32m[I 2021-12-31 21:12:46,020]\u001b[0m Trial 10 finished with value: 2.779522070523045 and parameters: {'horizon_len': 7, 'delay': 2}. Best is trial 4 with value: 2.6792359915269994.\u001b[0m\n",
      "\u001b[32m[I 2021-12-31 21:12:53,199]\u001b[0m Trial 11 finished with value: 1000.0 and parameters: {'horizon_len': 5, 'delay': 1}. Best is trial 4 with value: 2.6792359915269994.\u001b[0m\n"
     ]
    },
    {
     "name": "stdout",
     "output_type": "stream",
     "text": [
      "[[ 0.84473491 -0.53518495  1.0348    ]\n",
      " [ 0.53518495  0.84473491  1.33074528]\n",
      " [ 0.          0.          1.        ]]\n"
     ]
    },
    {
     "name": "stderr",
     "output_type": "stream",
     "text": [
      "\u001b[32m[I 2021-12-31 21:12:57,148]\u001b[0m Trial 12 finished with value: 1000.0 and parameters: {'horizon_len': 7, 'delay': 3}. Best is trial 4 with value: 2.6792359915269994.\u001b[0m\n"
     ]
    },
    {
     "name": "stdout",
     "output_type": "stream",
     "text": [
      "[[ 0.99470808 -0.10274163  0.936537  ]\n",
      " [ 0.10274163  0.99470808  1.34789261]\n",
      " [ 0.          0.          1.        ]]\n"
     ]
    },
    {
     "name": "stderr",
     "output_type": "stream",
     "text": [
      "\u001b[32m[I 2021-12-31 21:13:01,447]\u001b[0m Trial 13 finished with value: 1000.0 and parameters: {'horizon_len': 8, 'delay': 3}. Best is trial 4 with value: 2.6792359915269994.\u001b[0m\n"
     ]
    },
    {
     "name": "stdout",
     "output_type": "stream",
     "text": [
      "[[ 0.99992613 -0.01215426  0.852011  ]\n",
      " [ 0.01215426  0.99992613  1.34486744]\n",
      " [ 0.          0.          1.        ]]\n"
     ]
    },
    {
     "name": "stderr",
     "output_type": "stream",
     "text": [
      "\u001b[32m[I 2021-12-31 21:13:31,990]\u001b[0m Trial 14 finished with value: 1000.0 and parameters: {'horizon_len': 9, 'delay': 11}. Best is trial 4 with value: 2.6792359915269994.\u001b[0m\n"
     ]
    },
    {
     "name": "stdout",
     "output_type": "stream",
     "text": [
      "[[ 0.61820823  0.78601436  0.890371  ]\n",
      " [-0.78601436  0.61820823  1.31855268]\n",
      " [ 0.          0.          1.        ]]\n"
     ]
    },
    {
     "name": "stderr",
     "output_type": "stream",
     "text": [
      "\u001b[32m[I 2021-12-31 21:13:35,598]\u001b[0m Trial 15 finished with value: 10.728687048778 and parameters: {'horizon_len': 1, 'delay': 3}. Best is trial 4 with value: 2.6792359915269994.\u001b[0m\n",
      "\u001b[32m[I 2021-12-31 21:15:01,422]\u001b[0m Trial 16 finished with value: 1000.0 and parameters: {'horizon_len': 15, 'delay': 4}. Best is trial 4 with value: 2.6792359915269994.\u001b[0m\n"
     ]
    },
    {
     "name": "stdout",
     "output_type": "stream",
     "text": [
      "Collision\n"
     ]
    },
    {
     "name": "stderr",
     "output_type": "stream",
     "text": [
      "\u001b[32m[I 2021-12-31 21:15:34,727]\u001b[0m Trial 17 finished with value: 7.901184354441537 and parameters: {'horizon_len': 10, 'delay': 10}. Best is trial 4 with value: 2.6792359915269994.\u001b[0m\n",
      "\u001b[32m[I 2021-12-31 21:15:36,078]\u001b[0m Trial 18 finished with value: 1000.0 and parameters: {'horizon_len': 6, 'delay': 1}. Best is trial 4 with value: 2.6792359915269994.\u001b[0m\n"
     ]
    },
    {
     "name": "stdout",
     "output_type": "stream",
     "text": [
      "[[ 0.94152776 -0.33693543  1.049592  ]\n",
      " [ 0.33693543  0.94152776  1.36071593]\n",
      " [ 0.          0.          1.        ]]\n"
     ]
    },
    {
     "name": "stderr",
     "output_type": "stream",
     "text": [
      "\u001b[32m[I 2021-12-31 21:16:31,290]\u001b[0m Trial 19 finished with value: 5.787761080806382 and parameters: {'horizon_len': 16, 'delay': 8}. Best is trial 4 with value: 2.6792359915269994.\u001b[0m\n",
      "\u001b[32m[I 2021-12-31 21:16:34,628]\u001b[0m Trial 20 finished with value: 8.030479264500567 and parameters: {'horizon_len': 4, 'delay': 2}. Best is trial 4 with value: 2.6792359915269994.\u001b[0m\n",
      "\u001b[32m[I 2021-12-31 21:16:35,283]\u001b[0m Trial 21 finished with value: 1000.0 and parameters: {'horizon_len': 2, 'delay': 1}. Best is trial 4 with value: 2.6792359915269994.\u001b[0m\n"
     ]
    },
    {
     "name": "stdout",
     "output_type": "stream",
     "text": [
      "[[ 0.96223901 -0.27220597  1.125978  ]\n",
      " [ 0.27220597  0.96223901  1.35753719]\n",
      " [ 0.          0.          1.        ]]\n"
     ]
    },
    {
     "name": "stderr",
     "output_type": "stream",
     "text": [
      "\u001b[32m[I 2021-12-31 21:16:36,245]\u001b[0m Trial 22 finished with value: 1000.0 and parameters: {'horizon_len': 3, 'delay': 4}. Best is trial 4 with value: 2.6792359915269994.\u001b[0m\n"
     ]
    },
    {
     "name": "stdout",
     "output_type": "stream",
     "text": [
      "[[ 0.95887187 -0.28383929  1.086272  ]\n",
      " [ 0.28383929  0.95887187  1.35989635]\n",
      " [ 0.          0.          1.        ]]\n"
     ]
    },
    {
     "name": "stderr",
     "output_type": "stream",
     "text": [
      "\u001b[32m[I 2021-12-31 21:16:39,643]\u001b[0m Trial 23 finished with value: 3.490673441532369 and parameters: {'horizon_len': 5, 'delay': 2}. Best is trial 4 with value: 2.6792359915269994.\u001b[0m\n",
      "\u001b[32m[I 2021-12-31 21:16:46,012]\u001b[0m Trial 24 finished with value: 1000.0 and parameters: {'horizon_len': 7, 'delay': 5}. Best is trial 4 with value: 2.6792359915269994.\u001b[0m\n"
     ]
    },
    {
     "name": "stdout",
     "output_type": "stream",
     "text": [
      "[[ 0.59081906  0.80680409  0.95334   ]\n",
      " [-0.80680409  0.59081906  1.36881385]\n",
      " [ 0.          0.          1.        ]]\n"
     ]
    },
    {
     "name": "stderr",
     "output_type": "stream",
     "text": [
      "\u001b[32m[I 2021-12-31 21:16:48,112]\u001b[0m Trial 25 finished with value: 1000.0 and parameters: {'horizon_len': 3, 'delay': 2}. Best is trial 4 with value: 2.6792359915269994.\u001b[0m\n"
     ]
    },
    {
     "name": "stdout",
     "output_type": "stream",
     "text": [
      "[[ 0.89834551 -0.43928959  1.094988  ]\n",
      " [ 0.43928959  0.89834551  1.37151103]\n",
      " [ 0.          0.          1.        ]]\n"
     ]
    },
    {
     "name": "stderr",
     "output_type": "stream",
     "text": [
      "\u001b[32m[I 2021-12-31 21:16:54,545]\u001b[0m Trial 26 finished with value: 1000.0 and parameters: {'horizon_len': 10, 'delay': 4}. Best is trial 4 with value: 2.6792359915269994.\u001b[0m\n"
     ]
    },
    {
     "name": "stdout",
     "output_type": "stream",
     "text": [
      "[[ 0.37084212  0.92869592  0.94963   ]\n",
      " [-0.92869592  0.37084212  1.30241602]\n",
      " [ 0.          0.          1.        ]]\n"
     ]
    },
    {
     "name": "stderr",
     "output_type": "stream",
     "text": [
      "\u001b[32m[I 2021-12-31 21:16:55,675]\u001b[0m Trial 27 finished with value: 1000.0 and parameters: {'horizon_len': 1, 'delay': 1}. Best is trial 4 with value: 2.6792359915269994.\u001b[0m\n"
     ]
    },
    {
     "name": "stdout",
     "output_type": "stream",
     "text": [
      "[[ 0.96978559  0.24395881  1.23382   ]\n",
      " [-0.24395881  0.96978559  1.35037542]\n",
      " [ 0.          0.          1.        ]]\n"
     ]
    },
    {
     "name": "stderr",
     "output_type": "stream",
     "text": [
      "\u001b[32m[I 2021-12-31 21:17:05,420]\u001b[0m Trial 28 finished with value: 1000.0 and parameters: {'horizon_len': 8, 'delay': 3}. Best is trial 4 with value: 2.6792359915269994.\u001b[0m\n"
     ]
    },
    {
     "name": "stdout",
     "output_type": "stream",
     "text": [
      "Collision\n"
     ]
    },
    {
     "name": "stderr",
     "output_type": "stream",
     "text": [
      "\u001b[32m[I 2021-12-31 21:17:10,407]\u001b[0m Trial 29 finished with value: 3.422381200401133 and parameters: {'horizon_len': 5, 'delay': 6}. Best is trial 4 with value: 2.6792359915269994.\u001b[0m\n",
      "\u001b[32m[I 2021-12-31 21:17:29,620]\u001b[0m Trial 30 finished with value: 4.1467673498659465 and parameters: {'horizon_len': 11, 'delay': 5}. Best is trial 4 with value: 2.6792359915269994.\u001b[0m\n",
      "\u001b[32m[I 2021-12-31 21:17:34,629]\u001b[0m Trial 31 finished with value: 3.635864674007367 and parameters: {'horizon_len': 5, 'delay': 6}. Best is trial 4 with value: 2.6792359915269994.\u001b[0m\n",
      "\u001b[32m[I 2021-12-31 21:17:36,552]\u001b[0m Trial 32 finished with value: 4.949898471720773 and parameters: {'horizon_len': 3, 'delay': 2}. Best is trial 4 with value: 2.6792359915269994.\u001b[0m\n",
      "\u001b[32m[I 2021-12-31 21:19:26,808]\u001b[0m Trial 33 finished with value: 5.966341336258483 and parameters: {'horizon_len': 20, 'delay': 9}. Best is trial 4 with value: 2.6792359915269994.\u001b[0m\n",
      "\u001b[32m[I 2021-12-31 21:19:33,455]\u001b[0m Trial 34 finished with value: 2.9844778330595276 and parameters: {'horizon_len': 6, 'delay': 4}. Best is trial 4 with value: 2.6792359915269994.\u001b[0m\n",
      "\u001b[32m[I 2021-12-31 21:19:40,734]\u001b[0m Trial 35 finished with value: 2.2473322771572772 and parameters: {'horizon_len': 7, 'delay': 2}. Best is trial 35 with value: 2.2473322771572772.\u001b[0m\n",
      "\u001b[32m[I 2021-12-31 21:19:47,789]\u001b[0m Trial 36 finished with value: 3.4662860986590296 and parameters: {'horizon_len': 7, 'delay': 4}. Best is trial 35 with value: 2.2473322771572772.\u001b[0m\n",
      "\u001b[32m[I 2021-12-31 21:19:58,439]\u001b[0m Trial 37 finished with value: 2.302177391209794 and parameters: {'horizon_len': 9, 'delay': 2}. Best is trial 35 with value: 2.2473322771572772.\u001b[0m\n",
      "\u001b[32m[I 2021-12-31 21:20:01,925]\u001b[0m Trial 38 finished with value: 1000.0 and parameters: {'horizon_len': 11, 'delay': 7}. Best is trial 35 with value: 2.2473322771572772.\u001b[0m\n"
     ]
    },
    {
     "name": "stdout",
     "output_type": "stream",
     "text": [
      "[[ 0.99464033 -0.10339547  0.820095  ]\n",
      " [ 0.10339547  0.99464033  1.34933541]\n",
      " [ 0.          0.          1.        ]]\n"
     ]
    },
    {
     "name": "stderr",
     "output_type": "stream",
     "text": [
      "\u001b[32m[I 2021-12-31 21:20:12,476]\u001b[0m Trial 39 finished with value: 1.8905955853613028 and parameters: {'horizon_len': 9, 'delay': 2}. Best is trial 39 with value: 1.8905955853613028.\u001b[0m\n",
      "\u001b[32m[I 2021-12-31 21:20:20,348]\u001b[0m Trial 40 finished with value: 1000.0 and parameters: {'horizon_len': 12, 'delay': 15}. Best is trial 39 with value: 1.8905955853613028.\u001b[0m\n"
     ]
    },
    {
     "name": "stdout",
     "output_type": "stream",
     "text": [
      "[[ 0.91205848  0.41006014  0.839053  ]\n",
      " [-0.41006014  0.91205848  1.34029096]\n",
      " [ 0.          0.          1.        ]]\n"
     ]
    },
    {
     "name": "stderr",
     "output_type": "stream",
     "text": [
      "\u001b[32m[I 2021-12-31 21:20:31,639]\u001b[0m Trial 41 finished with value: 1.7183622952368984 and parameters: {'horizon_len': 9, 'delay': 2}. Best is trial 41 with value: 1.7183622952368984.\u001b[0m\n",
      "\u001b[32m[I 2021-12-31 21:20:42,734]\u001b[0m Trial 42 finished with value: 1000.0 and parameters: {'horizon_len': 9, 'delay': 3}. Best is trial 41 with value: 1.7183622952368984.\u001b[0m\n"
     ]
    },
    {
     "name": "stdout",
     "output_type": "stream",
     "text": [
      "[[ 0.98850009  0.15122028  0.96085   ]\n",
      " [-0.15122028  0.98850009  1.36978544]\n",
      " [ 0.          0.          1.        ]]\n"
     ]
    },
    {
     "name": "stderr",
     "output_type": "stream",
     "text": [
      "\u001b[32m[I 2021-12-31 21:21:35,802]\u001b[0m Trial 43 finished with value: 3.9857937432729114 and parameters: {'horizon_len': 18, 'delay': 2}. Best is trial 41 with value: 1.7183622952368984.\u001b[0m\n",
      "\u001b[32m[I 2021-12-31 21:21:51,224]\u001b[0m Trial 44 finished with value: 1000.0 and parameters: {'horizon_len': 14, 'delay': 1}. Best is trial 41 with value: 1.7183622952368984.\u001b[0m\n"
     ]
    },
    {
     "name": "stdout",
     "output_type": "stream",
     "text": [
      "[[ 0.93622248  0.35140783  0.779029  ]\n",
      " [-0.35140783  0.93622248  1.34008326]\n",
      " [ 0.          0.          1.        ]]\n"
     ]
    },
    {
     "name": "stderr",
     "output_type": "stream",
     "text": [
      "\u001b[32m[I 2021-12-31 21:21:55,746]\u001b[0m Trial 45 finished with value: 1000.0 and parameters: {'horizon_len': 9, 'delay': 3}. Best is trial 41 with value: 1.7183622952368984.\u001b[0m\n"
     ]
    },
    {
     "name": "stdout",
     "output_type": "stream",
     "text": [
      "[[ 0.99975534  0.02211921  0.973982  ]\n",
      " [-0.02211921  0.99975534  1.35316786]\n",
      " [ 0.          0.          1.        ]]\n"
     ]
    },
    {
     "name": "stderr",
     "output_type": "stream",
     "text": [
      "\u001b[32m[I 2021-12-31 21:22:14,659]\u001b[0m Trial 46 finished with value: 1.738649680228747 and parameters: {'horizon_len': 12, 'delay': 1}. Best is trial 41 with value: 1.7183622952368984.\u001b[0m\n",
      "\u001b[32m[I 2021-12-31 21:22:22,332]\u001b[0m Trial 47 finished with value: 1.5490904499926335 and parameters: {'horizon_len': 8, 'delay': 1}. Best is trial 47 with value: 1.5490904499926335.\u001b[0m\n",
      "\u001b[32m[I 2021-12-31 21:22:43,309]\u001b[0m Trial 48 finished with value: 1.7309379415863966 and parameters: {'horizon_len': 12, 'delay': 1}. Best is trial 47 with value: 1.5490904499926335.\u001b[0m\n",
      "\u001b[32m[I 2021-12-31 21:22:59,622]\u001b[0m Trial 49 finished with value: 1000.0 and parameters: {'horizon_len': 12, 'delay': 1}. Best is trial 47 with value: 1.5490904499926335.\u001b[0m\n"
     ]
    },
    {
     "name": "stdout",
     "output_type": "stream",
     "text": [
      "[[ 0.27602166 -0.96115142  0.972317  ]\n",
      " [ 0.96115142  0.27602166  1.27150746]\n",
      " [ 0.          0.          1.        ]]\n"
     ]
    },
    {
     "name": "stderr",
     "output_type": "stream",
     "text": [
      "\u001b[32m[I 2021-12-31 21:23:04,608]\u001b[0m Trial 50 finished with value: 1000.0 and parameters: {'horizon_len': 13, 'delay': 13}. Best is trial 47 with value: 1.5490904499926335.\u001b[0m\n"
     ]
    },
    {
     "name": "stdout",
     "output_type": "stream",
     "text": [
      "[[ 0.99931146 -0.03710272  0.738642  ]\n",
      " [ 0.03710272  0.99931146  1.34543963]\n",
      " [ 0.          0.          1.        ]]\n"
     ]
    },
    {
     "name": "stderr",
     "output_type": "stream",
     "text": [
      "\u001b[32m[I 2021-12-31 21:23:10,272]\u001b[0m Trial 51 finished with value: 1000.0 and parameters: {'horizon_len': 8, 'delay': 1}. Best is trial 47 with value: 1.5490904499926335.\u001b[0m\n"
     ]
    },
    {
     "name": "stdout",
     "output_type": "stream",
     "text": [
      "[[ 0.83612675 -0.54853629  0.999769  ]\n",
      " [ 0.54853629  0.83612675  1.37417091]\n",
      " [ 0.          0.          1.        ]]\n"
     ]
    },
    {
     "name": "stderr",
     "output_type": "stream",
     "text": [
      "\u001b[32m[I 2021-12-31 21:23:24,601]\u001b[0m Trial 52 finished with value: 1000.0 and parameters: {'horizon_len': 11, 'delay': 2}. Best is trial 47 with value: 1.5490904499926335.\u001b[0m\n"
     ]
    },
    {
     "name": "stdout",
     "output_type": "stream",
     "text": [
      "[[ 0.89508444  0.44589668  0.958582  ]\n",
      " [-0.44589668  0.89508444  1.28945948]\n",
      " [ 0.          0.          1.        ]]\n"
     ]
    },
    {
     "name": "stderr",
     "output_type": "stream",
     "text": [
      "\u001b[32m[I 2021-12-31 21:23:39,178]\u001b[0m Trial 53 finished with value: 3.124253631407022 and parameters: {'horizon_len': 10, 'delay': 3}. Best is trial 47 with value: 1.5490904499926335.\u001b[0m\n",
      "\u001b[32m[I 2021-12-31 21:24:08,173]\u001b[0m Trial 54 finished with value: 4.107084456162096 and parameters: {'horizon_len': 14, 'delay': 1}. Best is trial 47 with value: 1.5490904499926335.\u001b[0m\n",
      "\u001b[32m[I 2021-12-31 21:24:10,111]\u001b[0m Trial 55 finished with value: 1000.0 and parameters: {'horizon_len': 12, 'delay': 2}. Best is trial 47 with value: 1.5490904499926335.\u001b[0m\n"
     ]
    },
    {
     "name": "stdout",
     "output_type": "stream",
     "text": [
      "[[ 0.99913297 -0.04163301  0.781352  ]\n",
      " [ 0.04163301  0.99913297  1.34635377]\n",
      " [ 0.          0.          1.        ]]\n"
     ]
    },
    {
     "name": "stderr",
     "output_type": "stream",
     "text": [
      "\u001b[32m[I 2021-12-31 21:24:18,479]\u001b[0m Trial 56 finished with value: 1.848946384419308 and parameters: {'horizon_len': 8, 'delay': 1}. Best is trial 47 with value: 1.5490904499926335.\u001b[0m\n",
      "\u001b[32m[I 2021-12-31 21:24:23,663]\u001b[0m Trial 57 finished with value: 1000.0 and parameters: {'horizon_len': 8, 'delay': 1}. Best is trial 47 with value: 1.5490904499926335.\u001b[0m\n"
     ]
    },
    {
     "name": "stdout",
     "output_type": "stream",
     "text": [
      "[[ 0.86456847 -0.50251503  0.970646  ]\n",
      " [ 0.50251503  0.86456847  1.32484048]\n",
      " [ 0.          0.          1.        ]]\n"
     ]
    },
    {
     "name": "stderr",
     "output_type": "stream",
     "text": [
      "\u001b[32m[I 2021-12-31 21:24:37,222]\u001b[0m Trial 58 finished with value: 1000.0 and parameters: {'horizon_len': 10, 'delay': 3}. Best is trial 47 with value: 1.5490904499926335.\u001b[0m\n"
     ]
    },
    {
     "name": "stdout",
     "output_type": "stream",
     "text": [
      "[[-0.73849131  0.67426299  0.980724  ]\n",
      " [-0.67426299 -0.73849131  1.30242431]\n",
      " [ 0.          0.          1.        ]]\n"
     ]
    },
    {
     "name": "stderr",
     "output_type": "stream",
     "text": [
      "\u001b[32m[I 2021-12-31 21:24:50,632]\u001b[0m Trial 59 finished with value: 1000.0 and parameters: {'horizon_len': 9, 'delay': 5}. Best is trial 47 with value: 1.5490904499926335.\u001b[0m\n"
     ]
    },
    {
     "name": "stdout",
     "output_type": "stream",
     "text": [
      "[[ 0.87886988  0.47706156  0.90886   ]\n",
      " [-0.47706156  0.87886988  1.40475606]\n",
      " [ 0.          0.          1.        ]]\n"
     ]
    },
    {
     "name": "stderr",
     "output_type": "stream",
     "text": [
      "\u001b[32m[I 2021-12-31 21:24:59,818]\u001b[0m Trial 60 finished with value: 1000.0 and parameters: {'horizon_len': 14, 'delay': 1}. Best is trial 47 with value: 1.5490904499926335.\u001b[0m\n"
     ]
    },
    {
     "name": "stdout",
     "output_type": "stream",
     "text": [
      "[[ 0.89563855  0.44478263  0.766001  ]\n",
      " [-0.44478263  0.89563855  1.34097059]\n",
      " [ 0.          0.          1.        ]]\n"
     ]
    },
    {
     "name": "stderr",
     "output_type": "stream",
     "text": [
      "\u001b[32m[I 2021-12-31 21:25:04,102]\u001b[0m Trial 61 finished with value: 2.4699594855964233 and parameters: {'horizon_len': 6, 'delay': 2}. Best is trial 47 with value: 1.5490904499926335.\u001b[0m\n",
      "\u001b[32m[I 2021-12-31 21:25:05,786]\u001b[0m Trial 62 finished with value: 1000.0 and parameters: {'horizon_len': 7, 'delay': 1}. Best is trial 47 with value: 1.5490904499926335.\u001b[0m\n"
     ]
    },
    {
     "name": "stdout",
     "output_type": "stream",
     "text": [
      "[[ 0.98596495 -0.16695244  0.988417  ]\n",
      " [ 0.16695244  0.98596495  1.35172777]\n",
      " [ 0.          0.          1.        ]]\n"
     ]
    },
    {
     "name": "stderr",
     "output_type": "stream",
     "text": [
      "\u001b[32m[I 2021-12-31 21:25:15,576]\u001b[0m Trial 63 finished with value: 2.348626157436488 and parameters: {'horizon_len': 8, 'delay': 3}. Best is trial 47 with value: 1.5490904499926335.\u001b[0m\n",
      "\u001b[32m[I 2021-12-31 21:25:18,677]\u001b[0m Trial 64 finished with value: 1000.0 and parameters: {'horizon_len': 11, 'delay': 2}. Best is trial 47 with value: 1.5490904499926335.\u001b[0m\n"
     ]
    },
    {
     "name": "stdout",
     "output_type": "stream",
     "text": [
      "[[ 0.99378077  0.11135432  0.886518  ]\n",
      " [-0.11135432  0.99378077  1.34646272]\n",
      " [ 0.          0.          1.        ]]\n"
     ]
    },
    {
     "name": "stderr",
     "output_type": "stream",
     "text": [
      "\u001b[32m[I 2021-12-31 21:25:27,676]\u001b[0m Trial 65 finished with value: 1000.0 and parameters: {'horizon_len': 12, 'delay': 1}. Best is trial 47 with value: 1.5490904499926335.\u001b[0m\n"
     ]
    },
    {
     "name": "stdout",
     "output_type": "stream",
     "text": [
      "[[ 0.81771458  0.57562389  0.922816  ]\n",
      " [-0.57562389  0.81771458  1.34784327]\n",
      " [ 0.          0.          1.        ]]\n"
     ]
    },
    {
     "name": "stderr",
     "output_type": "stream",
     "text": [
      "\u001b[32m[I 2021-12-31 21:25:43,540]\u001b[0m Trial 66 finished with value: 2.399763012288727 and parameters: {'horizon_len': 10, 'delay': 4}. Best is trial 47 with value: 1.5490904499926335.\u001b[0m\n",
      "\u001b[32m[I 2021-12-31 21:25:47,138]\u001b[0m Trial 67 finished with value: 1000.0 and parameters: {'horizon_len': 6, 'delay': 2}. Best is trial 47 with value: 1.5490904499926335.\u001b[0m\n"
     ]
    },
    {
     "name": "stdout",
     "output_type": "stream",
     "text": [
      "[[ 0.92998492 -0.36759766  0.886699  ]\n",
      " [ 0.36759766  0.92998492  1.31281636]\n",
      " [ 0.          0.          1.        ]]\n"
     ]
    },
    {
     "name": "stderr",
     "output_type": "stream",
     "text": [
      "\u001b[32m[I 2021-12-31 21:25:49,249]\u001b[0m Trial 68 finished with value: 1000.0 and parameters: {'horizon_len': 9, 'delay': 1}. Best is trial 47 with value: 1.5490904499926335.\u001b[0m\n"
     ]
    },
    {
     "name": "stdout",
     "output_type": "stream",
     "text": [
      "[[ 0.99492891 -0.10058065  0.917686  ]\n",
      " [ 0.10058065  0.99492891  1.34813599]\n",
      " [ 0.          0.          1.        ]]\n"
     ]
    },
    {
     "name": "stderr",
     "output_type": "stream",
     "text": [
      "\u001b[32m[I 2021-12-31 21:25:56,722]\u001b[0m Trial 69 finished with value: 2.252786020965919 and parameters: {'horizon_len': 7, 'delay': 3}. Best is trial 47 with value: 1.5490904499926335.\u001b[0m\n",
      "\u001b[32m[I 2021-12-31 21:26:11,642]\u001b[0m Trial 70 finished with value: 1000.0 and parameters: {'horizon_len': 13, 'delay': 2}. Best is trial 47 with value: 1.5490904499926335.\u001b[0m\n"
     ]
    },
    {
     "name": "stdout",
     "output_type": "stream",
     "text": [
      "[[ 0.42329445  0.90599217  0.775359  ]\n",
      " [-0.90599217  0.42329445  1.40306235]\n",
      " [ 0.          0.          1.        ]]\n"
     ]
    },
    {
     "name": "stderr",
     "output_type": "stream",
     "text": [
      "\u001b[32m[I 2021-12-31 21:26:18,154]\u001b[0m Trial 71 finished with value: 2.3728891612834038 and parameters: {'horizon_len': 7, 'delay': 3}. Best is trial 47 with value: 1.5490904499926335.\u001b[0m\n",
      "\u001b[32m[I 2021-12-31 21:26:21,490]\u001b[0m Trial 72 finished with value: 1000.0 and parameters: {'horizon_len': 8, 'delay': 1}. Best is trial 47 with value: 1.5490904499926335.\u001b[0m\n"
     ]
    },
    {
     "name": "stdout",
     "output_type": "stream",
     "text": [
      "[[ 0.84852462 -0.52915591  1.00135   ]\n",
      " [ 0.52915591  0.84852462  1.35872446]\n",
      " [ 0.          0.          1.        ]]\n"
     ]
    },
    {
     "name": "stderr",
     "output_type": "stream",
     "text": [
      "\u001b[32m[I 2021-12-31 21:26:31,214]\u001b[0m Trial 73 finished with value: 2.3437901893500377 and parameters: {'horizon_len': 8, 'delay': 2}. Best is trial 47 with value: 1.5490904499926335.\u001b[0m\n",
      "\u001b[32m[I 2021-12-31 21:26:38,518]\u001b[0m Trial 74 finished with value: 3.0156776985758578 and parameters: {'horizon_len': 7, 'delay': 2}. Best is trial 47 with value: 1.5490904499926335.\u001b[0m\n",
      "\u001b[32m[I 2021-12-31 21:26:40,476]\u001b[0m Trial 75 finished with value: 1000.0 and parameters: {'horizon_len': 6, 'delay': 3}. Best is trial 47 with value: 1.5490904499926335.\u001b[0m\n"
     ]
    },
    {
     "name": "stdout",
     "output_type": "stream",
     "text": [
      "[[ 0.99823223 -0.05943411  1.028629  ]\n",
      " [ 0.05943411  0.99823223  1.35702154]\n",
      " [ 0.          0.          1.        ]]\n"
     ]
    },
    {
     "name": "stderr",
     "output_type": "stream",
     "text": [
      "\u001b[32m[I 2021-12-31 21:26:42,245]\u001b[0m Trial 76 finished with value: 1000.0 and parameters: {'horizon_len': 4, 'delay': 1}. Best is trial 47 with value: 1.5490904499926335.\u001b[0m\n"
     ]
    },
    {
     "name": "stdout",
     "output_type": "stream",
     "text": [
      "[[ 0.63087473 -0.77588471  1.09651   ]\n",
      " [ 0.77588471  0.63087473  1.36272313]\n",
      " [ 0.          0.          1.        ]]\n"
     ]
    },
    {
     "name": "stderr",
     "output_type": "stream",
     "text": [
      "\u001b[32m[I 2021-12-31 21:26:44,689]\u001b[0m Trial 77 finished with value: 1000.0 and parameters: {'horizon_len': 10, 'delay': 7}. Best is trial 47 with value: 1.5490904499926335.\u001b[0m\n"
     ]
    },
    {
     "name": "stdout",
     "output_type": "stream",
     "text": [
      "[[ 0.99748156 -0.07092623  0.794542  ]\n",
      " [ 0.07092623  0.99748156  1.34658778]\n",
      " [ 0.          0.          1.        ]]\n"
     ]
    },
    {
     "name": "stderr",
     "output_type": "stream",
     "text": [
      "\u001b[32m[I 2021-12-31 21:26:55,901]\u001b[0m Trial 78 finished with value: 1.4263769114725302 and parameters: {'horizon_len': 9, 'delay': 1}. Best is trial 78 with value: 1.4263769114725302.\u001b[0m\n",
      "\u001b[32m[I 2021-12-31 21:26:57,576]\u001b[0m Trial 79 finished with value: 1000.0 and parameters: {'horizon_len': 11, 'delay': 1}. Best is trial 78 with value: 1.4263769114725302.\u001b[0m\n"
     ]
    },
    {
     "name": "stdout",
     "output_type": "stream",
     "text": [
      "[[ 9.99999768e-01 -6.80697645e-04  7.69839997e-01]\n",
      " [ 6.80697645e-04  9.99999768e-01  1.34471129e+00]\n",
      " [ 0.00000000e+00  0.00000000e+00  1.00000000e+00]]\n"
     ]
    },
    {
     "name": "stderr",
     "output_type": "stream",
     "text": [
      "\u001b[32m[I 2021-12-31 21:27:09,521]\u001b[0m Trial 80 finished with value: 1000.0 and parameters: {'horizon_len': 9, 'delay': 11}. Best is trial 78 with value: 1.4263769114725302.\u001b[0m\n"
     ]
    },
    {
     "name": "stdout",
     "output_type": "stream",
     "text": [
      "[[ 0.75916942  0.65089307  0.860689  ]\n",
      " [-0.65089307  0.75916942  1.33184147]\n",
      " [ 0.          0.          1.        ]]\n"
     ]
    },
    {
     "name": "stderr",
     "output_type": "stream",
     "text": [
      "\u001b[32m[I 2021-12-31 21:27:16,957]\u001b[0m Trial 81 finished with value: 2.3746807230518354 and parameters: {'horizon_len': 7, 'delay': 2}. Best is trial 78 with value: 1.4263769114725302.\u001b[0m\n",
      "\u001b[32m[I 2021-12-31 21:27:25,055]\u001b[0m Trial 82 finished with value: 1.9474253879875931 and parameters: {'horizon_len': 8, 'delay': 1}. Best is trial 78 with value: 1.4263769114725302.\u001b[0m\n",
      "\u001b[32m[I 2021-12-31 21:27:31,889]\u001b[0m Trial 83 finished with value: 1000.0 and parameters: {'horizon_len': 8, 'delay': 1}. Best is trial 78 with value: 1.4263769114725302.\u001b[0m\n"
     ]
    },
    {
     "name": "stdout",
     "output_type": "stream",
     "text": [
      "[[ 0.74698248  0.66484373  1.075973  ]\n",
      " [-0.66484373  0.74698248  1.38057923]\n",
      " [ 0.          0.          1.        ]]\n"
     ]
    },
    {
     "name": "stderr",
     "output_type": "stream",
     "text": [
      "\u001b[32m[I 2021-12-31 21:27:41,599]\u001b[0m Trial 84 finished with value: 1.5516184942119262 and parameters: {'horizon_len': 9, 'delay': 1}. Best is trial 78 with value: 1.4263769114725302.\u001b[0m\n",
      "\u001b[32m[I 2021-12-31 21:27:45,980]\u001b[0m Trial 85 finished with value: 1000.0 and parameters: {'horizon_len': 9, 'delay': 1}. Best is trial 78 with value: 1.4263769114725302.\u001b[0m\n"
     ]
    },
    {
     "name": "stdout",
     "output_type": "stream",
     "text": [
      "[[ 0.93803477 -0.34654114  1.03604   ]\n",
      " [ 0.34654114  0.93803477  1.38057125]\n",
      " [ 0.          0.          1.        ]]\n"
     ]
    },
    {
     "name": "stderr",
     "output_type": "stream",
     "text": [
      "\u001b[32m[I 2021-12-31 21:27:56,439]\u001b[0m Trial 86 finished with value: 1000.0 and parameters: {'horizon_len': 10, 'delay': 1}. Best is trial 78 with value: 1.4263769114725302.\u001b[0m\n"
     ]
    },
    {
     "name": "stdout",
     "output_type": "stream",
     "text": [
      "[[ 0.43207827  0.90183611  1.054237  ]\n",
      " [-0.90183611  0.43207827  1.34125272]\n",
      " [ 0.          0.          1.        ]]\n"
     ]
    },
    {
     "name": "stderr",
     "output_type": "stream",
     "text": [
      "\u001b[32m[I 2021-12-31 21:28:06,769]\u001b[0m Trial 87 finished with value: 1000.0 and parameters: {'horizon_len': 11, 'delay': 2}. Best is trial 78 with value: 1.4263769114725302.\u001b[0m\n"
     ]
    },
    {
     "name": "stdout",
     "output_type": "stream",
     "text": [
      "[[ 0.51964936  0.85437962  0.939932  ]\n",
      " [-0.85437962  0.51964936  1.34638736]\n",
      " [ 0.          0.          1.        ]]\n"
     ]
    },
    {
     "name": "stderr",
     "output_type": "stream",
     "text": [
      "\u001b[32m[I 2021-12-31 21:28:21,973]\u001b[0m Trial 88 finished with value: 1.5837561979950878 and parameters: {'horizon_len': 10, 'delay': 1}. Best is trial 78 with value: 1.4263769114725302.\u001b[0m\n",
      "\u001b[32m[I 2021-12-31 21:28:39,143]\u001b[0m Trial 89 finished with value: 1.7858247156380915 and parameters: {'horizon_len': 10, 'delay': 2}. Best is trial 78 with value: 1.4263769114725302.\u001b[0m\n",
      "\u001b[32m[I 2021-12-31 21:28:58,018]\u001b[0m Trial 90 finished with value: 1.9311158697900943 and parameters: {'horizon_len': 12, 'delay': 1}. Best is trial 78 with value: 1.4263769114725302.\u001b[0m\n",
      "\u001b[32m[I 2021-12-31 21:29:11,414]\u001b[0m Trial 91 finished with value: 2.0576802471092672 and parameters: {'horizon_len': 10, 'delay': 2}. Best is trial 78 with value: 1.4263769114725302.\u001b[0m\n",
      "\u001b[32m[I 2021-12-31 21:29:21,785]\u001b[0m Trial 92 finished with value: 1.3173522599073766 and parameters: {'horizon_len': 9, 'delay': 1}. Best is trial 92 with value: 1.3173522599073766.\u001b[0m\n",
      "\u001b[32m[I 2021-12-31 21:29:35,837]\u001b[0m Trial 93 finished with value: 1.5595553210167 and parameters: {'horizon_len': 10, 'delay': 1}. Best is trial 92 with value: 1.3173522599073766.\u001b[0m\n",
      "\u001b[32m[I 2021-12-31 21:29:47,623]\u001b[0m Trial 94 finished with value: 1000.0 and parameters: {'horizon_len': 11, 'delay': 9}. Best is trial 92 with value: 1.3173522599073766.\u001b[0m\n"
     ]
    },
    {
     "name": "stdout",
     "output_type": "stream",
     "text": [
      "[[-0.39195347 -0.91998504  0.834332  ]\n",
      " [ 0.91998504 -0.39195347  1.34870245]\n",
      " [ 0.          0.          1.        ]]\n"
     ]
    },
    {
     "name": "stderr",
     "output_type": "stream",
     "text": [
      "\u001b[32m[I 2021-12-31 21:30:00,217]\u001b[0m Trial 95 finished with value: 1.7124394863457781 and parameters: {'horizon_len': 10, 'delay': 1}. Best is trial 92 with value: 1.3173522599073766.\u001b[0m\n",
      "\u001b[32m[I 2021-12-31 21:30:03,686]\u001b[0m Trial 96 finished with value: 1000.0 and parameters: {'horizon_len': 9, 'delay': 1}. Best is trial 92 with value: 1.3173522599073766.\u001b[0m\n"
     ]
    },
    {
     "name": "stdout",
     "output_type": "stream",
     "text": [
      "[[ 0.93709837 -0.3490654   0.996977  ]\n",
      " [ 0.3490654   0.93709837  1.36276281]\n",
      " [ 0.          0.          1.        ]]\n"
     ]
    },
    {
     "name": "stderr",
     "output_type": "stream",
     "text": [
      "\u001b[32m[I 2021-12-31 21:30:22,180]\u001b[0m Trial 97 finished with value: 1000.0 and parameters: {'horizon_len': 12, 'delay': 1}. Best is trial 92 with value: 1.3173522599073766.\u001b[0m\n"
     ]
    },
    {
     "name": "stdout",
     "output_type": "stream",
     "text": [
      "Collision\n"
     ]
    },
    {
     "name": "stderr",
     "output_type": "stream",
     "text": [
      "\u001b[32m[I 2021-12-31 21:30:51,663]\u001b[0m Trial 98 finished with value: 8.711032292952272 and parameters: {'horizon_len': 11, 'delay': 14}. Best is trial 92 with value: 1.3173522599073766.\u001b[0m\n",
      "\u001b[32m[I 2021-12-31 21:31:07,519]\u001b[0m Trial 99 finished with value: 1000.0 and parameters: {'horizon_len': 13, 'delay': 1}. Best is trial 92 with value: 1.3173522599073766.\u001b[0m\n"
     ]
    },
    {
     "name": "stdout",
     "output_type": "stream",
     "text": [
      "[[ 0.11651748  0.99318864  0.770253  ]\n",
      " [-0.99318864  0.11651748  1.35338093]\n",
      " [ 0.          0.          1.        ]]\n"
     ]
    },
    {
     "name": "stderr",
     "output_type": "stream",
     "text": [
      "\u001b[32m[I 2021-12-31 21:31:21,927]\u001b[0m Trial 100 finished with value: 1.6820041534113994 and parameters: {'horizon_len': 10, 'delay': 2}. Best is trial 92 with value: 1.3173522599073766.\u001b[0m\n",
      "\u001b[32m[I 2021-12-31 21:31:30,844]\u001b[0m Trial 101 finished with value: 1000.0 and parameters: {'horizon_len': 10, 'delay': 2}. Best is trial 92 with value: 1.3173522599073766.\u001b[0m\n"
     ]
    },
    {
     "name": "stdout",
     "output_type": "stream",
     "text": [
      "[[ 0.98476578  0.17388607  0.951365  ]\n",
      " [-0.17388607  0.98476578  1.34568224]\n",
      " [ 0.          0.          1.        ]]\n"
     ]
    },
    {
     "name": "stderr",
     "output_type": "stream",
     "text": [
      "\u001b[32m[I 2021-12-31 21:31:40,943]\u001b[0m Trial 102 finished with value: 1.3298484345422275 and parameters: {'horizon_len': 9, 'delay': 1}. Best is trial 92 with value: 1.3173522599073766.\u001b[0m\n",
      "\u001b[32m[I 2021-12-31 21:31:52,872]\u001b[0m Trial 103 finished with value: 1.7204734587484936 and parameters: {'horizon_len': 9, 'delay': 1}. Best is trial 92 with value: 1.3173522599073766.\u001b[0m\n",
      "\u001b[32m[I 2021-12-31 21:31:56,644]\u001b[0m Trial 104 finished with value: 1000.0 and parameters: {'horizon_len': 9, 'delay': 1}. Best is trial 92 with value: 1.3173522599073766.\u001b[0m\n"
     ]
    },
    {
     "name": "stdout",
     "output_type": "stream",
     "text": [
      "[[ 0.98093718 -0.19432513  0.971871  ]\n",
      " [ 0.19432513  0.98093718  1.35534595]\n",
      " [ 0.          0.          1.        ]]\n"
     ]
    },
    {
     "name": "stderr",
     "output_type": "stream",
     "text": [
      "\u001b[32m[I 2021-12-31 21:32:07,457]\u001b[0m Trial 105 finished with value: 1.6489822566015362 and parameters: {'horizon_len': 9, 'delay': 2}. Best is trial 92 with value: 1.3173522599073766.\u001b[0m\n",
      "\u001b[32m[I 2021-12-31 21:32:12,007]\u001b[0m Trial 106 finished with value: 1000.0 and parameters: {'horizon_len': 10, 'delay': 3}. Best is trial 92 with value: 1.3173522599073766.\u001b[0m\n"
     ]
    },
    {
     "name": "stdout",
     "output_type": "stream",
     "text": [
      "[[ 0.9626111   0.2708872   0.927604  ]\n",
      " [-0.2708872   0.9626111   1.34425175]\n",
      " [ 0.          0.          1.        ]]\n"
     ]
    },
    {
     "name": "stderr",
     "output_type": "stream",
     "text": [
      "\u001b[32m[I 2021-12-31 21:32:21,447]\u001b[0m Trial 107 finished with value: 1000.0 and parameters: {'horizon_len': 9, 'delay': 2}. Best is trial 92 with value: 1.3173522599073766.\u001b[0m\n"
     ]
    },
    {
     "name": "stdout",
     "output_type": "stream",
     "text": [
      "[[ 0.5249199  -0.85115163  0.935284  ]\n",
      " [ 0.85115163  0.5249199   1.32896089]\n",
      " [ 0.          0.          1.        ]]\n"
     ]
    },
    {
     "name": "stderr",
     "output_type": "stream",
     "text": [
      "\u001b[32m[I 2021-12-31 21:32:26,163]\u001b[0m Trial 108 finished with value: 1000.0 and parameters: {'horizon_len': 8, 'delay': 2}. Best is trial 92 with value: 1.3173522599073766.\u001b[0m\n"
     ]
    },
    {
     "name": "stdout",
     "output_type": "stream",
     "text": [
      "[[ 0.99857345 -0.05339541  1.083596  ]\n",
      " [ 0.05339541  0.99857345  1.36361327]\n",
      " [ 0.          0.          1.        ]]\n"
     ]
    },
    {
     "name": "stderr",
     "output_type": "stream",
     "text": [
      "\u001b[32m[I 2021-12-31 21:32:33,875]\u001b[0m Trial 109 finished with value: 1000.0 and parameters: {'horizon_len': 10, 'delay': 2}. Best is trial 92 with value: 1.3173522599073766.\u001b[0m\n"
     ]
    },
    {
     "name": "stdout",
     "output_type": "stream",
     "text": [
      "[[ 0.99923552 -0.03909448  0.968502  ]\n",
      " [ 0.03909448  0.99923552  1.34607817]\n",
      " [ 0.          0.          1.        ]]\n"
     ]
    },
    {
     "name": "stderr",
     "output_type": "stream",
     "text": [
      "\u001b[32m[I 2021-12-31 21:32:37,630]\u001b[0m Trial 110 finished with value: 1000.0 and parameters: {'horizon_len': 9, 'delay': 1}. Best is trial 92 with value: 1.3173522599073766.\u001b[0m\n"
     ]
    },
    {
     "name": "stdout",
     "output_type": "stream",
     "text": [
      "[[ 0.89528008 -0.44550373  1.011412  ]\n",
      " [ 0.44550373  0.89528008  1.36946133]\n",
      " [ 0.          0.          1.        ]]\n"
     ]
    },
    {
     "name": "stderr",
     "output_type": "stream",
     "text": [
      "\u001b[32m[I 2021-12-31 21:32:51,330]\u001b[0m Trial 111 finished with value: 1.615365394326711 and parameters: {'horizon_len': 9, 'delay': 1}. Best is trial 92 with value: 1.3173522599073766.\u001b[0m\n",
      "\u001b[32m[I 2021-12-31 21:32:57,931]\u001b[0m Trial 112 finished with value: 1000.0 and parameters: {'horizon_len': 8, 'delay': 1}. Best is trial 92 with value: 1.3173522599073766.\u001b[0m\n"
     ]
    },
    {
     "name": "stdout",
     "output_type": "stream",
     "text": [
      "[[ 0.83223238  0.55442697  0.957435  ]\n",
      " [-0.55442697  0.83223238  1.35163365]\n",
      " [ 0.          0.          1.        ]]\n"
     ]
    },
    {
     "name": "stderr",
     "output_type": "stream",
     "text": [
      "\u001b[32m[I 2021-12-31 21:33:13,852]\u001b[0m Trial 113 finished with value: 1.5335493984059938 and parameters: {'horizon_len': 10, 'delay': 2}. Best is trial 92 with value: 1.3173522599073766.\u001b[0m\n",
      "\u001b[32m[I 2021-12-31 21:33:27,865]\u001b[0m Trial 114 finished with value: 1.7385033016799487 and parameters: {'horizon_len': 10, 'delay': 2}. Best is trial 92 with value: 1.3173522599073766.\u001b[0m\n",
      "\u001b[32m[I 2021-12-31 21:33:45,179]\u001b[0m Trial 115 finished with value: 1.891535758280613 and parameters: {'horizon_len': 11, 'delay': 1}. Best is trial 92 with value: 1.3173522599073766.\u001b[0m\n",
      "\u001b[32m[I 2021-12-31 21:33:55,970]\u001b[0m Trial 116 finished with value: 2.110430682308801 and parameters: {'horizon_len': 9, 'delay': 3}. Best is trial 92 with value: 1.3173522599073766.\u001b[0m\n",
      "\u001b[32m[I 2021-12-31 21:34:09,500]\u001b[0m Trial 117 finished with value: 1.4280913984162442 and parameters: {'horizon_len': 10, 'delay': 1}. Best is trial 92 with value: 1.3173522599073766.\u001b[0m\n",
      "\u001b[32m[I 2021-12-31 21:34:14,053]\u001b[0m Trial 118 finished with value: 1000.0 and parameters: {'horizon_len': 10, 'delay': 2}. Best is trial 92 with value: 1.3173522599073766.\u001b[0m\n"
     ]
    },
    {
     "name": "stdout",
     "output_type": "stream",
     "text": [
      "[[ 0.99686817  0.07908124  0.96752   ]\n",
      " [-0.07908124  0.99686817  1.34527257]\n",
      " [ 0.          0.          1.        ]]\n"
     ]
    },
    {
     "name": "stderr",
     "output_type": "stream",
     "text": [
      "\u001b[32m[I 2021-12-31 21:34:25,249]\u001b[0m Trial 119 finished with value: 1.6648262306549293 and parameters: {'horizon_len': 9, 'delay': 2}. Best is trial 92 with value: 1.3173522599073766.\u001b[0m\n",
      "\u001b[32m[I 2021-12-31 21:34:28,968]\u001b[0m Trial 120 finished with value: 1000.0 and parameters: {'horizon_len': 8, 'delay': 1}. Best is trial 92 with value: 1.3173522599073766.\u001b[0m\n"
     ]
    },
    {
     "name": "stdout",
     "output_type": "stream",
     "text": [
      "[[ 0.96838493 -0.24946067  1.012038  ]\n",
      " [ 0.24946067  0.96838493  1.36204676]\n",
      " [ 0.          0.          1.        ]]\n"
     ]
    },
    {
     "name": "stderr",
     "output_type": "stream",
     "text": [
      "\u001b[32m[I 2021-12-31 21:34:40,585]\u001b[0m Trial 121 finished with value: 1.7307415845484173 and parameters: {'horizon_len': 9, 'delay': 2}. Best is trial 92 with value: 1.3173522599073766.\u001b[0m\n",
      "\u001b[32m[I 2021-12-31 21:34:45,406]\u001b[0m Trial 122 finished with value: 1000.0 and parameters: {'horizon_len': 9, 'delay': 2}. Best is trial 92 with value: 1.3173522599073766.\u001b[0m\n"
     ]
    },
    {
     "name": "stdout",
     "output_type": "stream",
     "text": [
      "[[ 0.99439495  0.10572929  0.926326  ]\n",
      " [-0.10572929  0.99439495  1.35242088]\n",
      " [ 0.          0.          1.        ]]\n"
     ]
    },
    {
     "name": "stderr",
     "output_type": "stream",
     "text": [
      "\u001b[32m[I 2021-12-31 21:34:48,005]\u001b[0m Trial 123 finished with value: 1000.0 and parameters: {'horizon_len': 8, 'delay': 1}. Best is trial 92 with value: 1.3173522599073766.\u001b[0m\n"
     ]
    },
    {
     "name": "stdout",
     "output_type": "stream",
     "text": [
      "[[ 0.9070145  -0.42109938  1.002331  ]\n",
      " [ 0.42109938  0.9070145   1.36372283]\n",
      " [ 0.          0.          1.        ]]\n"
     ]
    },
    {
     "name": "stderr",
     "output_type": "stream",
     "text": [
      "\u001b[32m[I 2021-12-31 21:34:50,170]\u001b[0m Trial 124 finished with value: 1000.0 and parameters: {'horizon_len': 11, 'delay': 2}. Best is trial 92 with value: 1.3173522599073766.\u001b[0m\n"
     ]
    },
    {
     "name": "stdout",
     "output_type": "stream",
     "text": [
      "[[ 0.99977145 -0.02137871  0.799299  ]\n",
      " [ 0.02137871  0.99977145  1.34515337]\n",
      " [ 0.          0.          1.        ]]\n"
     ]
    },
    {
     "name": "stderr",
     "output_type": "stream",
     "text": [
      "\u001b[32m[I 2021-12-31 21:35:01,297]\u001b[0m Trial 125 finished with value: 1.5408930444702005 and parameters: {'horizon_len': 9, 'delay': 1}. Best is trial 92 with value: 1.3173522599073766.\u001b[0m\n",
      "\u001b[32m[I 2021-12-31 21:35:11,136]\u001b[0m Trial 126 finished with value: 1.7880575838947947 and parameters: {'horizon_len': 9, 'delay': 1}. Best is trial 92 with value: 1.3173522599073766.\u001b[0m\n",
      "\u001b[32m[I 2021-12-31 21:35:16,048]\u001b[0m Trial 127 finished with value: 1000.0 and parameters: {'horizon_len': 9, 'delay': 1}. Best is trial 92 with value: 1.3173522599073766.\u001b[0m\n"
     ]
    },
    {
     "name": "stdout",
     "output_type": "stream",
     "text": [
      "[[ 0.91827251 -0.39594899  1.097515  ]\n",
      " [ 0.39594899  0.91827251  1.41637706]\n",
      " [ 0.          0.          1.        ]]\n"
     ]
    },
    {
     "name": "stderr",
     "output_type": "stream",
     "text": [
      "\u001b[32m[I 2021-12-31 21:35:20,642]\u001b[0m Trial 128 finished with value: 1000.0 and parameters: {'horizon_len': 8, 'delay': 1}. Best is trial 92 with value: 1.3173522599073766.\u001b[0m\n"
     ]
    },
    {
     "name": "stdout",
     "output_type": "stream",
     "text": [
      "[[ 0.5903671  -0.80713486  1.031171  ]\n",
      " [ 0.80713486  0.5903671   1.37432502]\n",
      " [ 0.          0.          1.        ]]\n"
     ]
    },
    {
     "name": "stderr",
     "output_type": "stream",
     "text": [
      "\u001b[32m[I 2021-12-31 21:35:30,012]\u001b[0m Trial 129 finished with value: 1000.0 and parameters: {'horizon_len': 10, 'delay': 1}. Best is trial 92 with value: 1.3173522599073766.\u001b[0m\n"
     ]
    },
    {
     "name": "stdout",
     "output_type": "stream",
     "text": [
      "[[ 0.96304484 -0.26934112  1.032268  ]\n",
      " [ 0.26934112  0.96304484  1.36197763]\n",
      " [ 0.          0.          1.        ]]\n"
     ]
    },
    {
     "name": "stderr",
     "output_type": "stream",
     "text": [
      "\u001b[32m[I 2021-12-31 21:35:46,874]\u001b[0m Trial 130 finished with value: 1000.0 and parameters: {'horizon_len': 11, 'delay': 1}. Best is trial 92 with value: 1.3173522599073766.\u001b[0m\n"
     ]
    },
    {
     "name": "stdout",
     "output_type": "stream",
     "text": [
      "[[ 0.9677814  -0.25179191  0.904     ]\n",
      " [ 0.25179191  0.9677814   1.34733702]\n",
      " [ 0.          0.          1.        ]]\n"
     ]
    },
    {
     "name": "stderr",
     "output_type": "stream",
     "text": [
      "\u001b[32m[I 2021-12-31 21:36:01,661]\u001b[0m Trial 131 finished with value: 1.9656225537820162 and parameters: {'horizon_len': 10, 'delay': 2}. Best is trial 92 with value: 1.3173522599073766.\u001b[0m\n",
      "\u001b[32m[I 2021-12-31 21:36:03,046]\u001b[0m Trial 132 finished with value: 1000.0 and parameters: {'horizon_len': 9, 'delay': 2}. Best is trial 92 with value: 1.3173522599073766.\u001b[0m\n"
     ]
    },
    {
     "name": "stdout",
     "output_type": "stream",
     "text": [
      "[[ 0.99999824 -0.00187447  0.817963  ]\n",
      " [ 0.00187447  0.99999824  1.34472195]\n",
      " [ 0.          0.          1.        ]]\n"
     ]
    },
    {
     "name": "stderr",
     "output_type": "stream",
     "text": [
      "\u001b[32m[I 2021-12-31 21:36:06,005]\u001b[0m Trial 133 finished with value: 1000.0 and parameters: {'horizon_len': 10, 'delay': 1}. Best is trial 92 with value: 1.3173522599073766.\u001b[0m\n"
     ]
    },
    {
     "name": "stdout",
     "output_type": "stream",
     "text": [
      "[[ 0.99352929 -0.1135762   0.942954  ]\n",
      " [ 0.1135762   0.99352929  1.35327401]\n",
      " [ 0.          0.          1.        ]]\n"
     ]
    },
    {
     "name": "stderr",
     "output_type": "stream",
     "text": [
      "\u001b[32m[I 2021-12-31 21:36:08,463]\u001b[0m Trial 134 finished with value: 1000.0 and parameters: {'horizon_len': 9, 'delay': 3}. Best is trial 92 with value: 1.3173522599073766.\u001b[0m\n"
     ]
    },
    {
     "name": "stdout",
     "output_type": "stream",
     "text": [
      "[[ 0.99739261 -0.07216633  0.920638  ]\n",
      " [ 0.07216633  0.99739261  1.34918283]\n",
      " [ 0.          0.          1.        ]]\n"
     ]
    },
    {
     "name": "stderr",
     "output_type": "stream",
     "text": [
      "\u001b[32m[I 2021-12-31 21:36:11,692]\u001b[0m Trial 135 finished with value: 1000.0 and parameters: {'horizon_len': 8, 'delay': 1}. Best is trial 92 with value: 1.3173522599073766.\u001b[0m\n"
     ]
    },
    {
     "name": "stdout",
     "output_type": "stream",
     "text": [
      "[[ 0.89043598 -0.45510851  1.002508  ]\n",
      " [ 0.45510851  0.89043598  1.35950952]\n",
      " [ 0.          0.          1.        ]]\n"
     ]
    },
    {
     "name": "stderr",
     "output_type": "stream",
     "text": [
      "\u001b[32m[I 2021-12-31 21:36:26,082]\u001b[0m Trial 136 finished with value: 1.9440727054142874 and parameters: {'horizon_len': 10, 'delay': 2}. Best is trial 92 with value: 1.3173522599073766.\u001b[0m\n",
      "\u001b[32m[I 2021-12-31 21:36:32,735]\u001b[0m Trial 137 finished with value: 2.057285908324762 and parameters: {'horizon_len': 7, 'delay': 1}. Best is trial 92 with value: 1.3173522599073766.\u001b[0m\n",
      "\u001b[32m[I 2021-12-31 21:36:38,432]\u001b[0m Trial 138 finished with value: 1000.0 and parameters: {'horizon_len': 9, 'delay': 2}. Best is trial 92 with value: 1.3173522599073766.\u001b[0m\n"
     ]
    },
    {
     "name": "stdout",
     "output_type": "stream",
     "text": [
      "[[ 0.99886685 -0.04759224  0.705546  ]\n",
      " [ 0.04759224  0.99886685  1.33623355]\n",
      " [ 0.          0.          1.        ]]\n"
     ]
    },
    {
     "name": "stderr",
     "output_type": "stream",
     "text": [
      "\u001b[32m[I 2021-12-31 21:36:47,123]\u001b[0m Trial 139 finished with value: 1.520121171765745 and parameters: {'horizon_len': 8, 'delay': 1}. Best is trial 92 with value: 1.3173522599073766.\u001b[0m\n",
      "\u001b[32m[I 2021-12-31 21:36:50,442]\u001b[0m Trial 140 finished with value: 1000.0 and parameters: {'horizon_len': 8, 'delay': 1}. Best is trial 92 with value: 1.3173522599073766.\u001b[0m\n"
     ]
    },
    {
     "name": "stdout",
     "output_type": "stream",
     "text": [
      "[[ 0.87728287 -0.47997372  1.038206  ]\n",
      " [ 0.47997372  0.87728287  1.37503724]\n",
      " [ 0.          0.          1.        ]]\n"
     ]
    },
    {
     "name": "stderr",
     "output_type": "stream",
     "text": [
      "\u001b[32m[I 2021-12-31 21:37:01,667]\u001b[0m Trial 141 finished with value: 1.9221204235166596 and parameters: {'horizon_len': 9, 'delay': 1}. Best is trial 92 with value: 1.3173522599073766.\u001b[0m\n",
      "\u001b[32m[I 2021-12-31 21:37:08,793]\u001b[0m Trial 142 finished with value: 1000.0 and parameters: {'horizon_len': 10, 'delay': 1}. Best is trial 92 with value: 1.3173522599073766.\u001b[0m\n"
     ]
    },
    {
     "name": "stdout",
     "output_type": "stream",
     "text": [
      "[[ 0.95818976 -0.2861335   0.935295  ]\n",
      " [ 0.2861335   0.95818976  1.35569906]\n",
      " [ 0.          0.          1.        ]]\n"
     ]
    },
    {
     "name": "stderr",
     "output_type": "stream",
     "text": [
      "\u001b[32m[I 2021-12-31 21:37:17,717]\u001b[0m Trial 143 finished with value: 2.7421587721604084 and parameters: {'horizon_len': 8, 'delay': 2}. Best is trial 92 with value: 1.3173522599073766.\u001b[0m\n",
      "\u001b[32m[I 2021-12-31 21:37:22,794]\u001b[0m Trial 144 finished with value: 1000.0 and parameters: {'horizon_len': 9, 'delay': 8}. Best is trial 92 with value: 1.3173522599073766.\u001b[0m\n"
     ]
    },
    {
     "name": "stdout",
     "output_type": "stream",
     "text": [
      "[[ 0.99156534  0.12960779  0.866486  ]\n",
      " [-0.12960779  0.99156534  1.34658065]\n",
      " [ 0.          0.          1.        ]]\n"
     ]
    },
    {
     "name": "stderr",
     "output_type": "stream",
     "text": [
      "\u001b[32m[I 2021-12-31 21:37:27,683]\u001b[0m Trial 145 finished with value: 1000.0 and parameters: {'horizon_len': 10, 'delay': 1}. Best is trial 92 with value: 1.3173522599073766.\u001b[0m\n"
     ]
    },
    {
     "name": "stdout",
     "output_type": "stream",
     "text": [
      "[[ 0.99641839  0.08456003  0.983472  ]\n",
      " [-0.08456003  0.99641839  1.35502312]\n",
      " [ 0.          0.          1.        ]]\n"
     ]
    },
    {
     "name": "stderr",
     "output_type": "stream",
     "text": [
      "\u001b[32m[I 2021-12-31 21:37:29,790]\u001b[0m Trial 146 finished with value: 1000.0 and parameters: {'horizon_len': 11, 'delay': 2}. Best is trial 92 with value: 1.3173522599073766.\u001b[0m\n"
     ]
    },
    {
     "name": "stdout",
     "output_type": "stream",
     "text": [
      "[[ 0.99993833 -0.01110559  0.78417   ]\n",
      " [ 0.01110559  0.99993833  1.34489831]\n",
      " [ 0.          0.          1.        ]]\n"
     ]
    },
    {
     "name": "stderr",
     "output_type": "stream",
     "text": [
      "\u001b[32m[I 2021-12-31 21:37:37,432]\u001b[0m Trial 147 finished with value: 1.7552636117906881 and parameters: {'horizon_len': 8, 'delay': 1}. Best is trial 92 with value: 1.3173522599073766.\u001b[0m\n",
      "\u001b[32m[I 2021-12-31 21:37:52,087]\u001b[0m Trial 148 finished with value: 1.61466088967544 and parameters: {'horizon_len': 10, 'delay': 1}. Best is trial 92 with value: 1.3173522599073766.\u001b[0m\n",
      "\u001b[32m[I 2021-12-31 21:37:59,155]\u001b[0m Trial 149 finished with value: 2.1377954739476475 and parameters: {'horizon_len': 7, 'delay': 1}. Best is trial 92 with value: 1.3173522599073766.\u001b[0m\n",
      "\u001b[32m[I 2021-12-31 21:38:10,202]\u001b[0m Trial 150 finished with value: 1.6519695213063916 and parameters: {'horizon_len': 9, 'delay': 1}. Best is trial 92 with value: 1.3173522599073766.\u001b[0m\n",
      "\u001b[32m[I 2021-12-31 21:38:19,759]\u001b[0m Trial 151 finished with value: 1.620719457491479 and parameters: {'horizon_len': 9, 'delay': 1}. Best is trial 92 with value: 1.3173522599073766.\u001b[0m\n",
      "\u001b[32m[I 2021-12-31 21:38:25,108]\u001b[0m Trial 152 finished with value: 1000.0 and parameters: {'horizon_len': 9, 'delay': 1}. Best is trial 92 with value: 1.3173522599073766.\u001b[0m\n"
     ]
    },
    {
     "name": "stdout",
     "output_type": "stream",
     "text": [
      "[[ 0.97791596  0.20899852  1.055197  ]\n",
      " [-0.20899852  0.97791596  1.38513584]\n",
      " [ 0.          0.          1.        ]]\n"
     ]
    },
    {
     "name": "stderr",
     "output_type": "stream",
     "text": [
      "\u001b[32m[I 2021-12-31 21:38:32,174]\u001b[0m Trial 153 finished with value: 1000.0 and parameters: {'horizon_len': 9, 'delay': 1}. Best is trial 92 with value: 1.3173522599073766.\u001b[0m\n"
     ]
    },
    {
     "name": "stdout",
     "output_type": "stream",
     "text": [
      "[[ 0.99184739  0.12743134  1.028699  ]\n",
      " [-0.12743134  0.99184739  1.36660977]\n",
      " [ 0.          0.          1.        ]]\n"
     ]
    },
    {
     "name": "stderr",
     "output_type": "stream",
     "text": [
      "\u001b[32m[I 2021-12-31 21:38:35,967]\u001b[0m Trial 154 finished with value: 1000.0 and parameters: {'horizon_len': 10, 'delay': 1}. Best is trial 92 with value: 1.3173522599073766.\u001b[0m\n"
     ]
    },
    {
     "name": "stdout",
     "output_type": "stream",
     "text": [
      "[[ 0.99554936 -0.09424156  0.9531    ]\n",
      " [ 0.09424156  0.99554936  1.35428619]\n",
      " [ 0.          0.          1.        ]]\n"
     ]
    },
    {
     "name": "stderr",
     "output_type": "stream",
     "text": [
      "\u001b[32m[I 2021-12-31 21:38:43,049]\u001b[0m Trial 155 finished with value: 1.5758624869243134 and parameters: {'horizon_len': 8, 'delay': 1}. Best is trial 92 with value: 1.3173522599073766.\u001b[0m\n",
      "\u001b[32m[I 2021-12-31 21:38:51,730]\u001b[0m Trial 156 finished with value: 2.0307473064821404 and parameters: {'horizon_len': 8, 'delay': 1}. Best is trial 92 with value: 1.3173522599073766.\u001b[0m\n",
      "\u001b[32m[I 2021-12-31 21:38:59,607]\u001b[0m Trial 157 finished with value: 1.5964711428991543 and parameters: {'horizon_len': 8, 'delay': 1}. Best is trial 92 with value: 1.3173522599073766.\u001b[0m\n",
      "\u001b[32m[I 2021-12-31 21:39:02,581]\u001b[0m Trial 158 finished with value: 1000.0 and parameters: {'horizon_len': 7, 'delay': 1}. Best is trial 92 with value: 1.3173522599073766.\u001b[0m\n"
     ]
    },
    {
     "name": "stdout",
     "output_type": "stream",
     "text": [
      "[[ 0.82613546 -0.56347156  1.093572  ]\n",
      " [ 0.56347156  0.82613546  1.38630312]\n",
      " [ 0.          0.          1.        ]]\n"
     ]
    },
    {
     "name": "stderr",
     "output_type": "stream",
     "text": [
      "\u001b[32m[I 2021-12-31 21:39:10,249]\u001b[0m Trial 159 finished with value: 1.5942269668199431 and parameters: {'horizon_len': 8, 'delay': 1}. Best is trial 92 with value: 1.3173522599073766.\u001b[0m\n",
      "\u001b[32m[I 2021-12-31 21:39:18,899]\u001b[0m Trial 160 finished with value: 1.7638211124388876 and parameters: {'horizon_len': 8, 'delay': 1}. Best is trial 92 with value: 1.3173522599073766.\u001b[0m\n",
      "\u001b[32m[I 2021-12-31 21:39:21,034]\u001b[0m Trial 161 finished with value: 1000.0 and parameters: {'horizon_len': 7, 'delay': 1}. Best is trial 92 with value: 1.3173522599073766.\u001b[0m\n"
     ]
    },
    {
     "name": "stdout",
     "output_type": "stream",
     "text": [
      "[[ 0.80028102 -0.59962512  1.059517  ]\n",
      " [ 0.59962512  0.80028102  1.37406805]\n",
      " [ 0.          0.          1.        ]]\n"
     ]
    },
    {
     "name": "stderr",
     "output_type": "stream",
     "text": [
      "\u001b[32m[I 2021-12-31 21:39:28,334]\u001b[0m Trial 162 finished with value: 1.7476242186632278 and parameters: {'horizon_len': 8, 'delay': 1}. Best is trial 92 with value: 1.3173522599073766.\u001b[0m\n",
      "\u001b[32m[I 2021-12-31 21:39:30,689]\u001b[0m Trial 163 finished with value: 1000.0 and parameters: {'horizon_len': 8, 'delay': 1}. Best is trial 92 with value: 1.3173522599073766.\u001b[0m\n"
     ]
    },
    {
     "name": "stdout",
     "output_type": "stream",
     "text": [
      "[[ 0.98718919 -0.15955409  0.95022   ]\n",
      " [ 0.15955409  0.98718919  1.35000323]\n",
      " [ 0.          0.          1.        ]]\n"
     ]
    },
    {
     "name": "stderr",
     "output_type": "stream",
     "text": [
      "\u001b[32m[I 2021-12-31 21:39:35,066]\u001b[0m Trial 164 finished with value: 1000.0 and parameters: {'horizon_len': 8, 'delay': 1}. Best is trial 92 with value: 1.3173522599073766.\u001b[0m\n"
     ]
    },
    {
     "name": "stdout",
     "output_type": "stream",
     "text": [
      "[[ 0.84450918 -0.53554108  1.012907  ]\n",
      " [ 0.53554108  0.84450918  1.36462669]\n",
      " [ 0.          0.          1.        ]]\n"
     ]
    },
    {
     "name": "stderr",
     "output_type": "stream",
     "text": [
      "\u001b[32m[I 2021-12-31 21:39:43,149]\u001b[0m Trial 165 finished with value: 1000.0 and parameters: {'horizon_len': 9, 'delay': 1}. Best is trial 92 with value: 1.3173522599073766.\u001b[0m\n"
     ]
    },
    {
     "name": "stdout",
     "output_type": "stream",
     "text": [
      "[[-0.63126884 -0.77556408  0.982698  ]\n",
      " [ 0.77556408 -0.63126884  1.32451404]\n",
      " [ 0.          0.          1.        ]]\n"
     ]
    },
    {
     "name": "stderr",
     "output_type": "stream",
     "text": [
      "\u001b[32m[I 2021-12-31 21:39:49,977]\u001b[0m Trial 166 finished with value: 1000.0 and parameters: {'horizon_len': 10, 'delay': 1}. Best is trial 92 with value: 1.3173522599073766.\u001b[0m\n"
     ]
    },
    {
     "name": "stdout",
     "output_type": "stream",
     "text": [
      "[[ 0.97133589  0.23771116  1.000446  ]\n",
      " [-0.23771116  0.97133589  1.35196045]\n",
      " [ 0.          0.          1.        ]]\n"
     ]
    },
    {
     "name": "stderr",
     "output_type": "stream",
     "text": [
      "\u001b[32m[I 2021-12-31 21:39:52,752]\u001b[0m Trial 167 finished with value: 1000.0 and parameters: {'horizon_len': 8, 'delay': 1}. Best is trial 92 with value: 1.3173522599073766.\u001b[0m\n"
     ]
    },
    {
     "name": "stdout",
     "output_type": "stream",
     "text": [
      "[[ 0.83349686 -0.5525242   1.023192  ]\n",
      " [ 0.5525242   0.83349686  1.37576383]\n",
      " [ 0.          0.          1.        ]]\n"
     ]
    },
    {
     "name": "stderr",
     "output_type": "stream",
     "text": [
      "\u001b[32m[I 2021-12-31 21:39:56,777]\u001b[0m Trial 168 finished with value: 1000.0 and parameters: {'horizon_len': 10, 'delay': 1}. Best is trial 92 with value: 1.3173522599073766.\u001b[0m\n"
     ]
    },
    {
     "name": "stdout",
     "output_type": "stream",
     "text": [
      "[[ 0.98966265 -0.14341494  0.989426  ]\n",
      " [ 0.14341494  0.98966265  1.35906275]\n",
      " [ 0.          0.          1.        ]]\n"
     ]
    },
    {
     "name": "stderr",
     "output_type": "stream",
     "text": [
      "\u001b[32m[I 2021-12-31 21:40:10,640]\u001b[0m Trial 169 finished with value: 1000.0 and parameters: {'horizon_len': 9, 'delay': 7}. Best is trial 92 with value: 1.3173522599073766.\u001b[0m\n"
     ]
    },
    {
     "name": "stdout",
     "output_type": "stream",
     "text": [
      "[[ 0.90735056  0.42037479  0.881133  ]\n",
      " [-0.42037479  0.90735056  1.33507864]\n",
      " [ 0.          0.          1.        ]]\n"
     ]
    },
    {
     "name": "stderr",
     "output_type": "stream",
     "text": [
      "\u001b[32m[I 2021-12-31 21:40:19,188]\u001b[0m Trial 170 finished with value: 1000.0 and parameters: {'horizon_len': 11, 'delay': 12}. Best is trial 92 with value: 1.3173522599073766.\u001b[0m\n"
     ]
    },
    {
     "name": "stdout",
     "output_type": "stream",
     "text": [
      "[[ 0.93387045  0.35761149  0.814198  ]\n",
      " [-0.35761149  0.93387045  1.35269526]\n",
      " [ 0.          0.          1.        ]]\n"
     ]
    },
    {
     "name": "stderr",
     "output_type": "stream",
     "text": [
      "\u001b[32m[I 2021-12-31 21:40:30,941]\u001b[0m Trial 171 finished with value: 2.1820615351336965 and parameters: {'horizon_len': 9, 'delay': 2}. Best is trial 92 with value: 1.3173522599073766.\u001b[0m\n",
      "\u001b[32m[I 2021-12-31 21:40:41,161]\u001b[0m Trial 172 finished with value: 1.4171246934996935 and parameters: {'horizon_len': 9, 'delay': 1}. Best is trial 92 with value: 1.3173522599073766.\u001b[0m\n",
      "\u001b[32m[I 2021-12-31 21:40:47,662]\u001b[0m Trial 173 finished with value: 2.1449089631427953 and parameters: {'horizon_len': 7, 'delay': 1}. Best is trial 92 with value: 1.3173522599073766.\u001b[0m\n",
      "\u001b[32m[I 2021-12-31 21:40:56,449]\u001b[0m Trial 174 finished with value: 1000.0 and parameters: {'horizon_len': 9, 'delay': 1}. Best is trial 92 with value: 1.3173522599073766.\u001b[0m\n"
     ]
    },
    {
     "name": "stdout",
     "output_type": "stream",
     "text": [
      "[[-0.01229982 -0.99992435  0.980987  ]\n",
      " [ 0.99992435 -0.01229982  1.34817993]\n",
      " [ 0.          0.          1.        ]]\n"
     ]
    },
    {
     "name": "stderr",
     "output_type": "stream",
     "text": [
      "\u001b[32m[I 2021-12-31 21:41:01,629]\u001b[0m Trial 175 finished with value: 1000.0 and parameters: {'horizon_len': 8, 'delay': 1}. Best is trial 92 with value: 1.3173522599073766.\u001b[0m\n"
     ]
    },
    {
     "name": "stdout",
     "output_type": "stream",
     "text": [
      "[[ 0.99462938 -0.10350071  1.079327  ]\n",
      " [ 0.10350071  0.99462938  1.41860895]\n",
      " [ 0.          0.          1.        ]]\n"
     ]
    },
    {
     "name": "stderr",
     "output_type": "stream",
     "text": [
      "\u001b[32m[I 2021-12-31 21:41:20,937]\u001b[0m Trial 176 finished with value: 3.9308293747076997 and parameters: {'horizon_len': 10, 'delay': 9}. Best is trial 92 with value: 1.3173522599073766.\u001b[0m\n",
      "\u001b[32m[I 2021-12-31 21:41:34,725]\u001b[0m Trial 177 finished with value: 1.9180259609821275 and parameters: {'horizon_len': 10, 'delay': 1}. Best is trial 92 with value: 1.3173522599073766.\u001b[0m\n",
      "\u001b[32m[I 2021-12-31 21:41:41,331]\u001b[0m Trial 178 finished with value: 2.0332250506225797 and parameters: {'horizon_len': 7, 'delay': 1}. Best is trial 92 with value: 1.3173522599073766.\u001b[0m\n",
      "\u001b[32m[I 2021-12-31 21:41:43,899]\u001b[0m Trial 179 finished with value: 1000.0 and parameters: {'horizon_len': 9, 'delay': 2}. Best is trial 92 with value: 1.3173522599073766.\u001b[0m\n"
     ]
    },
    {
     "name": "stdout",
     "output_type": "stream",
     "text": [
      "[[ 0.99736318 -0.07257201  0.966318  ]\n",
      " [ 0.07257201  0.99736318  1.35193659]\n",
      " [ 0.          0.          1.        ]]\n"
     ]
    },
    {
     "name": "stderr",
     "output_type": "stream",
     "text": [
      "\u001b[32m[I 2021-12-31 21:41:46,425]\u001b[0m Trial 180 finished with value: 1000.0 and parameters: {'horizon_len': 8, 'delay': 1}. Best is trial 92 with value: 1.3173522599073766.\u001b[0m\n"
     ]
    },
    {
     "name": "stdout",
     "output_type": "stream",
     "text": [
      "[[ 0.95649668 -0.29174322  1.003931  ]\n",
      " [ 0.29174322  0.95649668  1.35969332]\n",
      " [ 0.          0.          1.        ]]\n"
     ]
    },
    {
     "name": "stderr",
     "output_type": "stream",
     "text": [
      "\u001b[32m[I 2021-12-31 21:41:57,200]\u001b[0m Trial 181 finished with value: 2.0298589071091127 and parameters: {'horizon_len': 9, 'delay': 2}. Best is trial 92 with value: 1.3173522599073766.\u001b[0m\n",
      "\u001b[32m[I 2021-12-31 21:42:07,332]\u001b[0m Trial 182 finished with value: 1.3046062385784696 and parameters: {'horizon_len': 9, 'delay': 1}. Best is trial 182 with value: 1.3046062385784696.\u001b[0m\n",
      "\u001b[32m[I 2021-12-31 21:42:18,630]\u001b[0m Trial 183 finished with value: 1.548698035277628 and parameters: {'horizon_len': 9, 'delay': 1}. Best is trial 182 with value: 1.3046062385784696.\u001b[0m\n",
      "\u001b[32m[I 2021-12-31 21:42:27,460]\u001b[0m Trial 184 finished with value: 1.629502278847415 and parameters: {'horizon_len': 8, 'delay': 1}. Best is trial 182 with value: 1.3046062385784696.\u001b[0m\n",
      "\u001b[32m[I 2021-12-31 21:42:40,367]\u001b[0m Trial 185 finished with value: 1.3766609579991227 and parameters: {'horizon_len': 10, 'delay': 1}. Best is trial 182 with value: 1.3046062385784696.\u001b[0m\n",
      "\u001b[32m[I 2021-12-31 21:42:51,259]\u001b[0m Trial 186 finished with value: 1000.0 and parameters: {'horizon_len': 10, 'delay': 1}. Best is trial 182 with value: 1.3046062385784696.\u001b[0m\n"
     ]
    },
    {
     "name": "stdout",
     "output_type": "stream",
     "text": [
      "[[ 0.74761534  0.66413199  1.034744  ]\n",
      " [-0.66413199  0.74761534  1.36557967]\n",
      " [ 0.          0.          1.        ]]\n"
     ]
    },
    {
     "name": "stderr",
     "output_type": "stream",
     "text": [
      "\u001b[32m[I 2021-12-31 21:43:07,324]\u001b[0m Trial 187 finished with value: 1.796712466723309 and parameters: {'horizon_len': 11, 'delay': 1}. Best is trial 182 with value: 1.3046062385784696.\u001b[0m\n",
      "\u001b[32m[I 2021-12-31 21:43:21,784]\u001b[0m Trial 188 finished with value: 1.6887265902239452 and parameters: {'horizon_len': 10, 'delay': 1}. Best is trial 182 with value: 1.3046062385784696.\u001b[0m\n",
      "\u001b[32m[I 2021-12-31 21:43:30,311]\u001b[0m Trial 189 finished with value: 1000.0 and parameters: {'horizon_len': 10, 'delay': 2}. Best is trial 182 with value: 1.3046062385784696.\u001b[0m\n"
     ]
    },
    {
     "name": "stdout",
     "output_type": "stream",
     "text": [
      "[[ 0.82888674  0.55941645  0.959808  ]\n",
      " [-0.55941645  0.82888674  1.36251082]\n",
      " [ 0.          0.          1.        ]]\n"
     ]
    },
    {
     "name": "stderr",
     "output_type": "stream",
     "text": [
      "\u001b[32m[I 2021-12-31 21:43:52,348]\u001b[0m Trial 190 finished with value: 2.8229776479714714 and parameters: {'horizon_len': 10, 'delay': 5}. Best is trial 182 with value: 1.3046062385784696.\u001b[0m\n",
      "\u001b[32m[I 2021-12-31 21:44:03,005]\u001b[0m Trial 191 finished with value: 1.6336768322635 and parameters: {'horizon_len': 9, 'delay': 1}. Best is trial 182 with value: 1.3046062385784696.\u001b[0m\n",
      "\u001b[32m[I 2021-12-31 21:44:14,805]\u001b[0m Trial 192 finished with value: 1.58079301443984 and parameters: {'horizon_len': 9, 'delay': 1}. Best is trial 182 with value: 1.3046062385784696.\u001b[0m\n",
      "\u001b[32m[I 2021-12-31 21:44:22,283]\u001b[0m Trial 193 finished with value: 1000.0 and parameters: {'horizon_len': 9, 'delay': 1}. Best is trial 182 with value: 1.3046062385784696.\u001b[0m\n"
     ]
    },
    {
     "name": "stdout",
     "output_type": "stream",
     "text": [
      "[[ 0.96805708  0.2507299   0.955026  ]\n",
      " [-0.2507299   0.96805708  1.34950838]\n",
      " [ 0.          0.          1.        ]]\n"
     ]
    },
    {
     "name": "stderr",
     "output_type": "stream",
     "text": [
      "\u001b[32m[I 2021-12-31 21:45:13,971]\u001b[0m Trial 194 finished with value: 3.65497268144819 and parameters: {'horizon_len': 17, 'delay': 1}. Best is trial 182 with value: 1.3046062385784696.\u001b[0m\n",
      "\u001b[32m[I 2021-12-31 21:45:15,213]\u001b[0m Trial 195 finished with value: 1000.0 and parameters: {'horizon_len': 8, 'delay': 1}. Best is trial 182 with value: 1.3046062385784696.\u001b[0m\n"
     ]
    },
    {
     "name": "stdout",
     "output_type": "stream",
     "text": [
      "[[ 0.99984502 -0.01760515  0.888046  ]\n",
      " [ 0.01760515  0.99984502  1.34496008]\n",
      " [ 0.          0.          1.        ]]\n"
     ]
    },
    {
     "name": "stderr",
     "output_type": "stream",
     "text": [
      "\u001b[32m[I 2021-12-31 21:45:27,316]\u001b[0m Trial 196 finished with value: 1000.0 and parameters: {'horizon_len': 10, 'delay': 1}. Best is trial 182 with value: 1.3046062385784696.\u001b[0m\n"
     ]
    },
    {
     "name": "stdout",
     "output_type": "stream",
     "text": [
      "[[-0.29458185  0.95562625  1.096232  ]\n",
      " [-0.95562625 -0.29458185  1.29993898]\n",
      " [ 0.          0.          1.        ]]\n"
     ]
    },
    {
     "name": "stderr",
     "output_type": "stream",
     "text": [
      "\u001b[32m[I 2021-12-31 21:45:34,311]\u001b[0m Trial 197 finished with value: 1000.0 and parameters: {'horizon_len': 9, 'delay': 2}. Best is trial 182 with value: 1.3046062385784696.\u001b[0m\n"
     ]
    },
    {
     "name": "stdout",
     "output_type": "stream",
     "text": [
      "[[ 0.99945105  0.03313     1.00569   ]\n",
      " [-0.03313     0.99945105  1.35068045]\n",
      " [ 0.          0.          1.        ]]\n"
     ]
    },
    {
     "name": "stderr",
     "output_type": "stream",
     "text": [
      "\u001b[32m[I 2021-12-31 21:45:49,802]\u001b[0m Trial 198 finished with value: 1000.0 and parameters: {'horizon_len': 11, 'delay': 1}. Best is trial 182 with value: 1.3046062385784696.\u001b[0m\n"
     ]
    },
    {
     "name": "stdout",
     "output_type": "stream",
     "text": [
      "[[ 0.48048921 -0.87700064  0.933678  ]\n",
      " [ 0.87700064  0.48048921  1.38198352]\n",
      " [ 0.          0.          1.        ]]\n"
     ]
    },
    {
     "name": "stderr",
     "output_type": "stream",
     "text": [
      "\u001b[32m[I 2021-12-31 21:46:02,235]\u001b[0m Trial 199 finished with value: 1.549453995370498 and parameters: {'horizon_len': 9, 'delay': 1}. Best is trial 182 with value: 1.3046062385784696.\u001b[0m\n"
     ]
    },
    {
     "data": {
      "image/png": "[encoded data removed]",
      "text/plain": [
       "<Figure size 504x504 with 1 Axes>"
      ]
     },
     "metadata": {
      "needs_background": "light"
     },
     "output_type": "display_data"
    }
   ],
   "source": [
    "study = optuna.create_study()\n",
    "study.optimize(objective, n_trials=200)"
   ]
  },
  {
   "cell_type": "code",
   "execution_count": null,
   "metadata": {},
   "outputs": [
    {
     "data": {
      "text/plain": [
       "{'horizon_len': 9, 'delay': 1}"
      ]
     },
     "execution_count": 33,
     "metadata": {},
     "output_type": "execute_result"
    }
   ],
   "source": [
    "study.best_params"
   ]
  },
  {
   "cell_type": "code",
   "execution_count": null,
   "metadata": {},
   "outputs": [
    {
     "data": {
      "text/plain": [
       "[<matplotlib.lines.Line2D at 0x7f6b89d86e80>]"
      ]
     },
     "execution_count": 48,
     "metadata": {},
     "output_type": "execute_result"
    },
    {
     "data": {
      "image/png": "[encoded data removed]",
      "text/plain": [
       "<Figure size 504x504 with 1 Axes>"
      ]
     },
     "metadata": {
      "needs_background": "light"
     },
     "output_type": "display_data"
    }
   ],
   "source": [
    "plt.plot(loss_val)"
   ]
  },
  {
   "cell_type": "code",
   "execution_count": null,
   "metadata": {},
   "outputs": [
    {
     "data": {
      "text/plain": [
       "[[0, 0],\n",
       " [0, 0],\n",
       " [0, 0],\n",
       " [0, 0],\n",
       " [0, 0],\n",
       " [0, 0],\n",
       " [0, 0],\n",
       " [0, 0],\n",
       " [0, 0],\n",
       " [0, 0],\n",
       " array([1., 1.]),\n",
       " array([1., 1.]),\n",
       " array([1., 1.]),\n",
       " array([1., 1.]),\n",
       " array([1., 1.]),\n",
       " array([1., 1.]),\n",
       " array([1., 1.]),\n",
       " array([1., 1.]),\n",
       " array([1., 1.]),\n",
       " array([1., 1.]),\n",
       " array([0.40619599, 1.        ]),\n",
       " array([0.53997948, 1.        ]),\n",
       " array([0.4439388, 1.       ]),\n",
       " array([0.45675287, 1.        ]),\n",
       " array([1., 1.]),\n",
       " array([-1.,  1.]),\n",
       " array([-1., -1.]),\n",
       " array([-0.65888825, -1.        ]),\n",
       " array([-0.42652097,  1.        ]),\n",
       " array([-1., -1.]),\n",
       " array([1.       , 0.2977749]),\n",
       " array([-1.,  1.]),\n",
       " array([-1.,  1.]),\n",
       " array([1., 1.]),\n",
       " array([-1., -1.]),\n",
       " array([1., 1.]),\n",
       " array([-1., -1.]),\n",
       " array([-1.        , -0.25072736]),\n",
       " array([1., 1.]),\n",
       " array([ 1., -1.]),\n",
       " array([-1.,  1.]),\n",
       " array([-1.,  1.]),\n",
       " array([ 1., -1.]),\n",
       " array([ 1., -1.]),\n",
       " array([-1., -1.]),\n",
       " array([1., 1.]),\n",
       " array([-1.        ,  0.18889156]),\n",
       " array([ 1., -1.]),\n",
       " array([1.        , 0.71122448]),\n",
       " array([1., 1.])]"
      ]
     },
     "execution_count": 33,
     "metadata": {},
     "output_type": "execute_result"
    }
   ],
   "source": [
    "actions"
   ]
  }
 ],
 "metadata": {
  "interpreter": {
   "hash": "4142ea5b8ba56e589a4a2de416471962f073c9ba81757176ff018bd56767e94c"
  },
  "kernelspec": {
   "display_name": "Python 3.8.10 64-bit ('DAFFY': venv)",
   "language": "python",
   "name": "python3"
  },
  "language_info": {
   "codemirror_mode": {
    "name": "ipython",
    "version": 3
   },
   "file_extension": ".py",
   "mimetype": "text/x-python",
   "name": "python",
   "nbconvert_exporter": "python",
   "pygments_lexer": "ipython3",
   "version": "3.8.10"
  },
  "orig_nbformat": 4
 },
 "nbformat": 4,
 "nbformat_minor": 2
}
