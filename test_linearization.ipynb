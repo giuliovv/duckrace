{
 "cells": [
  {
   "cell_type": "code",
   "execution_count": 66,
   "metadata": {},
   "outputs": [],
   "source": [
    "import control as ct\n",
    "from utils import Position, get_acceleration\n",
    "import matplotlib.pyplot as plt\n",
    "import numpy as np"
   ]
  },
  {
   "cell_type": "code",
   "execution_count": 67,
   "metadata": {},
   "outputs": [],
   "source": [
    "def my_odometry(action, x0, y0, theta0, v0=0, w0=0, dt=0.033):\n",
    "    \"\"\"\n",
    "    Calculate the odometry from the action and the current state.\n",
    "\n",
    "    :param action: the action to perform\n",
    "    :param x0: the initial x position\n",
    "    :param y0: the initial y position\n",
    "    :param theta0: the initial orientation\n",
    "    :param v0: the initial linear speed\n",
    "    :param w0: the initial angular speed\n",
    "    :param dt: the time step\n",
    "\n",
    "    :return: (Position, float, float)\n",
    "    \"\"\"\n",
    "    x_dot_dot, w_dot_dot = get_acceleration(action, u=v0, w=w0)\n",
    "\n",
    "    v1 = v0 + x_dot_dot[0]*dt\n",
    "    w1 = w0 + w_dot_dot[0]*dt\n",
    "\n",
    "    # Runge Kutta\n",
    "    x1 = x0 + v0*dt*np.cos(theta0 + w0*dt/2)\n",
    "    y1 = y0 + v0*dt*np.sin(theta0 + w0*dt/2)\n",
    "    theta1 = theta0 + w0*dt\n",
    "\n",
    "    return Position(x1, y1, theta1), v1, w1"
   ]
  },
  {
   "cell_type": "code",
   "execution_count": 68,
   "metadata": {},
   "outputs": [],
   "source": [
    "def odom(t, x, u, params):\n",
    "    dt = params.get('dt', 0.033)\n",
    "\n",
    "    v0 = u[0]\n",
    "    w0 = u[1]\n",
    "    # wl = u[2]\n",
    "    # wr = u[3]\n",
    "\n",
    "    x0 = x[0]\n",
    "    y0 = x[1]\n",
    "    theta0 = x[2]\n",
    "\n",
    "    # x_dot_dot, w_dot_dot = get_acceleration([wl, wr], u=v0, w=w0)\n",
    "\n",
    "    # v1 = v0 + x_dot_dot[0]*dt\n",
    "    # w1 = w0 + w_dot_dot[0]*dt\n",
    "\n",
    "    # Runge Kutta\n",
    "    x1 = x0 + v0*dt*np.cos(theta0 + w0*dt/2)\n",
    "    y1 = y0 + v0*dt*np.sin(theta0 + w0*dt/2)\n",
    "    theta1 = theta0 + w0*dt\n",
    "\n",
    "    return [x1, y1, theta1]"
   ]
  },
  {
   "cell_type": "code",
   "execution_count": 69,
   "metadata": {},
   "outputs": [],
   "source": [
    "def my_odom_lin(v, w, x0, y0, t0, dt=0.033, v_eq=0, w_eq=0):\n",
    "    u = np.array([v, w]).T\n",
    "\n",
    "    B_00 = dt*np.cos(t0+w_eq*dt/2)\n",
    "    B_01 = -v_eq*dt*np.sin(t0+w_eq*dt/2)*dt/2\n",
    "    B_10 = dt*np.sin(t0+w_eq*dt/2)\n",
    "    B_11 = v_eq*dt*np.cos(t0+w_eq*dt/2)*dt/2\n",
    "    B_20 = 0\n",
    "    B_21 = w*dt\n",
    "\n",
    "    B = np.array([[B_00, B_01], [B_10, B_11], [B_20, B_21]])\n",
    "\n",
    "    A0 = np.array([x0, y0, -t0]).T\n",
    "    A1 = -B@np.array([v_eq, w_eq]).T\n",
    "\n",
    "    A = A0 + A1\n",
    "\n",
    "    x_k = A+B@u\n",
    "\n",
    "    return x_k"
   ]
  },
  {
   "cell_type": "code",
   "execution_count": 70,
   "metadata": {},
   "outputs": [],
   "source": [
    "def auto_odom_full(t, x, u, params):\n",
    "    # Trick is to +1 delay\n",
    "    dt = params.get('dt', 0.033)\n",
    "\n",
    "    wl, wr = u[0], u[1]\n",
    "\n",
    "    x0, y0, theta0, v0, w0 = x[0], x[1], x[2], x[3], x[4]\n",
    "\n",
    "    x_dot_dot, w_dot_dot = get_acceleration([wl, wr], u=v0, w=w0)\n",
    "    v1 = v0 + x_dot_dot[0]*dt\n",
    "    w1 = w0 + w_dot_dot[0]*dt\n",
    "\n",
    "    # Runge Kutta\n",
    "    x1 = x0 + v1*dt*np.cos(theta0 + w1*dt/2)\n",
    "    y1 = y0 + v1*dt*np.sin(theta0 + w1*dt/2)\n",
    "    theta1 = theta0 + w1*dt\n",
    "\n",
    "    return [x1, y1, theta1, v1, w1]"
   ]
  },
  {
   "cell_type": "code",
   "execution_count": 71,
   "metadata": {},
   "outputs": [],
   "source": [
    "io_odom = ct.NonlinearIOSystem(auto_odom_full, None, inputs=('wl', 'wr'), states=('x', 'y', 'th', 'v', 'w'), outputs=('x', 'y', 'th', 'v', 'w'), name='odom', params={'dt': 0.003})"
   ]
  },
  {
   "cell_type": "code",
   "execution_count": 72,
   "metadata": {},
   "outputs": [],
   "source": [
    "eqpt = ct.find_eqpt(io_odom, [0]*5, [0]*2)\n",
    "xeq = eqpt[0]"
   ]
  },
  {
   "cell_type": "code",
   "execution_count": 73,
   "metadata": {},
   "outputs": [
    {
     "data": {
      "text/plain": [
       "(array([0., 0., 0., 0., 0.]), [0, 0])"
      ]
     },
     "execution_count": 73,
     "metadata": {},
     "output_type": "execute_result"
    }
   ],
   "source": [
    "eqpt"
   ]
  },
  {
   "cell_type": "code",
   "execution_count": 74,
   "metadata": {},
   "outputs": [],
   "source": [
    "lin_odom = ct.linearize(io_odom, xeq, 0)"
   ]
  },
  {
   "cell_type": "code",
   "execution_count": 75,
   "metadata": {},
   "outputs": [
    {
     "data": {
      "text/plain": [
       "array([[1.      , 0.      , 0.      , 0.002955, 0.      ],\n",
       "       [0.      , 1.      , 0.      , 0.      , 0.      ],\n",
       "       [0.      , 0.      , 1.      , 0.      , 0.002964],\n",
       "       [0.      , 0.      , 0.      , 0.985   , 0.      ],\n",
       "       [0.      , 0.      , 0.      , 0.      , 0.988   ]])"
      ]
     },
     "execution_count": 75,
     "metadata": {},
     "output_type": "execute_result"
    }
   ],
   "source": [
    "lin_odom.A"
   ]
  },
  {
   "cell_type": "code",
   "execution_count": 76,
   "metadata": {},
   "outputs": [
    {
     "data": {
      "text/plain": [
       "array([[ 1.3500e-05,  1.3500e-05],\n",
       "       [-9.1125e-16,  9.1125e-16],\n",
       "       [-1.3500e-04,  1.3500e-04],\n",
       "       [ 4.5000e-03,  4.5000e-03],\n",
       "       [-4.5000e-02,  4.5000e-02]])"
      ]
     },
     "execution_count": 76,
     "metadata": {},
     "output_type": "execute_result"
    }
   ],
   "source": [
    "lin_odom.B"
   ]
  },
  {
   "cell_type": "code",
   "execution_count": 77,
   "metadata": {},
   "outputs": [
    {
     "data": {
      "text/plain": [
       "array([[1., 0., 0., 0., 0.],\n",
       "       [0., 1., 0., 0., 0.],\n",
       "       [0., 0., 1., 0., 0.],\n",
       "       [0., 0., 0., 1., 0.],\n",
       "       [0., 0., 0., 0., 1.]])"
      ]
     },
     "execution_count": 77,
     "metadata": {},
     "output_type": "execute_result"
    }
   ],
   "source": [
    "lin_odom.C"
   ]
  },
  {
   "cell_type": "code",
   "execution_count": 78,
   "metadata": {},
   "outputs": [
    {
     "data": {
      "text/plain": [
       "array([[0., 0.],\n",
       "       [0., 0.],\n",
       "       [0., 0.],\n",
       "       [0., 0.],\n",
       "       [0., 0.]])"
      ]
     },
     "execution_count": 78,
     "metadata": {},
     "output_type": "execute_result"
    }
   ],
   "source": [
    "lin_odom.D"
   ]
  },
  {
   "cell_type": "code",
   "execution_count": 86,
   "metadata": {},
   "outputs": [],
   "source": [
    "def linearized_odom(action, x0, y0, theta0, v0=0, w0=0, dt=0.033, return_result=False):\n",
    "    io_odom = ct.NonlinearIOSystem(auto_odom_full, None, inputs=('wl', 'wr'), states=('x', 'y', 'th', 'v', 'w'), outputs=('x', 'y', 'th', 'v', 'w'), name='odom', params={'dt': dt})\n",
    "    eqpt = ct.find_eqpt(io_odom, [x0, y0, theta0, v0, w0], [*action], return_result=return_result)\n",
    "    print(eqpt)\n",
    "    xeq = eqpt[0]\n",
    "    lin_odom = ct.linearize(io_odom, xeq, 0)\n",
    "    x = lin_odom.A@[[xe] for xe in xeq] + lin_odom.B@[[a] for a in action]\n",
    "    return x.reshape(-1)"
   ]
  },
  {
   "cell_type": "code",
   "execution_count": 87,
   "metadata": {},
   "outputs": [
    {
     "name": "stdout",
     "output_type": "stream",
     "text": [
      "(array([0., 0., 0., 0., 0.]), [0, 0])\n"
     ]
    },
    {
     "data": {
      "text/plain": [
       "array([[0.],\n",
       "       [0.],\n",
       "       [0.],\n",
       "       [0.],\n",
       "       [0.]])"
      ]
     },
     "execution_count": 87,
     "metadata": {},
     "output_type": "execute_result"
    }
   ],
   "source": [
    "linearized_odom([0, 0], 0, 0, 0, v0=0, w0=0, dt=0.033)"
   ]
  },
  {
   "cell_type": "code",
   "execution_count": 89,
   "metadata": {},
   "outputs": [
    {
     "name": "stdout",
     "output_type": "stream",
     "text": [
      "(array([0., 0., 0., 0., 0.]), [0, 0])\n"
     ]
    },
    {
     "data": {
      "text/plain": [
       "array([[0.],\n",
       "       [0.],\n",
       "       [0.],\n",
       "       [0.],\n",
       "       [0.]])"
      ]
     },
     "execution_count": 89,
     "metadata": {},
     "output_type": "execute_result"
    }
   ],
   "source": [
    "linearized_odom([0, 0], 0.7019999, 1.34470641, 0.0, v0=0, w0=0, dt=0.033)"
   ]
  },
  {
   "cell_type": "code",
   "execution_count": 90,
   "metadata": {},
   "outputs": [
    {
     "data": {
      "text/plain": [
       "[0.7019999, 1.34470641, 0.0, 0.0, 0.0]"
      ]
     },
     "execution_count": 90,
     "metadata": {},
     "output_type": "execute_result"
    }
   ],
   "source": [
    "auto_odom_full([0, 0], [0.7019999, 1.34470641, 0.0, 0, 0], [0, 0], {'dt': 0.033})"
   ]
  }
 ],
 "metadata": {
  "interpreter": {
   "hash": "07a813fbc0dfa3687c2d7a37dec1fec4acefea469c7e6d8e3ba4eb0d49ad0cad"
  },
  "kernelspec": {
   "display_name": "Python 3.8.10 64-bit ('RACE': venv)",
   "language": "python",
   "name": "python3"
  },
  "language_info": {
   "codemirror_mode": {
    "name": "ipython",
    "version": 3
   },
   "file_extension": ".py",
   "mimetype": "text/x-python",
   "name": "python",
   "nbconvert_exporter": "python",
   "pygments_lexer": "ipython3",
   "version": "3.8.10"
  },
  "orig_nbformat": 4
 },
 "nbformat": 4,
 "nbformat_minor": 2
}
