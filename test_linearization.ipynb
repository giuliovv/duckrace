{
 "cells": [
  {
   "cell_type": "code",
   "execution_count": 115,
   "metadata": {},
   "outputs": [],
   "source": [
    "import control as ct\n",
    "from utils import Position, get_acceleration, get_position\n",
    "import matplotlib.pyplot as plt\n",
    "import numpy as np"
   ]
  },
  {
   "cell_type": "code",
   "execution_count": 116,
   "metadata": {},
   "outputs": [],
   "source": [
    "import gym_duckietown\n",
    "\n",
    "from gym_duckietown.simulator import Simulator\n",
    "from IPython import display as ipythondisplay"
   ]
  },
  {
   "cell_type": "code",
   "execution_count": 117,
   "metadata": {},
   "outputs": [],
   "source": [
    "#gym_duckietown is very chatty\n",
    "import logging\n",
    "gym_duckietown.logger.setLevel(logging.WARNING)\n",
    "env = Simulator(\"small_loop\",\n",
    "    full_transparency=True,\n",
    "    domain_rand=False,\n",
    "    user_tile_start=[1,0],\n",
    "    seed=42,\n",
    "    max_steps=float(\"inf\"),\n",
    ")\n",
    "env.unwrapped.start_pose = [[0.11699990272521976, 0, 0.41029359288296474], 0]"
   ]
  },
  {
   "cell_type": "code",
   "execution_count": 118,
   "metadata": {},
   "outputs": [],
   "source": [
    "def my_odometry(action, x0, y0, theta0, v0=0, w0=0, dt=0.033):\n",
    "    \"\"\"\n",
    "    Calculate the odometry from the action and the current state.\n",
    "\n",
    "    :param action: the action to perform\n",
    "    :param x0: the initial x position\n",
    "    :param y0: the initial y position\n",
    "    :param theta0: the initial orientation\n",
    "    :param v0: the initial linear speed\n",
    "    :param w0: the initial angular speed\n",
    "    :param dt: the time step\n",
    "\n",
    "    :return: (Position, float, float)\n",
    "    \"\"\"\n",
    "    x_dot_dot, w_dot_dot = get_acceleration(action, u=v0, w=w0)\n",
    "\n",
    "    v1 = v0 + x_dot_dot[0]*dt\n",
    "    w1 = w0 + w_dot_dot[0]*dt\n",
    "\n",
    "    # Runge Kutta\n",
    "    x1 = x0 + v0*dt*np.cos(theta0 + w0*dt/2)\n",
    "    y1 = y0 + v0*dt*np.sin(theta0 + w0*dt/2)\n",
    "    theta1 = theta0 + w0*dt\n",
    "\n",
    "    return Position(x1, y1, theta1), v1, w1"
   ]
  },
  {
   "cell_type": "code",
   "execution_count": 119,
   "metadata": {},
   "outputs": [],
   "source": [
    "def odom(t, x, u, params):\n",
    "    dt = params.get('dt', 0.033)\n",
    "\n",
    "    v0 = u[0]\n",
    "    w0 = u[1]\n",
    "    # wl = u[2]\n",
    "    # wr = u[3]\n",
    "\n",
    "    x0 = x[0]\n",
    "    y0 = x[1]\n",
    "    theta0 = x[2]\n",
    "\n",
    "    # x_dot_dot, w_dot_dot = get_acceleration([wl, wr], u=v0, w=w0)\n",
    "\n",
    "    # v1 = v0 + x_dot_dot[0]*dt\n",
    "    # w1 = w0 + w_dot_dot[0]*dt\n",
    "\n",
    "    # Runge Kutta\n",
    "    x1 = x0 + v0*dt*np.cos(theta0 + w0*dt/2)\n",
    "    y1 = y0 + v0*dt*np.sin(theta0 + w0*dt/2)\n",
    "    theta1 = theta0 + w0*dt\n",
    "\n",
    "    return [x1, y1, theta1]"
   ]
  },
  {
   "cell_type": "code",
   "execution_count": 120,
   "metadata": {},
   "outputs": [],
   "source": [
    "def my_odom_lin(v, w, x0, y0, t0, dt=0.033, v_eq=0, w_eq=0):\n",
    "    u = np.array([v, w]).T\n",
    "\n",
    "    B_00 = dt*np.cos(t0+w_eq*dt/2)\n",
    "    B_01 = -v_eq*dt*np.sin(t0+w_eq*dt/2)*dt/2\n",
    "    B_10 = dt*np.sin(t0+w_eq*dt/2)\n",
    "    B_11 = v_eq*dt*np.cos(t0+w_eq*dt/2)*dt/2\n",
    "    B_20 = 0\n",
    "    B_21 = w*dt\n",
    "\n",
    "    B = np.array([[B_00, B_01], [B_10, B_11], [B_20, B_21]])\n",
    "\n",
    "    A0 = np.array([x0, y0, -t0]).T\n",
    "    A1 = -B@np.array([v_eq, w_eq]).T\n",
    "\n",
    "    A = A0 + A1\n",
    "\n",
    "    x_k = A+B@u\n",
    "\n",
    "    return x_k"
   ]
  },
  {
   "cell_type": "code",
   "execution_count": 121,
   "metadata": {},
   "outputs": [],
   "source": [
    "def auto_odom_full(t, x, u, params):\n",
    "    # Trick is to +1 delay\n",
    "    dt = params.get('dt', 0.033)\n",
    "\n",
    "    wl, wr = u[0], u[1]\n",
    "\n",
    "    x0, y0, theta0, v0, w0 = x[0], x[1], x[2], x[3], x[4]\n",
    "\n",
    "    x_dot_dot, w_dot_dot = get_acceleration([wl, wr], u=v0, w=w0)\n",
    "    v1 = v0 + x_dot_dot[0]*dt\n",
    "    w1 = w0 + w_dot_dot[0]*dt\n",
    "\n",
    "    # Runge Kutta\n",
    "    x1 = x0 + v1*dt*np.cos(theta0 + w1*dt/2)\n",
    "    y1 = y0 + v1*dt*np.sin(theta0 + w1*dt/2)\n",
    "    theta1 = theta0 + w1*dt\n",
    "\n",
    "    return [x1, y1, theta1, v1, w1]"
   ]
  },
  {
   "cell_type": "code",
   "execution_count": 122,
   "metadata": {},
   "outputs": [],
   "source": [
    "io_odom = ct.NonlinearIOSystem(auto_odom_full, None, inputs=('wl', 'wr'), states=('x', 'y', 'th', 'v', 'w'), outputs=('x', 'y', 'th', 'v', 'w'), name='odom', params={'dt': 0.003})"
   ]
  },
  {
   "cell_type": "code",
   "execution_count": 123,
   "metadata": {},
   "outputs": [],
   "source": [
    "eqpt = ct.find_eqpt(io_odom, [0]*5, [0]*2)\n",
    "xeq = eqpt[0]"
   ]
  },
  {
   "cell_type": "code",
   "execution_count": 124,
   "metadata": {},
   "outputs": [
    {
     "data": {
      "text/plain": [
       "(array([0., 0., 0., 0., 0.]), [0, 0])"
      ]
     },
     "execution_count": 124,
     "metadata": {},
     "output_type": "execute_result"
    }
   ],
   "source": [
    "eqpt"
   ]
  },
  {
   "cell_type": "code",
   "execution_count": 125,
   "metadata": {},
   "outputs": [],
   "source": [
    "lin_odom = ct.linearize(io_odom, xeq, 0)"
   ]
  },
  {
   "cell_type": "code",
   "execution_count": 126,
   "metadata": {},
   "outputs": [
    {
     "data": {
      "text/plain": [
       "array([[1.      , 0.      , 0.      , 0.002955, 0.      ],\n",
       "       [0.      , 1.      , 0.      , 0.      , 0.      ],\n",
       "       [0.      , 0.      , 1.      , 0.      , 0.002964],\n",
       "       [0.      , 0.      , 0.      , 0.985   , 0.      ],\n",
       "       [0.      , 0.      , 0.      , 0.      , 0.988   ]])"
      ]
     },
     "execution_count": 126,
     "metadata": {},
     "output_type": "execute_result"
    }
   ],
   "source": [
    "lin_odom.A"
   ]
  },
  {
   "cell_type": "code",
   "execution_count": 127,
   "metadata": {},
   "outputs": [
    {
     "data": {
      "text/plain": [
       "array([[ 1.3500e-05,  1.3500e-05],\n",
       "       [-9.1125e-16,  9.1125e-16],\n",
       "       [-1.3500e-04,  1.3500e-04],\n",
       "       [ 4.5000e-03,  4.5000e-03],\n",
       "       [-4.5000e-02,  4.5000e-02]])"
      ]
     },
     "execution_count": 127,
     "metadata": {},
     "output_type": "execute_result"
    }
   ],
   "source": [
    "lin_odom.B"
   ]
  },
  {
   "cell_type": "code",
   "execution_count": 128,
   "metadata": {},
   "outputs": [
    {
     "data": {
      "text/plain": [
       "array([[1., 0., 0., 0., 0.],\n",
       "       [0., 1., 0., 0., 0.],\n",
       "       [0., 0., 1., 0., 0.],\n",
       "       [0., 0., 0., 1., 0.],\n",
       "       [0., 0., 0., 0., 1.]])"
      ]
     },
     "execution_count": 128,
     "metadata": {},
     "output_type": "execute_result"
    }
   ],
   "source": [
    "lin_odom.C"
   ]
  },
  {
   "cell_type": "code",
   "execution_count": 129,
   "metadata": {},
   "outputs": [
    {
     "data": {
      "text/plain": [
       "array([[0., 0.],\n",
       "       [0., 0.],\n",
       "       [0., 0.],\n",
       "       [0., 0.],\n",
       "       [0., 0.]])"
      ]
     },
     "execution_count": 129,
     "metadata": {},
     "output_type": "execute_result"
    }
   ],
   "source": [
    "lin_odom.D"
   ]
  },
  {
   "cell_type": "code",
   "execution_count": 130,
   "metadata": {},
   "outputs": [],
   "source": [
    "def linearized_odom(action, x0, y0, theta0, v0=0, w0=0, dt=0.033, return_result=False):\n",
    "    io_odom = ct.NonlinearIOSystem(auto_odom_full, None, inputs=('wl', 'wr'), states=('x', 'y', 'th', 'v', 'w'), outputs=('x', 'y', 'th', 'v', 'w'), name='odom', params={'dt': dt})\n",
    "    xeq, ueq = ct.find_eqpt(io_odom, [x0, y0, theta0, v0, w0], action, return_result=return_result)\n",
    "    lin_odom = ct.linearize(io_odom, xeq, [0,0])\n",
    "    x = lin_odom.A@[[x0], [y0], [theta0], [v0], [w0]] + lin_odom.B@[[a] for a in action]\n",
    "    return x.reshape(-1)"
   ]
  },
  {
   "cell_type": "code",
   "execution_count": 131,
   "metadata": {},
   "outputs": [],
   "source": [
    "action, x0, y0, theta0, v0, w0, dt = [0, 0], 0.7019999, 1.34470641, 0.0, 0, 0, 0.033\n",
    "io_odom = ct.NonlinearIOSystem(auto_odom_full, None, inputs=('wl', 'wr'), states=('x', 'y', 'th', 'v', 'w'), outputs=('x', 'y', 'th', 'v', 'w'), name='odom', params={'dt': dt})\n",
    "xeq, ueq = ct.find_eqpt(io_odom, [x0, y0, theta0, v0, w0], action)\n",
    "lin_odom = ct.linearize(io_odom, xeq, [0,0])\n",
    "x = lin_odom.A@[[x0], [y0], [theta0], [v0], [w0]] + lin_odom.B@[[a] for a in action]"
   ]
  },
  {
   "cell_type": "code",
   "execution_count": 132,
   "metadata": {},
   "outputs": [
    {
     "data": {
      "text/latex": [
       "\\[\n",
       "\\left(\\begin{array}{rllrllrllrllrll|rllrll}\n",
       "1\\phantom{.}&\\hspace{-1em}&\\hspace{-1em}\\phantom{\\cdot}&0\\phantom{.}&\\hspace{-1em}&\\hspace{-1em}\\phantom{\\cdot}&0\\phantom{.}&\\hspace{-1em}&\\hspace{-1em}\\phantom{\\cdot}&0.&\\hspace{-1em}0276&\\hspace{-1em}\\phantom{\\cdot}&0\\phantom{.}&\\hspace{-1em}&\\hspace{-1em}\\phantom{\\cdot}&0.&\\hspace{-1em}00163&\\hspace{-1em}\\phantom{\\cdot}&0.&\\hspace{-1em}00163&\\hspace{-1em}\\phantom{\\cdot}\\\\\n",
       "0\\phantom{.}&\\hspace{-1em}&\\hspace{-1em}\\phantom{\\cdot}&1\\phantom{.}&\\hspace{-1em}&\\hspace{-1em}\\phantom{\\cdot}&0\\phantom{.}&\\hspace{-1em}&\\hspace{-1em}\\phantom{\\cdot}&0\\phantom{.}&\\hspace{-1em}&\\hspace{-1em}\\phantom{\\cdot}&0\\phantom{.}&\\hspace{-1em}&\\hspace{-1em}\\phantom{\\cdot}&-1.&\\hspace{-1em}33&\\hspace{-1em}\\cdot10^{-11}&1.&\\hspace{-1em}33&\\hspace{-1em}\\cdot10^{-11}\\\\\n",
       "0\\phantom{.}&\\hspace{-1em}&\\hspace{-1em}\\phantom{\\cdot}&0\\phantom{.}&\\hspace{-1em}&\\hspace{-1em}\\phantom{\\cdot}&1\\phantom{.}&\\hspace{-1em}&\\hspace{-1em}\\phantom{\\cdot}&0\\phantom{.}&\\hspace{-1em}&\\hspace{-1em}\\phantom{\\cdot}&0.&\\hspace{-1em}0286&\\hspace{-1em}\\phantom{\\cdot}&-0.&\\hspace{-1em}0163&\\hspace{-1em}\\phantom{\\cdot}&0.&\\hspace{-1em}0163&\\hspace{-1em}\\phantom{\\cdot}\\\\\n",
       "0\\phantom{.}&\\hspace{-1em}&\\hspace{-1em}\\phantom{\\cdot}&0\\phantom{.}&\\hspace{-1em}&\\hspace{-1em}\\phantom{\\cdot}&0\\phantom{.}&\\hspace{-1em}&\\hspace{-1em}\\phantom{\\cdot}&0.&\\hspace{-1em}835&\\hspace{-1em}\\phantom{\\cdot}&0\\phantom{.}&\\hspace{-1em}&\\hspace{-1em}\\phantom{\\cdot}&0.&\\hspace{-1em}0495&\\hspace{-1em}\\phantom{\\cdot}&0.&\\hspace{-1em}0495&\\hspace{-1em}\\phantom{\\cdot}\\\\\n",
       "0\\phantom{.}&\\hspace{-1em}&\\hspace{-1em}\\phantom{\\cdot}&0\\phantom{.}&\\hspace{-1em}&\\hspace{-1em}\\phantom{\\cdot}&0\\phantom{.}&\\hspace{-1em}&\\hspace{-1em}\\phantom{\\cdot}&0\\phantom{.}&\\hspace{-1em}&\\hspace{-1em}\\phantom{\\cdot}&0.&\\hspace{-1em}868&\\hspace{-1em}\\phantom{\\cdot}&-0.&\\hspace{-1em}495&\\hspace{-1em}\\phantom{\\cdot}&0.&\\hspace{-1em}495&\\hspace{-1em}\\phantom{\\cdot}\\\\\n",
       "\\hline\n",
       "1\\phantom{.}&\\hspace{-1em}&\\hspace{-1em}\\phantom{\\cdot}&0\\phantom{.}&\\hspace{-1em}&\\hspace{-1em}\\phantom{\\cdot}&0\\phantom{.}&\\hspace{-1em}&\\hspace{-1em}\\phantom{\\cdot}&0\\phantom{.}&\\hspace{-1em}&\\hspace{-1em}\\phantom{\\cdot}&0\\phantom{.}&\\hspace{-1em}&\\hspace{-1em}\\phantom{\\cdot}&0\\phantom{.}&\\hspace{-1em}&\\hspace{-1em}\\phantom{\\cdot}&0\\phantom{.}&\\hspace{-1em}&\\hspace{-1em}\\phantom{\\cdot}\\\\\n",
       "0\\phantom{.}&\\hspace{-1em}&\\hspace{-1em}\\phantom{\\cdot}&1\\phantom{.}&\\hspace{-1em}&\\hspace{-1em}\\phantom{\\cdot}&0\\phantom{.}&\\hspace{-1em}&\\hspace{-1em}\\phantom{\\cdot}&0\\phantom{.}&\\hspace{-1em}&\\hspace{-1em}\\phantom{\\cdot}&0\\phantom{.}&\\hspace{-1em}&\\hspace{-1em}\\phantom{\\cdot}&0\\phantom{.}&\\hspace{-1em}&\\hspace{-1em}\\phantom{\\cdot}&0\\phantom{.}&\\hspace{-1em}&\\hspace{-1em}\\phantom{\\cdot}\\\\\n",
       "0\\phantom{.}&\\hspace{-1em}&\\hspace{-1em}\\phantom{\\cdot}&0\\phantom{.}&\\hspace{-1em}&\\hspace{-1em}\\phantom{\\cdot}&1\\phantom{.}&\\hspace{-1em}&\\hspace{-1em}\\phantom{\\cdot}&0\\phantom{.}&\\hspace{-1em}&\\hspace{-1em}\\phantom{\\cdot}&0\\phantom{.}&\\hspace{-1em}&\\hspace{-1em}\\phantom{\\cdot}&0\\phantom{.}&\\hspace{-1em}&\\hspace{-1em}\\phantom{\\cdot}&0\\phantom{.}&\\hspace{-1em}&\\hspace{-1em}\\phantom{\\cdot}\\\\\n",
       "0\\phantom{.}&\\hspace{-1em}&\\hspace{-1em}\\phantom{\\cdot}&0\\phantom{.}&\\hspace{-1em}&\\hspace{-1em}\\phantom{\\cdot}&0\\phantom{.}&\\hspace{-1em}&\\hspace{-1em}\\phantom{\\cdot}&1\\phantom{.}&\\hspace{-1em}&\\hspace{-1em}\\phantom{\\cdot}&0\\phantom{.}&\\hspace{-1em}&\\hspace{-1em}\\phantom{\\cdot}&0\\phantom{.}&\\hspace{-1em}&\\hspace{-1em}\\phantom{\\cdot}&0\\phantom{.}&\\hspace{-1em}&\\hspace{-1em}\\phantom{\\cdot}\\\\\n",
       "0\\phantom{.}&\\hspace{-1em}&\\hspace{-1em}\\phantom{\\cdot}&0\\phantom{.}&\\hspace{-1em}&\\hspace{-1em}\\phantom{\\cdot}&0\\phantom{.}&\\hspace{-1em}&\\hspace{-1em}\\phantom{\\cdot}&0\\phantom{.}&\\hspace{-1em}&\\hspace{-1em}\\phantom{\\cdot}&1\\phantom{.}&\\hspace{-1em}&\\hspace{-1em}\\phantom{\\cdot}&0\\phantom{.}&\\hspace{-1em}&\\hspace{-1em}\\phantom{\\cdot}&0\\phantom{.}&\\hspace{-1em}&\\hspace{-1em}\\phantom{\\cdot}\\\\\n",
       "\\end{array}\\right)\n",
       "\\]"
      ],
      "text/plain": [
       "sys[163]"
      ]
     },
     "execution_count": 132,
     "metadata": {},
     "output_type": "execute_result"
    }
   ],
   "source": [
    "lin_odom"
   ]
  },
  {
   "cell_type": "code",
   "execution_count": 133,
   "metadata": {},
   "outputs": [
    {
     "data": {
      "text/plain": [
       "array([0.7019999 , 1.34470641, 0.        , 0.        , 0.        ])"
      ]
     },
     "execution_count": 133,
     "metadata": {},
     "output_type": "execute_result"
    }
   ],
   "source": [
    "linearized_odom([0, 0], 0.7019999, 1.34470641, 0.0, v0=0, w0=0, dt=0.033)"
   ]
  },
  {
   "cell_type": "code",
   "execution_count": 134,
   "metadata": {},
   "outputs": [
    {
     "data": {
      "text/plain": [
       "[0.7019999, 1.34470641, 0.0, 0.0, 0.0]"
      ]
     },
     "execution_count": 134,
     "metadata": {},
     "output_type": "execute_result"
    }
   ],
   "source": [
    "auto_odom_full([0, 0], [0.7019999, 1.34470641, 0.0, 0, 0], [0, 0], {'dt': 0.033})"
   ]
  },
  {
   "cell_type": "code",
   "execution_count": 135,
   "metadata": {},
   "outputs": [
    {
     "data": {
      "text/plain": [
       "[0.7036333455164979, 1.3446930685370815, -0.016335000000000002, 0.0495, -0.495]"
      ]
     },
     "execution_count": 135,
     "metadata": {},
     "output_type": "execute_result"
    }
   ],
   "source": [
    "auto_odom_full(0, [0.7019999, 1.34470641, 0.0, 0, 0], [1, 0], {'dt': 0.033})"
   ]
  },
  {
   "cell_type": "code",
   "execution_count": 136,
   "metadata": {},
   "outputs": [
    {
     "data": {
      "text/plain": [
       "array([ 0.70363324,  1.34473309, -0.016335  ,  0.0495    , -0.495     ])"
      ]
     },
     "execution_count": 136,
     "metadata": {},
     "output_type": "execute_result"
    }
   ],
   "source": [
    "linearized_odom([1, 0], 0.7019999, 1.34470641, 0.0, v0=0, w0=0, dt=0.033)"
   ]
  },
  {
   "cell_type": "code",
   "execution_count": 137,
   "metadata": {},
   "outputs": [],
   "source": [
    "delta_time = 1.0 / env.frame_rate"
   ]
  },
  {
   "cell_type": "code",
   "execution_count": 141,
   "metadata": {},
   "outputs": [
    {
     "data": {
      "image/png": "[encoded data removed]",
      "text/plain": [
       "<Figure size 432x288 with 1 Axes>"
      ]
     },
     "metadata": {},
     "output_type": "display_data"
    },
    {
     "data": {
      "image/png": "[encoded data removed]",
      "text/plain": [
       "<Figure size 432x288 with 1 Axes>"
      ]
     },
     "metadata": {
      "needs_background": "light"
     },
     "output_type": "display_data"
    }
   ],
   "source": [
    "env.reset()\n",
    "pose = get_position(env)\n",
    "delay = round(0.15/delta_time)\n",
    "actions = []\n",
    "odoms = [pose]\n",
    "poses = []\n",
    "v_1 = 0\n",
    "w_1 = 0\n",
    "v0 = 0\n",
    "w0 = 0\n",
    "v = [0,0]\n",
    "real_v = []\n",
    "w = [0,0]\n",
    "# plt.imshow(np.flip(env.render(mode=\"top_down\"), [0]))\n",
    "for i in range(10):\n",
    "    action = [1,0]\n",
    "    actions.append(action)\n",
    "    obs, reward, done, info = env.step(action)\n",
    "    if reward == -1000:\n",
    "        print(\"Collision\")\n",
    "        break\n",
    "    # Test odometry\n",
    "    real_v.append(info[\"Simulator\"][\"robot_speed\"])\n",
    "    if len(actions) < delay +1:\n",
    "        # p_l  = my_odom_lin(v0, w0, odoms_l[-1].x, odoms_l[-1].y, odoms_l[-1].theta, dt=delta_time, v_eq=v_1, w_eq=w_1)\n",
    "        # v0, w0 = v_1, w_1\n",
    "        # p, v0, w0 = auto_odom_full_direct([0,0], odoms[-1].x, odoms[-1].y, odoms[-1].theta, dt=delta_time, v0=v0, w0=w0)\n",
    "        # res = auto_odom_full(0, [odoms[-1].x, odoms[-1].y, odoms[-1].theta, v0, w0], [0, 0], {'dt': delta_time})\n",
    "        res = linearized_odom([0,0], odoms[-1].x, odoms[-1].y, odoms[-1].theta, v0=v0, w0=w0, dt=delta_time)\n",
    "        p, v0, w0 = Position(*res[:3]), res[3], res[4]\n",
    "    else:\n",
    "        # p_l = my_odom_lin(v0, w0, odoms_l[-1].x, odoms_l[-1].y, odoms_l[-1].theta, dt=delta_time, v_eq=v_1, w_eq=w_1)\n",
    "        # p, v0, w0 = auto_odom_full_direct(action, odoms[-1].x, odoms[-1].y, odoms[-1].theta, dt=delta_time, v0=v0, w0=w0)\n",
    "        # res = auto_odom_full(0, [odoms[-1].x, odoms[-1].y, odoms[-1].theta, v0, w0], [action[0], action[1]], {'dt': delta_time})\n",
    "        res = linearized_odom([action[1], action[0]], odoms[-1].x, odoms[-1].y, odoms[-1].theta, v0=v0, w0=w0, dt=delta_time, return_result=False)\n",
    "        p, v0, w0 = Position(*res[:3]), res[3], res[4]\n",
    "    v.append(v0)\n",
    "    w.append(w0)\n",
    "    odoms.append(p)\n",
    "    try:\n",
    "        pose = get_position(env)\n",
    "    except ValueError:\n",
    "        print(env.cartesian_from_weird(env.cur_pos, env.cur_angle))\n",
    "        break\n",
    "    poses.append(pose)\n",
    "    plt.scatter(pose.x, pose.y, marker=\"o\", c=\"b\")\n",
    "    # Test odometry\n",
    "    o = get_position(env)\n",
    "    plt.scatter(p.x, p.y, marker=\"*\", c=\"r\")\n",
    "    ipythondisplay.clear_output(wait=True)\n",
    "    ipythondisplay.display(plt.gcf())"
   ]
  },
  {
   "cell_type": "code",
   "execution_count": 139,
   "metadata": {},
   "outputs": [
    {
     "data": {
      "text/plain": [
       "array([ 0.73593928,  1.34661222, -0.36089258,  0.21627551, -2.37280347])"
      ]
     },
     "execution_count": 139,
     "metadata": {},
     "output_type": "execute_result"
    }
   ],
   "source": [
    "linearized_odom(action, odoms[-1].x, odoms[-1].y, odoms[-1].theta, v0=v0, w0=w0, dt=delta_time)"
   ]
  },
  {
   "cell_type": "code",
   "execution_count": 140,
   "metadata": {},
   "outputs": [
    {
     "data": {
      "text/plain": [
       "[0.7355749627256079,\n",
       " 1.3437396111841202,\n",
       " -0.36089258201157015,\n",
       " 0.21627550581102584,\n",
       " -2.372803467990308]"
      ]
     },
     "execution_count": 140,
     "metadata": {},
     "output_type": "execute_result"
    }
   ],
   "source": [
    "auto_odom_full(0, [odoms[-1].x, odoms[-1].y, odoms[-1].theta, v0, w0], action, {'dt': delta_time})"
   ]
  }
 ],
 "metadata": {
  "interpreter": {
   "hash": "07a813fbc0dfa3687c2d7a37dec1fec4acefea469c7e6d8e3ba4eb0d49ad0cad"
  },
  "kernelspec": {
   "display_name": "Python 3.8.10 64-bit ('RACE': venv)",
   "language": "python",
   "name": "python3"
  },
  "language_info": {
   "codemirror_mode": {
    "name": "ipython",
    "version": 3
   },
   "file_extension": ".py",
   "mimetype": "text/x-python",
   "name": "python",
   "nbconvert_exporter": "python",
   "pygments_lexer": "ipython3",
   "version": "3.8.10"
  },
  "orig_nbformat": 4
 },
 "nbformat": 4,
 "nbformat_minor": 2
}
