{
 "cells": [
  {
   "cell_type": "code",
   "execution_count": 26,
   "metadata": {},
   "outputs": [],
   "source": [
    "import control as ct\n",
    "from utils import Position, get_acceleration, get_position\n",
    "import matplotlib.pyplot as plt\n",
    "import numpy as np"
   ]
  },
  {
   "cell_type": "code",
   "execution_count": 27,
   "metadata": {},
   "outputs": [],
   "source": [
    "import gym_duckietown\n",
    "\n",
    "from gym_duckietown.simulator import Simulator\n",
    "from IPython import display as ipythondisplay"
   ]
  },
  {
   "cell_type": "code",
   "execution_count": 28,
   "metadata": {},
   "outputs": [],
   "source": [
    "#gym_duckietown is very chatty\n",
    "import logging\n",
    "gym_duckietown.logger.setLevel(logging.WARNING)\n",
    "env = Simulator(\"small_loop\",\n",
    "    full_transparency=True,\n",
    "    domain_rand=False,\n",
    "    user_tile_start=[1,0],\n",
    "    seed=42,\n",
    "    max_steps=float(\"inf\"),\n",
    ")\n",
    "env.unwrapped.start_pose = [[0.11699990272521976, 0, 0.41029359288296474], 0]"
   ]
  },
  {
   "cell_type": "code",
   "execution_count": 29,
   "metadata": {},
   "outputs": [],
   "source": [
    "def my_odometry(action, x0, y0, theta0, v0=0, w0=0, dt=0.033):\n",
    "    \"\"\"\n",
    "    Calculate the odometry from the action and the current state.\n",
    "\n",
    "    :param action: the action to perform\n",
    "    :param x0: the initial x position\n",
    "    :param y0: the initial y position\n",
    "    :param theta0: the initial orientation\n",
    "    :param v0: the initial linear speed\n",
    "    :param w0: the initial angular speed\n",
    "    :param dt: the time step\n",
    "\n",
    "    :return: (Position, float, float)\n",
    "    \"\"\"\n",
    "    x_dot_dot, w_dot_dot = get_acceleration(action, u=v0, w=w0)\n",
    "\n",
    "    v1 = v0 + x_dot_dot[0]*dt\n",
    "    w1 = w0 + w_dot_dot[0]*dt\n",
    "\n",
    "    # Runge Kutta\n",
    "    x1 = x0 + v0*dt*np.cos(theta0 + w0*dt/2)\n",
    "    y1 = y0 + v0*dt*np.sin(theta0 + w0*dt/2)\n",
    "    theta1 = theta0 + w0*dt\n",
    "\n",
    "    return Position(x1, y1, theta1), v1, w1"
   ]
  },
  {
   "cell_type": "code",
   "execution_count": 30,
   "metadata": {},
   "outputs": [],
   "source": [
    "def odom(t, x, u, params):\n",
    "    dt = params.get('dt', 0.033)\n",
    "\n",
    "    v0 = u[0]\n",
    "    w0 = u[1]\n",
    "    # wl = u[2]\n",
    "    # wr = u[3]\n",
    "\n",
    "    x0 = x[0]\n",
    "    y0 = x[1]\n",
    "    theta0 = x[2]\n",
    "\n",
    "    # x_dot_dot, w_dot_dot = get_acceleration([wl, wr], u=v0, w=w0)\n",
    "\n",
    "    # v1 = v0 + x_dot_dot[0]*dt\n",
    "    # w1 = w0 + w_dot_dot[0]*dt\n",
    "\n",
    "    # Runge Kutta\n",
    "    x1 = x0 + v0*dt*np.cos(theta0 + w0*dt/2)\n",
    "    y1 = y0 + v0*dt*np.sin(theta0 + w0*dt/2)\n",
    "    theta1 = theta0 + w0*dt\n",
    "\n",
    "    return [x1, y1, theta1]"
   ]
  },
  {
   "cell_type": "code",
   "execution_count": 31,
   "metadata": {},
   "outputs": [],
   "source": [
    "def my_odom_lin(t, x, u, params, intorno_a=None):\n",
    "\n",
    "    if intorno_a is None:\n",
    "        intorno_a = x[2]\n",
    "\n",
    "    dt = params.get('dt', 0.033)\n",
    "\n",
    "    action = u[0], u[1]\n",
    "\n",
    "    x0, y0, theta0, v0, w0 = x[0], x[1], x[2], x[3], x[4]\n",
    "\n",
    "    x_dot_dot, w_dot_dot = get_acceleration(action, u=v0, w=w0)\n",
    "\n",
    "    v1 = v0 + x_dot_dot[0]*dt\n",
    "    w1 = w0 + w_dot_dot[0]*dt\n",
    "\n",
    "    # Runge Kutta\n",
    "    theta1 = theta0 + w1*dt\n",
    "    x1 = x0 + v0*dt*np.cos(intorno_a) - v0*dt*np.sin(intorno_a)*w1*dt + dt*np.cos(intorno_a)*x_dot_dot[0]*dt\n",
    "    y1 = y0 + v0*dt*np.sin(intorno_a) + v0*dt*np.cos(intorno_a)*w1*dt + dt*np.sin(intorno_a)*x_dot_dot[0]*dt\n",
    "\n",
    "    # u, w = v0, w0\n",
    "\n",
    "    # u1 = 5\n",
    "    # w1 = 4\n",
    "    # # parameters for forced dynamics\n",
    "    # uar = 1.5\n",
    "    # ual = 1.5\n",
    "    # war = 15  # modify this for trim\n",
    "    # wal = 15\n",
    "\n",
    "    # u_alpha_r = uar\n",
    "    # u_alpha_l = ual\n",
    "    # w_alpha_r = war\n",
    "    # w_alpha_l = wal\n",
    "    \n",
    "    # # wr, wl\n",
    "    # U = np.array(action)\n",
    "    # V = U.reshape(U.size, 1)\n",
    "    # V = np.clip(V, -1, +1)\n",
    "\n",
    "    # # Previous step linear and angular speed\n",
    "    # # u, w = longit_prev, angular_prev\n",
    "\n",
    "    # ## Calculate Dynamics\n",
    "    # # nonlinear Dynamics - autonomous response\n",
    "    # f_dynamic = np.array([[-u1 * u ], [-w1 * w]])\n",
    "    # # input Matrix\n",
    "    # B = np.array([[u_alpha_r, u_alpha_l], [w_alpha_r, -w_alpha_l]])\n",
    "    # # forced response\n",
    "    # f_forced = np.matmul(B, V)\n",
    "    # # acceleration\n",
    "    # x_dot_dot = f_dynamic + f_forced\n",
    "\n",
    "    # w_dot_dot, x_dot_dot = x_dot_dot.reshape(-1)\n",
    "\n",
    "    u = np.array([[w_dot_dot[0]*dt], [x_dot_dot[0]*dt]])\n",
    "\n",
    "    A = np.array([[x0 + v0*dt*np.cos(intorno_a) - v0*dt*np.sin(intorno_a)*dt*w0 - v0*dt*np.sin(intorno_a)*dt*w0],\n",
    "        [y0 + v0*dt*np.sin(intorno_a) + v0*dt*np.cos(intorno_a)*dt*w0],\n",
    "        [theta0 + w0*dt]])\n",
    "    B = np.array([[-v0*dt*np.sin(intorno_a)*dt, dt*np.cos(intorno_a)],\n",
    "        [v0*dt*np.cos(intorno_a)*dt, dt*np.sin(intorno_a)],\n",
    "        [dt, 0]])\n",
    "\n",
    "    xdot = A+B@u\n",
    "\n",
    "    return [*xdot.reshape(-1), v1, w1]\n",
    "    # return [x1, y1, theta1, v1, w1]"
   ]
  },
  {
   "cell_type": "code",
   "execution_count": 32,
   "metadata": {},
   "outputs": [],
   "source": [
    "def auto_odom_full(t, x, u, params):\n",
    "    # Trick is to +1 delay\n",
    "    dt = params.get('dt', 0.033)\n",
    "\n",
    "    wl, wr = u[0], u[1]\n",
    "\n",
    "    x0, y0, theta0, v0, w0 = x[0], x[1], x[2], x[3], x[4]\n",
    "\n",
    "    x_dot_dot, w_dot_dot = get_acceleration([wl, wr], u=v0, w=w0)\n",
    "    v1 = v0 + x_dot_dot[0]*dt\n",
    "    w1 = w0 + w_dot_dot[0]*dt\n",
    "\n",
    "    # Runge Kutta\n",
    "    x1 = x0 + v1*dt*np.cos(theta0 + w1*dt/2)\n",
    "    y1 = y0 + v1*dt*np.sin(theta0 + w1*dt/2)\n",
    "    theta1 = theta0 + w1*dt\n",
    "\n",
    "    return [x1, y1, theta1, v1, w1]"
   ]
  },
  {
   "cell_type": "code",
   "execution_count": 33,
   "metadata": {},
   "outputs": [],
   "source": [
    "io_odom = ct.NonlinearIOSystem(auto_odom_full, None, inputs=('wl', 'wr'), states=('x', 'y', 'th', 'v', 'w'), outputs=('x', 'y', 'th', 'v', 'w'), name='odom', params={'dt': 0.003})"
   ]
  },
  {
   "cell_type": "code",
   "execution_count": 34,
   "metadata": {},
   "outputs": [],
   "source": [
    "eqpt = ct.find_eqpt(io_odom, [0]*5, [0]*2)\n",
    "xeq = eqpt[0]"
   ]
  },
  {
   "cell_type": "code",
   "execution_count": 35,
   "metadata": {},
   "outputs": [
    {
     "data": {
      "text/plain": [
       "(array([0., 0., 0., 0., 0.]), [0, 0])"
      ]
     },
     "execution_count": 35,
     "metadata": {},
     "output_type": "execute_result"
    }
   ],
   "source": [
    "eqpt"
   ]
  },
  {
   "cell_type": "code",
   "execution_count": 36,
   "metadata": {},
   "outputs": [],
   "source": [
    "lin_odom = ct.linearize(io_odom, xeq, 0)"
   ]
  },
  {
   "cell_type": "code",
   "execution_count": 37,
   "metadata": {},
   "outputs": [
    {
     "data": {
      "text/plain": [
       "array([[1.      , 0.      , 0.      , 0.002955, 0.      ],\n",
       "       [0.      , 1.      , 0.      , 0.      , 0.      ],\n",
       "       [0.      , 0.      , 1.      , 0.      , 0.002964],\n",
       "       [0.      , 0.      , 0.      , 0.985   , 0.      ],\n",
       "       [0.      , 0.      , 0.      , 0.      , 0.988   ]])"
      ]
     },
     "execution_count": 37,
     "metadata": {},
     "output_type": "execute_result"
    }
   ],
   "source": [
    "lin_odom.A"
   ]
  },
  {
   "cell_type": "code",
   "execution_count": 38,
   "metadata": {},
   "outputs": [
    {
     "data": {
      "text/plain": [
       "array([[ 1.3500e-05,  1.3500e-05],\n",
       "       [-9.1125e-16,  9.1125e-16],\n",
       "       [-1.3500e-04,  1.3500e-04],\n",
       "       [ 4.5000e-03,  4.5000e-03],\n",
       "       [-4.5000e-02,  4.5000e-02]])"
      ]
     },
     "execution_count": 38,
     "metadata": {},
     "output_type": "execute_result"
    }
   ],
   "source": [
    "lin_odom.B"
   ]
  },
  {
   "cell_type": "code",
   "execution_count": 39,
   "metadata": {},
   "outputs": [
    {
     "data": {
      "text/plain": [
       "array([[1., 0., 0., 0., 0.],\n",
       "       [0., 1., 0., 0., 0.],\n",
       "       [0., 0., 1., 0., 0.],\n",
       "       [0., 0., 0., 1., 0.],\n",
       "       [0., 0., 0., 0., 1.]])"
      ]
     },
     "execution_count": 39,
     "metadata": {},
     "output_type": "execute_result"
    }
   ],
   "source": [
    "lin_odom.C"
   ]
  },
  {
   "cell_type": "code",
   "execution_count": 40,
   "metadata": {},
   "outputs": [
    {
     "data": {
      "text/plain": [
       "array([[0., 0.],\n",
       "       [0., 0.],\n",
       "       [0., 0.],\n",
       "       [0., 0.],\n",
       "       [0., 0.]])"
      ]
     },
     "execution_count": 40,
     "metadata": {},
     "output_type": "execute_result"
    }
   ],
   "source": [
    "lin_odom.D"
   ]
  },
  {
   "cell_type": "code",
   "execution_count": 41,
   "metadata": {},
   "outputs": [],
   "source": [
    "def linearized_odom(action, x0, y0, theta0, v0=0, w0=0, dt=0.033, return_result=False):\n",
    "    io_odom = ct.NonlinearIOSystem(auto_odom_full, None, inputs=('wl', 'wr'), states=('x', 'y', 'th', 'v', 'w'), outputs=('x', 'y', 'th', 'v', 'w'), name='odom', params={'dt': dt})\n",
    "    xeq, ueq = ct.find_eqpt(io_odom, [x0, y0, theta0, v0, w0], action, return_result=return_result)\n",
    "    lin_odom = ct.linearize(io_odom, xeq, 0)\n",
    "    x = lin_odom.A@[[x0], [y0], [theta0], [v0], [w0]] + lin_odom.B@[[a] for a in action]\n",
    "    return x.reshape(-1)"
   ]
  },
  {
   "cell_type": "code",
   "execution_count": 42,
   "metadata": {},
   "outputs": [],
   "source": [
    "action, x0, y0, theta0, v0, w0, dt = [0, 0], 0.7019999, 1.34470641, 0.0, 0, 0, 0.033\n",
    "io_odom = ct.NonlinearIOSystem(auto_odom_full, None, inputs=('wl', 'wr'), states=('x', 'y', 'th', 'v', 'w'), outputs=('x', 'y', 'th', 'v', 'w'), name='odom', params={'dt': dt})\n",
    "xeq, ueq = ct.find_eqpt(io_odom, [x0, y0, theta0, v0, w0], action)\n",
    "lin_odom = ct.linearize(io_odom, xeq, action)\n",
    "x = lin_odom.A@[[x0], [y0], [theta0], [v0], [w0]] + lin_odom.B@[[a] for a in action]"
   ]
  },
  {
   "cell_type": "code",
   "execution_count": 43,
   "metadata": {},
   "outputs": [
    {
     "data": {
      "text/latex": [
       "\\[\n",
       "\\left(\\begin{array}{rllrllrllrllrll|rllrll}\n",
       "1\\phantom{.}&\\hspace{-1em}&\\hspace{-1em}\\phantom{\\cdot}&0\\phantom{.}&\\hspace{-1em}&\\hspace{-1em}\\phantom{\\cdot}&0\\phantom{.}&\\hspace{-1em}&\\hspace{-1em}\\phantom{\\cdot}&0.&\\hspace{-1em}0276&\\hspace{-1em}\\phantom{\\cdot}&0\\phantom{.}&\\hspace{-1em}&\\hspace{-1em}\\phantom{\\cdot}&0.&\\hspace{-1em}00163&\\hspace{-1em}\\phantom{\\cdot}&0.&\\hspace{-1em}00163&\\hspace{-1em}\\phantom{\\cdot}\\\\\n",
       "0\\phantom{.}&\\hspace{-1em}&\\hspace{-1em}\\phantom{\\cdot}&1\\phantom{.}&\\hspace{-1em}&\\hspace{-1em}\\phantom{\\cdot}&0\\phantom{.}&\\hspace{-1em}&\\hspace{-1em}\\phantom{\\cdot}&0\\phantom{.}&\\hspace{-1em}&\\hspace{-1em}\\phantom{\\cdot}&0\\phantom{.}&\\hspace{-1em}&\\hspace{-1em}\\phantom{\\cdot}&-1.&\\hspace{-1em}33&\\hspace{-1em}\\cdot10^{-11}&1.&\\hspace{-1em}33&\\hspace{-1em}\\cdot10^{-11}\\\\\n",
       "0\\phantom{.}&\\hspace{-1em}&\\hspace{-1em}\\phantom{\\cdot}&0\\phantom{.}&\\hspace{-1em}&\\hspace{-1em}\\phantom{\\cdot}&1\\phantom{.}&\\hspace{-1em}&\\hspace{-1em}\\phantom{\\cdot}&0\\phantom{.}&\\hspace{-1em}&\\hspace{-1em}\\phantom{\\cdot}&0.&\\hspace{-1em}0286&\\hspace{-1em}\\phantom{\\cdot}&-0.&\\hspace{-1em}0163&\\hspace{-1em}\\phantom{\\cdot}&0.&\\hspace{-1em}0163&\\hspace{-1em}\\phantom{\\cdot}\\\\\n",
       "0\\phantom{.}&\\hspace{-1em}&\\hspace{-1em}\\phantom{\\cdot}&0\\phantom{.}&\\hspace{-1em}&\\hspace{-1em}\\phantom{\\cdot}&0\\phantom{.}&\\hspace{-1em}&\\hspace{-1em}\\phantom{\\cdot}&0.&\\hspace{-1em}835&\\hspace{-1em}\\phantom{\\cdot}&0\\phantom{.}&\\hspace{-1em}&\\hspace{-1em}\\phantom{\\cdot}&0.&\\hspace{-1em}0495&\\hspace{-1em}\\phantom{\\cdot}&0.&\\hspace{-1em}0495&\\hspace{-1em}\\phantom{\\cdot}\\\\\n",
       "0\\phantom{.}&\\hspace{-1em}&\\hspace{-1em}\\phantom{\\cdot}&0\\phantom{.}&\\hspace{-1em}&\\hspace{-1em}\\phantom{\\cdot}&0\\phantom{.}&\\hspace{-1em}&\\hspace{-1em}\\phantom{\\cdot}&0\\phantom{.}&\\hspace{-1em}&\\hspace{-1em}\\phantom{\\cdot}&0.&\\hspace{-1em}868&\\hspace{-1em}\\phantom{\\cdot}&-0.&\\hspace{-1em}495&\\hspace{-1em}\\phantom{\\cdot}&0.&\\hspace{-1em}495&\\hspace{-1em}\\phantom{\\cdot}\\\\\n",
       "\\hline\n",
       "1\\phantom{.}&\\hspace{-1em}&\\hspace{-1em}\\phantom{\\cdot}&0\\phantom{.}&\\hspace{-1em}&\\hspace{-1em}\\phantom{\\cdot}&0\\phantom{.}&\\hspace{-1em}&\\hspace{-1em}\\phantom{\\cdot}&0\\phantom{.}&\\hspace{-1em}&\\hspace{-1em}\\phantom{\\cdot}&0\\phantom{.}&\\hspace{-1em}&\\hspace{-1em}\\phantom{\\cdot}&0\\phantom{.}&\\hspace{-1em}&\\hspace{-1em}\\phantom{\\cdot}&0\\phantom{.}&\\hspace{-1em}&\\hspace{-1em}\\phantom{\\cdot}\\\\\n",
       "0\\phantom{.}&\\hspace{-1em}&\\hspace{-1em}\\phantom{\\cdot}&1\\phantom{.}&\\hspace{-1em}&\\hspace{-1em}\\phantom{\\cdot}&0\\phantom{.}&\\hspace{-1em}&\\hspace{-1em}\\phantom{\\cdot}&0\\phantom{.}&\\hspace{-1em}&\\hspace{-1em}\\phantom{\\cdot}&0\\phantom{.}&\\hspace{-1em}&\\hspace{-1em}\\phantom{\\cdot}&0\\phantom{.}&\\hspace{-1em}&\\hspace{-1em}\\phantom{\\cdot}&0\\phantom{.}&\\hspace{-1em}&\\hspace{-1em}\\phantom{\\cdot}\\\\\n",
       "0\\phantom{.}&\\hspace{-1em}&\\hspace{-1em}\\phantom{\\cdot}&0\\phantom{.}&\\hspace{-1em}&\\hspace{-1em}\\phantom{\\cdot}&1\\phantom{.}&\\hspace{-1em}&\\hspace{-1em}\\phantom{\\cdot}&0\\phantom{.}&\\hspace{-1em}&\\hspace{-1em}\\phantom{\\cdot}&0\\phantom{.}&\\hspace{-1em}&\\hspace{-1em}\\phantom{\\cdot}&0\\phantom{.}&\\hspace{-1em}&\\hspace{-1em}\\phantom{\\cdot}&0\\phantom{.}&\\hspace{-1em}&\\hspace{-1em}\\phantom{\\cdot}\\\\\n",
       "0\\phantom{.}&\\hspace{-1em}&\\hspace{-1em}\\phantom{\\cdot}&0\\phantom{.}&\\hspace{-1em}&\\hspace{-1em}\\phantom{\\cdot}&0\\phantom{.}&\\hspace{-1em}&\\hspace{-1em}\\phantom{\\cdot}&1\\phantom{.}&\\hspace{-1em}&\\hspace{-1em}\\phantom{\\cdot}&0\\phantom{.}&\\hspace{-1em}&\\hspace{-1em}\\phantom{\\cdot}&0\\phantom{.}&\\hspace{-1em}&\\hspace{-1em}\\phantom{\\cdot}&0\\phantom{.}&\\hspace{-1em}&\\hspace{-1em}\\phantom{\\cdot}\\\\\n",
       "0\\phantom{.}&\\hspace{-1em}&\\hspace{-1em}\\phantom{\\cdot}&0\\phantom{.}&\\hspace{-1em}&\\hspace{-1em}\\phantom{\\cdot}&0\\phantom{.}&\\hspace{-1em}&\\hspace{-1em}\\phantom{\\cdot}&0\\phantom{.}&\\hspace{-1em}&\\hspace{-1em}\\phantom{\\cdot}&1\\phantom{.}&\\hspace{-1em}&\\hspace{-1em}\\phantom{\\cdot}&0\\phantom{.}&\\hspace{-1em}&\\hspace{-1em}\\phantom{\\cdot}&0\\phantom{.}&\\hspace{-1em}&\\hspace{-1em}\\phantom{\\cdot}\\\\\n",
       "\\end{array}\\right)\n",
       "\\]"
      ],
      "text/plain": [
       "sys[5]"
      ]
     },
     "execution_count": 43,
     "metadata": {},
     "output_type": "execute_result"
    }
   ],
   "source": [
    "lin_odom"
   ]
  },
  {
   "cell_type": "code",
   "execution_count": 44,
   "metadata": {},
   "outputs": [
    {
     "data": {
      "text/plain": [
       "array([0.7019999 , 1.34470641, 0.        , 0.        , 0.        ])"
      ]
     },
     "execution_count": 44,
     "metadata": {},
     "output_type": "execute_result"
    }
   ],
   "source": [
    "linearized_odom([0, 0], 0.7019999, 1.34470641, 0.0, v0=0, w0=0, dt=0.033)"
   ]
  },
  {
   "cell_type": "code",
   "execution_count": 45,
   "metadata": {},
   "outputs": [
    {
     "data": {
      "text/plain": [
       "[0.7019999, 1.34470641, 0.0, 0.0, 0.0]"
      ]
     },
     "execution_count": 45,
     "metadata": {},
     "output_type": "execute_result"
    }
   ],
   "source": [
    "auto_odom_full([0, 0], [0.7019999, 1.34470641, 0.0, 0, 0], [0, 0], {'dt': 0.033})"
   ]
  },
  {
   "cell_type": "code",
   "execution_count": 46,
   "metadata": {},
   "outputs": [
    {
     "data": {
      "text/plain": [
       "[0.7036333455164979, 1.3446930685370815, -0.016335000000000002, 0.0495, -0.495]"
      ]
     },
     "execution_count": 46,
     "metadata": {},
     "output_type": "execute_result"
    }
   ],
   "source": [
    "auto_odom_full(0, [0.7019999, 1.34470641, 0.0, 0, 0], [1, 0], {'dt': 0.033})"
   ]
  },
  {
   "cell_type": "code",
   "execution_count": 47,
   "metadata": {},
   "outputs": [
    {
     "data": {
      "text/plain": [
       "array([ 0.70363324,  1.34473309, -0.016335  ,  0.0495    , -0.495     ])"
      ]
     },
     "execution_count": 47,
     "metadata": {},
     "output_type": "execute_result"
    }
   ],
   "source": [
    "linearized_odom([1, 0], 0.7019999, 1.34470641, 0.0, v0=0, w0=0, dt=0.033)"
   ]
  },
  {
   "cell_type": "code",
   "execution_count": 48,
   "metadata": {},
   "outputs": [],
   "source": [
    "delta_time = 1.0 / env.frame_rate"
   ]
  },
  {
   "cell_type": "code",
   "execution_count": 49,
   "metadata": {},
   "outputs": [
    {
     "data": {
      "image/png": "[encoded data removed]",
      "text/plain": [
       "<Figure size 432x288 with 1 Axes>"
      ]
     },
     "metadata": {},
     "output_type": "display_data"
    },
    {
     "name": "stdout",
     "output_type": "stream",
     "text": [
      "Collision\n"
     ]
    },
    {
     "data": {
      "image/png": "[encoded data removed]",
      "text/plain": [
       "<Figure size 432x288 with 1 Axes>"
      ]
     },
     "metadata": {
      "needs_background": "light"
     },
     "output_type": "display_data"
    }
   ],
   "source": [
    "env.reset()\n",
    "pose = get_position(env)\n",
    "delay = round(0.15/delta_time)\n",
    "actions = []\n",
    "odoms = [pose]\n",
    "odoms_C = [pose]\n",
    "poses = []\n",
    "v_1 = 0\n",
    "w_1 = 0\n",
    "v0 = 0\n",
    "w0 = 0\n",
    "vc = wc = 0\n",
    "v = [0,0]\n",
    "real_v = []\n",
    "w = [0,0]\n",
    "# plt.imshow(np.flip(env.render(mode=\"top_down\"), [0]))\n",
    "for i in range(50):\n",
    "    action = [1,0]\n",
    "    actions.append(action)\n",
    "    obs, reward, done, info = env.step(action)\n",
    "    if reward == -1000:\n",
    "        print(\"Collision\")\n",
    "        break\n",
    "    # Test odometry\n",
    "    real_v.append(info[\"Simulator\"][\"robot_speed\"])\n",
    "    if len(actions) < delay+1:\n",
    "        confronto = my_odom_lin(0, [odoms_C[-1].x, odoms_C[-1].y, odoms_C[-1].theta, vc, wc], [0, 0], {'dt': delta_time}, intorno_a=0)\n",
    "        pc, vc, wc = Position(*confronto[:3]), confronto[3], confronto[4]\n",
    "        res = my_odom_lin(0, [odoms[-1].x, odoms[-1].y, odoms[-1].theta, v0, w0], [0, 0], {'dt': delta_time}, intorno_a=None)\n",
    "        # res = linearized_odom([0,0], odoms[-1].x, odoms[-1].y, odoms[-1].theta, v0=v0, w0=w0, dt=delta_time)\n",
    "        p, v0, w0 = Position(*res[:3]), res[3], res[4]\n",
    "    else:\n",
    "        confronto = my_odom_lin(0, [odoms_C[-1].x, odoms_C[-1].y, odoms_C[-1].theta, vc, wc], [action[0], action[1]], {'dt': delta_time}, intorno_a=0)\n",
    "        pc, vc, wc = Position(*confronto[:3]), confronto[3], confronto[4]\n",
    "        res = my_odom_lin(0, [odoms[-1].x, odoms[-1].y, odoms[-1].theta, v0, w0], [action[0], action[1]], {'dt': delta_time})\n",
    "        # res = linearized_odom([action[1], action[0]], odoms[-1].x, odoms[-1].y, odoms[-1].theta, v0=v0, w0=w0, dt=delta_time, return_result=False)\n",
    "        p, v0, w0 = Position(*res[:3]), res[3], res[4]\n",
    "    v.append(v0)\n",
    "    w.append(w0)\n",
    "    odoms.append(p)\n",
    "    odoms_C.append(pc)\n",
    "    try:\n",
    "        pose = get_position(env)\n",
    "    except ValueError:\n",
    "        print(env.cartesian_from_weird(env.cur_pos, env.cur_angle))\n",
    "        break\n",
    "    poses.append(pose)\n",
    "    plt.scatter(pose.x, pose.y, marker=\"o\", c=\"b\")\n",
    "    # Test odometry\n",
    "    o = get_position(env)\n",
    "    plt.scatter(p.x, p.y, marker=\"*\", c=\"r\")\n",
    "    # plt.scatter(pc.x, pc.y, marker=\"^\", c=\"g\")\n",
    "    ipythondisplay.clear_output(wait=True)\n",
    "    ipythondisplay.display(plt.gcf())"
   ]
  },
  {
   "cell_type": "code",
   "execution_count": 50,
   "metadata": {},
   "outputs": [
    {
     "data": {
      "text/plain": [
       "array([ 0.78174327,  1.23558268, -1.97237943,  0.29456582, -3.589018  ])"
      ]
     },
     "execution_count": 50,
     "metadata": {},
     "output_type": "execute_result"
    }
   ],
   "source": [
    "linearized_odom(action, odoms[-1].x, odoms[-1].y, odoms[-1].theta, v0=v0, w0=w0, dt=delta_time)"
   ]
  },
  {
   "cell_type": "code",
   "execution_count": 51,
   "metadata": {},
   "outputs": [
    {
     "data": {
      "text/plain": [
       "[0.7686605047549463,\n",
       " 1.2230623799029248,\n",
       " -1.9723794333813847,\n",
       " 0.29456582222821065,\n",
       " -3.5890179997782248]"
      ]
     },
     "execution_count": 51,
     "metadata": {},
     "output_type": "execute_result"
    }
   ],
   "source": [
    "auto_odom_full(0, [odoms[-1].x, odoms[-1].y, odoms[-1].theta, v0, w0], action, {'dt': delta_time})"
   ]
  }
 ],
 "metadata": {
  "interpreter": {
   "hash": "07a813fbc0dfa3687c2d7a37dec1fec4acefea469c7e6d8e3ba4eb0d49ad0cad"
  },
  "kernelspec": {
   "display_name": "Python 3.8.10 64-bit ('RACE': venv)",
   "language": "python",
   "name": "python3"
  },
  "language_info": {
   "codemirror_mode": {
    "name": "ipython",
    "version": 3
   },
   "file_extension": ".py",
   "mimetype": "text/x-python",
   "name": "python",
   "nbconvert_exporter": "python",
   "pygments_lexer": "ipython3",
   "version": "3.8.10"
  },
  "orig_nbformat": 4
 },
 "nbformat": 4,
 "nbformat_minor": 2
}
