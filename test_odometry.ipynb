{
 "cells": [
  {
   "cell_type": "code",
   "execution_count": 51,
   "metadata": {},
   "outputs": [],
   "source": [
    "from dataclasses import dataclass\n",
    "\n",
    "import geometry as geo\n",
    "import gym_duckietown\n",
    "import matplotlib.pyplot as plt\n",
    "import numpy as np\n",
    "import pandas as pd\n",
    "\n",
    "from gym_duckietown.simulator import Simulator\n",
    "from IPython import display as ipythondisplay\n",
    "\n",
    "from utils import get_trajectory, get_position, next_position, my_odometry, PWMCommands, Position"
   ]
  },
  {
   "cell_type": "code",
   "execution_count": 52,
   "metadata": {},
   "outputs": [],
   "source": [
    "plt.rcParams['figure.figsize'] = [7, 7]"
   ]
  },
  {
   "cell_type": "code",
   "execution_count": 53,
   "metadata": {},
   "outputs": [],
   "source": [
    "#gym_duckietown is very chatty\n",
    "import logging\n",
    "gym_duckietown.logger.setLevel(logging.WARNING)"
   ]
  },
  {
   "cell_type": "code",
   "execution_count": 54,
   "metadata": {},
   "outputs": [],
   "source": [
    "env = Simulator(\"small_loop\",\n",
    "    full_transparency=True,\n",
    "    domain_rand=False,\n",
    "    user_tile_start=[1,0],\n",
    "    seed=42,\n",
    "    max_steps=float(\"inf\"),\n",
    ")"
   ]
  },
  {
   "cell_type": "code",
   "execution_count": 55,
   "metadata": {},
   "outputs": [],
   "source": [
    "env.unwrapped.start_pose = [[0.11699990272521976, 0, 0.41029359288296474], 0]"
   ]
  },
  {
   "cell_type": "code",
   "execution_count": 56,
   "metadata": {},
   "outputs": [
    {
     "name": "stdout",
     "output_type": "stream",
     "text": [
      "0.0\n",
      "0.0\n",
      "0.0\n",
      "0.0\n",
      "0.09999999999999898\n",
      "0.18333333333333202\n",
      "0.25277777777777843\n",
      "0.31064814814814823\n",
      "0.35887345679012306\n",
      "0.3990612139917682\n",
      "0.4325510116598086\n",
      "0.46045917638317224\n",
      "0.4837159803193125\n",
      "0.5030966502660916\n",
      "0.5192472085550759\n",
      "0.53270600712923\n",
      "0.5439216726076912\n",
      "0.5532680605064111\n",
      "0.5610567170886738\n",
      "0.5675472642405621\n",
      "0.5729560535338007\n",
      "0.5774633779448346\n",
      "0.5812194816206973\n",
      "0.584349568017245\n",
      "0.5869579733477037\n",
      "0.5891316444564243\n",
      "0.5909430370470203\n",
      "0.5924525308725159\n",
      "0.5937104423937622\n",
      "0.5947587019948042\n",
      "0.5956322516623325\n",
      "0.5963602097186138\n",
      "0.596966841432176\n",
      "0.5974723678601479\n",
      "0.5978936398834533\n",
      "0.5982446999028812\n",
      "0.5985372499190666\n",
      "0.5987810415992234\n",
      "0.5989842013326863\n",
      "0.5991535011105698\n",
      "0.5992945842588071\n",
      "0.5994121535490105\n",
      "0.5995101279575032\n",
      "0.599591773297925\n",
      "0.5996598110815987\n",
      "0.5997165092346712\n",
      "0.599763757695555\n",
      "0.5998031314129615\n",
      "0.5998359428441336\n",
      "0.5998632857034503\n",
      "0.5998860714195375\n",
      "0.5999050595162858\n",
      "0.5999208829302383\n",
      "0.5999340691085275\n",
      "0.5999450575904386\n",
      "0.5999542146587022\n",
      "0.5999618455489153\n",
      "0.5999682046240951\n"
     ]
    }
   ],
   "source": [
    "env.reset()\n",
    "for _ in range(100):\n",
    "    obs, reward, done, info = env.step([1,1])\n",
    "    if done:\n",
    "        break\n",
    "    print(info[\"Simulator\"][\"robot_speed\"])"
   ]
  },
  {
   "cell_type": "code",
   "execution_count": 57,
   "metadata": {},
   "outputs": [],
   "source": [
    "delta_time = 1.0 / env.frame_rate"
   ]
  },
  {
   "cell_type": "markdown",
   "metadata": {},
   "source": [
    "https://drive.google.com/file/d/19U1DUo3GtqHxncEKLn2d6RRdLTLgD0Bv/view"
   ]
  },
  {
   "cell_type": "code",
   "execution_count": 59,
   "metadata": {},
   "outputs": [],
   "source": [
    "u1 = 5\n",
    "u2 = 0\n",
    "u3 = 0\n",
    "w1 = 4\n",
    "w2 = 0\n",
    "w3 = 0\n",
    "# parameters for forced dynamics\n",
    "uar = 1.5\n",
    "ual = 1.5\n",
    "war = 15  # modify this for trim\n",
    "wal = 15\n",
    "\n",
    "u_alpha_r = uar\n",
    "u_alpha_l = ual\n",
    "w_alpha_r = war\n",
    "w_alpha_l = wal"
   ]
  },
  {
   "cell_type": "code",
   "execution_count": 60,
   "metadata": {},
   "outputs": [],
   "source": [
    "R = 0.067 / 2  # 6.7 cm diameter\n",
    "D = 0.102"
   ]
  },
  {
   "cell_type": "code",
   "execution_count": 61,
   "metadata": {},
   "outputs": [],
   "source": [
    "def get_acceleration(action, u=None, w=None):\n",
    "    \"\"\"\n",
    "    Second derivative of x\n",
    "    xdotdot[0] = acc longitudinal\n",
    "    xdotdot[1] = acc angular\n",
    "    \"\"\"\n",
    "    # https://drive.google.com/file/d/19U1DUo3GtqHxncEKLn2d6RRdLTLgD0Bv/view\n",
    "    # Paragraph 5.1.5\n",
    "    \n",
    "    # wr, wl\n",
    "    U = np.array([action[1], action[0]])\n",
    "    V = U.reshape(U.size, 1)\n",
    "    V = np.clip(V, -1, +1)\n",
    "\n",
    "    # Previous step linear and angular speed\n",
    "    # u, w = longit_prev, angular_prev\n",
    "\n",
    "    ## Calculate Dynamics\n",
    "    # nonlinear Dynamics - autonomous response\n",
    "    f_dynamic = np.array([[-u1 * u - u2 * w + u3 * w ** 2], [-w1 * w - w2 * u - w3 * u * w]])  #\n",
    "    # input Matrix\n",
    "    B = np.array([[u_alpha_r, u_alpha_l], [w_alpha_r, -w_alpha_l]])\n",
    "    # forced response\n",
    "    f_forced = np.matmul(B, V)\n",
    "    # acceleration\n",
    "    x_dot_dot = f_dynamic + f_forced\n",
    "    return x_dot_dot"
   ]
  },
  {
   "cell_type": "code",
   "execution_count": 62,
   "metadata": {},
   "outputs": [],
   "source": [
    "def myodom(action, x0, y0, theta0, v0=0, w0=0, dt=0.033):\n",
    "    x_dot_dot, w_dot_dot = get_acceleration(action, u=v0, w=w0)\n",
    "\n",
    "    v1 = v0 + x_dot_dot[0]*dt\n",
    "    w1 = w0 + w_dot_dot[0]*dt\n",
    "\n",
    "    # Runge Kutta\n",
    "    x1 = x0 + v0*dt*np.cos(theta0 + w0*dt/2)\n",
    "    y1 = y0 + v0*dt*np.sin(theta0 + w0*dt/2)\n",
    "    theta1 = theta0 + w0*dt\n",
    "\n",
    "    return Position(x1, y1, theta1), v1, w1"
   ]
  },
  {
   "cell_type": "code",
   "execution_count": 63,
   "metadata": {},
   "outputs": [
    {
     "data": {
      "image/png": "[encoded data removed]",
      "text/plain": [
       "<Figure size 504x504 with 1 Axes>"
      ]
     },
     "metadata": {},
     "output_type": "display_data"
    },
    {
     "data": {
      "image/png": "[encoded data removed]",
      "text/plain": [
       "<Figure size 504x504 with 1 Axes>"
      ]
     },
     "metadata": {
      "needs_background": "light"
     },
     "output_type": "display_data"
    }
   ],
   "source": [
    "env.reset()\n",
    "pose = get_position(env)\n",
    "delay = round(0.15/delta_time)\n",
    "actions = []\n",
    "odoms = [pose]\n",
    "poses = []\n",
    "v0 = 0\n",
    "w0 = 0\n",
    "v = []\n",
    "real_v = []\n",
    "w = []\n",
    "# plt.imshow(np.flip(env.render(mode=\"top_down\"), [0]))\n",
    "for i in range(10):\n",
    "    action = [1,0.7]\n",
    "    actions.append(action)\n",
    "    obs, reward, done, info = env.step(action)\n",
    "    if reward == -1000:\n",
    "        print(\"Collision\")\n",
    "        break\n",
    "    # Test odometry\n",
    "    real_v.append(info[\"Simulator\"][\"robot_speed\"])\n",
    "    if len(actions) < delay:\n",
    "        p, v0, w0 = myodom([0,0], odoms[-1].x, odoms[-1].y, odoms[-1].theta, v0=v0, w0=w0, dt=delta_time)\n",
    "    else:\n",
    "        p, v0, w0 = myodom(action, \n",
    "        odoms[-1].x, odoms[-1].y, odoms[-1].theta, \n",
    "        v0=v0, w0=w0, dt=delta_time)\n",
    "    v.append(v0)\n",
    "    w.append(w0)\n",
    "    odoms.append(p)\n",
    "    try:\n",
    "        pose = get_position(env)\n",
    "    except ValueError:\n",
    "        print(env.cartesian_from_weird(env.cur_pos, env.cur_angle))\n",
    "        break\n",
    "    poses.append(pose)\n",
    "    # print(loss(np.array([0,1]*int(horizon_len/2)).reshape(-1), pose, traj, index))\n",
    "    plt.scatter(pose.x, pose.y, marker=\"o\", c=\"b\")\n",
    "    # Test odometry\n",
    "    o = get_position(env)\n",
    "    # plt.scatter(o.x, o.y, marker=\"*\", c=\"r\")\n",
    "    plt.scatter(p.x, p.y, marker=\"*\", c=\"r\")\n",
    "    # plt.imshow(obs)\n",
    "    ipythondisplay.clear_output(wait=True)\n",
    "    ipythondisplay.display(plt.gcf())"
   ]
  }
 ],
 "metadata": {
  "interpreter": {
   "hash": "07a813fbc0dfa3687c2d7a37dec1fec4acefea469c7e6d8e3ba4eb0d49ad0cad"
  },
  "kernelspec": {
   "display_name": "Python 3.8.10 64-bit ('RACE': venv)",
   "language": "python",
   "name": "python3"
  },
  "language_info": {
   "codemirror_mode": {
    "name": "ipython",
    "version": 3
   },
   "file_extension": ".py",
   "mimetype": "text/x-python",
   "name": "python",
   "nbconvert_exporter": "python",
   "pygments_lexer": "ipython3",
   "version": "3.8.10"
  },
  "orig_nbformat": 4
 },
 "nbformat": 4,
 "nbformat_minor": 2
}
